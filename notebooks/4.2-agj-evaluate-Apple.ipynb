{
 "cells": [
  {
   "cell_type": "code",
   "execution_count": 1,
   "metadata": {},
   "outputs": [],
   "source": [
    "%load_ext autoreload\n",
    "%autoreload 2"
   ]
  },
  {
   "cell_type": "code",
   "execution_count": 2,
   "metadata": {},
   "outputs": [],
   "source": [
    "from IPython import display\n",
    "from matplotlib import pyplot as plt\n",
    "%matplotlib inline"
   ]
  },
  {
   "cell_type": "code",
   "execution_count": 3,
   "metadata": {},
   "outputs": [],
   "source": [
    "import pathlib\n",
    "\n",
    "import numpy as np\n",
    "import pandas as pd\n",
    "import seaborn as sns\n",
    "\n",
    "import tensorflow as tf\n",
    "\n",
    "from ikapati.data import io\n",
    "from ikapati.visualization import visualize"
   ]
  },
  {
   "cell_type": "code",
   "execution_count": 4,
   "metadata": {},
   "outputs": [
    {
     "name": "stdout",
     "output_type": "stream",
     "text": [
      "species: Apple - train_dir: ../data/processed/Apple - metadata_file_path: ../data/processed/Apple/metadata.json\n"
     ]
    }
   ],
   "source": [
    "species = \"Apple\"\n",
    "data_dir = pathlib.Path(\"../data/processed\")\n",
    "train_dir = data_dir.joinpath(species)\n",
    "model_dir = pathlib.Path(\"../models\")\n",
    "metadata_file_path = train_dir.joinpath(\"metadata.json\")\n",
    "base_dir = pathlib.Path.cwd()\n",
    "\n",
    "print(f\"species: {species} - train_dir: {str(train_dir)} - metadata_file_path: {str(metadata_file_path)}\")"
   ]
  },
  {
   "cell_type": "code",
   "execution_count": 5,
   "metadata": {},
   "outputs": [
    {
     "name": "stdout",
     "output_type": "stream",
     "text": [
      "model_id: 4347264e-426c-4a2f-8cbe-3ac61a421685\n"
     ]
    }
   ],
   "source": [
    "metadata = io.read_metadata(str(metadata_file_path))\n",
    "model_id = metadata[\"id\"]\n",
    "\n",
    "print(f\"model_id: {model_id}\")"
   ]
  },
  {
   "cell_type": "code",
   "execution_count": 6,
   "metadata": {},
   "outputs": [],
   "source": [
    "training_log_path = model_dir.joinpath(model_id, \"training.log\")\n",
    "training_log = pd.read_csv(training_log_path)"
   ]
  },
  {
   "cell_type": "code",
   "execution_count": 7,
   "metadata": {},
   "outputs": [
    {
     "data": {
      "text/plain": [
       "array(['models/4347264e-426c-4a2f-8cbe-3ac61a421685/2020-02-03__03_4307',\n",
       "       'models/4347264e-426c-4a2f-8cbe-3ac61a421685/2020-02-03__03_5230',\n",
       "       'models/4347264e-426c-4a2f-8cbe-3ac61a421685/2020-02-03__03_5418',\n",
       "       'models/4347264e-426c-4a2f-8cbe-3ac61a421685/2020-02-03__03_5605'],\n",
       "      dtype=object)"
      ]
     },
     "execution_count": 7,
     "metadata": {},
     "output_type": "execute_result"
    }
   ],
   "source": [
    "model_dir_paths = training_log[\"model_dir_path\"].values\n",
    "model_dir_paths"
   ]
  },
  {
   "cell_type": "code",
   "execution_count": 8,
   "metadata": {},
   "outputs": [
    {
     "data": {
      "text/html": [
       "<div>\n",
       "<style scoped>\n",
       "    .dataframe tbody tr th:only-of-type {\n",
       "        vertical-align: middle;\n",
       "    }\n",
       "\n",
       "    .dataframe tbody tr th {\n",
       "        vertical-align: top;\n",
       "    }\n",
       "\n",
       "    .dataframe thead th {\n",
       "        text-align: right;\n",
       "    }\n",
       "</style>\n",
       "<table border=\"1\" class=\"dataframe\">\n",
       "  <thead>\n",
       "    <tr style=\"text-align: right;\">\n",
       "      <th></th>\n",
       "      <th>start_time</th>\n",
       "      <th>end_time</th>\n",
       "      <th>activation</th>\n",
       "      <th>model_dir_path</th>\n",
       "      <th>learning_rate</th>\n",
       "      <th>dropout</th>\n",
       "      <th>epochs</th>\n",
       "      <th>batch_size</th>\n",
       "    </tr>\n",
       "  </thead>\n",
       "  <tbody>\n",
       "    <tr>\n",
       "      <th>0</th>\n",
       "      <td>2020-02-03__03_4307</td>\n",
       "      <td>2020-02-03__03_4436</td>\n",
       "      <td>relu</td>\n",
       "      <td>models/4347264e-426c-4a2f-8cbe-3ac61a421685/20...</td>\n",
       "      <td>0.100</td>\n",
       "      <td>False</td>\n",
       "      <td>20</td>\n",
       "      <td>64</td>\n",
       "    </tr>\n",
       "    <tr>\n",
       "      <th>1</th>\n",
       "      <td>2020-02-03__03_5230</td>\n",
       "      <td>2020-02-03__03_5357</td>\n",
       "      <td>relu</td>\n",
       "      <td>models/4347264e-426c-4a2f-8cbe-3ac61a421685/20...</td>\n",
       "      <td>0.010</td>\n",
       "      <td>False</td>\n",
       "      <td>20</td>\n",
       "      <td>64</td>\n",
       "    </tr>\n",
       "    <tr>\n",
       "      <th>2</th>\n",
       "      <td>2020-02-03__03_5418</td>\n",
       "      <td>2020-02-03__03_5545</td>\n",
       "      <td>relu</td>\n",
       "      <td>models/4347264e-426c-4a2f-8cbe-3ac61a421685/20...</td>\n",
       "      <td>0.001</td>\n",
       "      <td>False</td>\n",
       "      <td>20</td>\n",
       "      <td>64</td>\n",
       "    </tr>\n",
       "    <tr>\n",
       "      <th>3</th>\n",
       "      <td>2020-02-03__03_5605</td>\n",
       "      <td>2020-02-03__03_5734</td>\n",
       "      <td>relu</td>\n",
       "      <td>models/4347264e-426c-4a2f-8cbe-3ac61a421685/20...</td>\n",
       "      <td>0.001</td>\n",
       "      <td>True</td>\n",
       "      <td>20</td>\n",
       "      <td>64</td>\n",
       "    </tr>\n",
       "  </tbody>\n",
       "</table>\n",
       "</div>"
      ],
      "text/plain": [
       "            start_time             end_time activation  \\\n",
       "0  2020-02-03__03_4307  2020-02-03__03_4436       relu   \n",
       "1  2020-02-03__03_5230  2020-02-03__03_5357       relu   \n",
       "2  2020-02-03__03_5418  2020-02-03__03_5545       relu   \n",
       "3  2020-02-03__03_5605  2020-02-03__03_5734       relu   \n",
       "\n",
       "                                      model_dir_path  learning_rate  dropout  \\\n",
       "0  models/4347264e-426c-4a2f-8cbe-3ac61a421685/20...          0.100    False   \n",
       "1  models/4347264e-426c-4a2f-8cbe-3ac61a421685/20...          0.010    False   \n",
       "2  models/4347264e-426c-4a2f-8cbe-3ac61a421685/20...          0.001    False   \n",
       "3  models/4347264e-426c-4a2f-8cbe-3ac61a421685/20...          0.001     True   \n",
       "\n",
       "   epochs  batch_size  \n",
       "0      20          64  \n",
       "1      20          64  \n",
       "2      20          64  \n",
       "3      20          64  "
      ]
     },
     "execution_count": 8,
     "metadata": {},
     "output_type": "execute_result"
    }
   ],
   "source": [
    "training_log"
   ]
  },
  {
   "cell_type": "markdown",
   "metadata": {},
   "source": [
    "# Evaluation"
   ]
  },
  {
   "cell_type": "code",
   "execution_count": 9,
   "metadata": {},
   "outputs": [],
   "source": [
    "def run_evaluation(log_row):\n",
    "    model_dir_path = log_row.model_dir_path\n",
    "    learning_rate = log_row.learning_rate\n",
    "    activation = log_row.activation\n",
    "    model_metadata_file_path = pathlib.Path(\"..\", model_dir_path, \"metadata.json\")\n",
    "    model_metadata = io.read_metadata(str(model_metadata_file_path))\n",
    "    print(\n",
    "        \"batch_size:\", model_metadata[\"arguments\"][\"batch_size\"], \n",
    "        \"activation:\", model_metadata[\"arguments\"][\"epochs\"],\n",
    "        \"architecture:\", model_metadata[\"arguments\"][\"architecture\"],\n",
    "        \"dropout:\", model_metadata[\"arguments\"][\"dropout\"],\n",
    "    )\n",
    "    dropout = \"-dropout\" if model_metadata[\"arguments\"][\"dropout\"] else \"\"\n",
    "    history = model_metadata[\"history\"]\n",
    "    metrics_df = visualize.create_metrics_dataframe(history)\n",
    "    loss_plot = visualize.learning_curves(\"loss\", metrics_df)\n",
    "    visualize.save_plot(loss_plot, f\"../reports/figures/{species}-{activation}{dropout}_{learning_rate}.loss.svg\")\n",
    "    plt.clf()\n",
    "    accuracy_plot = visualize.learning_curves(\"accuracy\", metrics_df)\n",
    "    visualize.save_plot(accuracy_plot, f\"../reports/figures/{species}-{activation}{dropout}_{learning_rate}.accuracy.svg\")\n",
    "    plt.clf()"
   ]
  },
  {
   "cell_type": "code",
   "execution_count": 10,
   "metadata": {},
   "outputs": [
    {
     "name": "stdout",
     "output_type": "stream",
     "text": [
      "batch_size: 64 activation: 20 architecture: alexnet dropout: False\n",
      "batch_size: 64 activation: 20 architecture: alexnet dropout: False\n",
      "batch_size: 64 activation: 20 architecture: alexnet dropout: False\n",
      "batch_size: 64 activation: 20 architecture: alexnet dropout: True\n"
     ]
    },
    {
     "data": {
      "text/plain": [
       "<Figure size 432x288 with 0 Axes>"
      ]
     },
     "metadata": {},
     "output_type": "display_data"
    }
   ],
   "source": [
    "for index, log_row in training_log.iterrows():\n",
    "    run_evaluation(log_row)"
   ]
  },
  {
   "cell_type": "markdown",
   "metadata": {},
   "source": [
    "# Test Dataset"
   ]
  },
  {
   "cell_type": "code",
   "execution_count": 10,
   "metadata": {},
   "outputs": [],
   "source": [
    "def evaluate_on_test_data(model_dir_path, batch_size=32):\n",
    "    model_path = pathlib.Path(\"..\", model_dir_path, \"final.h5\")\n",
    "    model_metadata_file_path = pathlib.Path(\"..\", model_dir_path, \"metadata.json\")\n",
    "    model_metadata = io.read_metadata(str(model_metadata_file_path))\n",
    "    print(\n",
    "        \"batch_size:\", model_metadata[\"arguments\"][\"batch_size\"], \n",
    "        \"activation:\", model_metadata[\"arguments\"][\"epochs\"],\n",
    "        \"architecture:\", model_metadata[\"arguments\"][\"architecture\"],\n",
    "        \"dropout:\", model_metadata[\"arguments\"][\"dropout\"],\n",
    "    )\n",
    "    model = tf.keras.models.load_model(model_path)\n",
    "    test_data_path = train_dir.joinpath(\"test.tfrecord\")\n",
    "    test_dataset = io.read_dataset(str(test_data_path), batch_size, metadata[\"num_classes\"])\n",
    "    steps = metadata[\"file_counts\"][\"test\"] // batch_size\n",
    "    model.evaluate(test_dataset, steps=steps)"
   ]
  },
  {
   "cell_type": "code",
   "execution_count": 61,
   "metadata": {},
   "outputs": [
    {
     "name": "stdout",
     "output_type": "stream",
     "text": [
      "batch_size: 64 activation: 20 architecture: alexnet dropout: False\n",
      "9/9 [==============================] - 1s 57ms/step - loss: 1.3033 - accuracy: 0.5417\n",
      "batch_size: 64 activation: 20 architecture: alexnet dropout: False\n",
      "9/9 [==============================] - 1s 56ms/step - loss: 1.1683 - accuracy: 0.5486\n",
      "batch_size: 64 activation: 20 architecture: alexnet dropout: False\n",
      "9/9 [==============================] - 1s 57ms/step - loss: 0.2791 - accuracy: 0.9340\n",
      "batch_size: 64 activation: 20 architecture: alexnet dropout: True\n",
      "9/9 [==============================] - 0s 51ms/step - loss: 0.3911 - accuracy: 0.9097\n"
     ]
    }
   ],
   "source": [
    "for index, log_row in training_log.iterrows():\n",
    "    evaluate_on_test_data(log_row.model_dir_path)"
   ]
  },
  {
   "cell_type": "code",
   "execution_count": 16,
   "metadata": {},
   "outputs": [],
   "source": [
    "tf_model_path = pathlib.Path(\"..\", model_dir_paths[2], \"model.tflite\")"
   ]
  },
  {
   "cell_type": "code",
   "execution_count": 19,
   "metadata": {},
   "outputs": [
    {
     "data": {
      "text/plain": [
       "array([  1, 256, 256,   3], dtype=int32)"
      ]
     },
     "execution_count": 19,
     "metadata": {},
     "output_type": "execute_result"
    }
   ],
   "source": [
    "input_shape"
   ]
  },
  {
   "cell_type": "code",
   "execution_count": 89,
   "metadata": {},
   "outputs": [],
   "source": [
    "filename = pathlib.Path(\"..\", \"data/raw/Apple___Black_rot/1a4e1884-ab1a-4fe9-afe2-610ae9aa1162___JR_FrgE.S 2826.JPG\")"
   ]
  },
  {
   "cell_type": "code",
   "execution_count": 90,
   "metadata": {},
   "outputs": [],
   "source": [
    "from ikapati.data.image_processing import normalize"
   ]
  },
  {
   "cell_type": "code",
   "execution_count": 92,
   "metadata": {
    "scrolled": true
   },
   "outputs": [],
   "source": [
    "with open(filename, \"rb\") as image_file:\n",
    "    image_raw = image_file.read()\n",
    "    image = tf.image.decode_jpeg(image_raw, channels=3)\n",
    "    image = tf.reshape(image, [256, 256, 3])\n",
    "    image, _ = normalize(image, None)"
   ]
  },
  {
   "cell_type": "code",
   "execution_count": 93,
   "metadata": {},
   "outputs": [
    {
     "name": "stdout",
     "output_type": "stream",
     "text": [
      "[[3.5670214e-06 9.9997497e-01 1.2801202e-07 2.1354646e-05]]\n"
     ]
    }
   ],
   "source": [
    "# https://www.tensorflow.org/lite/guide/inference\n",
    "\n",
    "# Load TFLite model and allocate tensors.\n",
    "interpreter = tf.lite.Interpreter(model_path=str(tf_model_path))\n",
    "interpreter.allocate_tensors()\n",
    "\n",
    "# Get input and output tensors.\n",
    "input_details = interpreter.get_input_details()\n",
    "output_details = interpreter.get_output_details()\n",
    "\n",
    "# Test model on random input data.\n",
    "input_shape = input_details[0]['shape']\n",
    "interpreter.set_tensor(input_details[0]['index'], np.array([image]))\n",
    "\n",
    "interpreter.invoke()\n",
    "\n",
    "# The function `get_tensor()` returns a copy of the tensor data.\n",
    "# Use `tensor()` in order to get a pointer to the tensor.\n",
    "output_data = interpreter.get_tensor(output_details[0]['index'])\n",
    "print(output_data)"
   ]
  },
  {
   "cell_type": "code",
   "execution_count": 94,
   "metadata": {},
   "outputs": [
    {
     "data": {
      "text/plain": [
       "['Apple___Apple_scab',\n",
       " 'Apple___Black_rot',\n",
       " 'Apple___Cedar_apple_rust',\n",
       " 'Apple___healthy']"
      ]
     },
     "execution_count": 94,
     "metadata": {},
     "output_type": "execute_result"
    }
   ],
   "source": [
    "metadata[\"class_names\"]"
   ]
  },
  {
   "cell_type": "code",
   "execution_count": 95,
   "metadata": {},
   "outputs": [
    {
     "data": {
      "text/plain": [
       "1"
      ]
     },
     "execution_count": 95,
     "metadata": {},
     "output_type": "execute_result"
    }
   ],
   "source": [
    "np.argmax(output_data)"
   ]
  },
  {
   "cell_type": "code",
   "execution_count": 96,
   "metadata": {},
   "outputs": [
    {
     "data": {
      "text/plain": [
       "TensorShape([1, 256, 256, 3])"
      ]
     },
     "execution_count": 96,
     "metadata": {},
     "output_type": "execute_result"
    }
   ],
   "source": [
    "input_data.shape"
   ]
  },
  {
   "cell_type": "code",
   "execution_count": 98,
   "metadata": {},
   "outputs": [
    {
     "ename": "NameError",
     "evalue": "name 'model_metadata' is not defined",
     "output_type": "error",
     "traceback": [
      "\u001b[0;31m---------------------------------------------------------------------------\u001b[0m",
      "\u001b[0;31mNameError\u001b[0m                                 Traceback (most recent call last)",
      "\u001b[0;32m<ipython-input-98-14eb71b366a1>\u001b[0m in \u001b[0;36m<module>\u001b[0;34m\u001b[0m\n\u001b[0;32m----> 1\u001b[0;31m \u001b[0mmodel_metadata\u001b[0m\u001b[0;34m\u001b[0m\u001b[0;34m\u001b[0m\u001b[0m\n\u001b[0m",
      "\u001b[0;31mNameError\u001b[0m: name 'model_metadata' is not defined"
     ]
    }
   ],
   "source": []
  },
  {
   "cell_type": "code",
   "execution_count": null,
   "metadata": {},
   "outputs": [],
   "source": []
  }
 ],
 "metadata": {
  "kernelspec": {
   "display_name": "Python 3",
   "language": "python",
   "name": "python3"
  },
  "language_info": {
   "codemirror_mode": {
    "name": "ipython",
    "version": 3
   },
   "file_extension": ".py",
   "mimetype": "text/x-python",
   "name": "python",
   "nbconvert_exporter": "python",
   "pygments_lexer": "ipython3",
   "version": "3.7.6"
  }
 },
 "nbformat": 4,
 "nbformat_minor": 4
}
