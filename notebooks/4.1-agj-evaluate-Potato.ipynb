{
 "cells": [
  {
   "cell_type": "code",
   "execution_count": 1,
   "metadata": {},
   "outputs": [],
   "source": [
    "%load_ext autoreload\n",
    "%autoreload 2"
   ]
  },
  {
   "cell_type": "code",
   "execution_count": 2,
   "metadata": {},
   "outputs": [],
   "source": [
    "from IPython import display\n",
    "from matplotlib import pyplot as plt\n",
    "%matplotlib inline"
   ]
  },
  {
   "cell_type": "code",
   "execution_count": 3,
   "metadata": {},
   "outputs": [],
   "source": [
    "import pathlib\n",
    "\n",
    "import numpy as np\n",
    "import pandas as pd\n",
    "import seaborn as sns\n",
    "\n",
    "from ikapati.data import io\n",
    "from ikapati.visualization import visualize"
   ]
  },
  {
   "cell_type": "code",
   "execution_count": 4,
   "metadata": {},
   "outputs": [
    {
     "name": "stdout",
     "output_type": "stream",
     "text": [
      "species: Potato - train_dir: ../data/processed/Potato - metadata_file_path: ../data/processed/Potato/metadata.json\n"
     ]
    }
   ],
   "source": [
    "species = \"Potato\"\n",
    "data_dir = pathlib.Path(\"../data/processed\")\n",
    "train_dir = data_dir.joinpath(species)\n",
    "model_dir = pathlib.Path(\"../models\")\n",
    "metadata_file_path = train_dir.joinpath(\"metadata.json\")\n",
    "base_dir = pathlib.Path.cwd()\n",
    "\n",
    "print(f\"species: {species} - train_dir: {str(train_dir)} - metadata_file_path: {str(metadata_file_path)}\")"
   ]
  },
  {
   "cell_type": "code",
   "execution_count": 5,
   "metadata": {},
   "outputs": [
    {
     "name": "stdout",
     "output_type": "stream",
     "text": [
      "model_id: bdf2d925-484f-48ff-b071-62be7c3b6abb\n"
     ]
    }
   ],
   "source": [
    "metadata = io.read_metadata(str(metadata_file_path))\n",
    "model_id = metadata[\"id\"]\n",
    "\n",
    "print(f\"model_id: {model_id}\")"
   ]
  },
  {
   "cell_type": "code",
   "execution_count": 6,
   "metadata": {},
   "outputs": [
    {
     "data": {
      "text/plain": [
       "{'relu': 'models/bdf2d925-484f-48ff-b071-62be7c3b6abb/2020-02-02__20_1255'}"
      ]
     },
     "execution_count": 6,
     "metadata": {},
     "output_type": "execute_result"
    }
   ],
   "source": [
    "training_log_path = model_dir.joinpath(model_id, \"training.log\")\n",
    "\n",
    "with open(training_log_path) as log_file:\n",
    "    logs = log_file.readlines()\n",
    "    training_logs = dict([log.strip().split(\"\\t\") for log in logs])\n",
    "    \n",
    "training_logs"
   ]
  },
  {
   "cell_type": "code",
   "execution_count": 7,
   "metadata": {},
   "outputs": [
    {
     "data": {
      "text/plain": [
       "[PosixPath('../models/bdf2d925-484f-48ff-b071-62be7c3b6abb/2020-02-02__20_1255'),\n",
       " PosixPath('../models/bdf2d925-484f-48ff-b071-62be7c3b6abb/training.log')]"
      ]
     },
     "execution_count": 7,
     "metadata": {},
     "output_type": "execute_result"
    }
   ],
   "source": [
    "list(pathlib.Path(\"../models\", model_id).glob(\"*/\"))"
   ]
  },
  {
   "cell_type": "markdown",
   "metadata": {},
   "source": [
    "## ReLU"
   ]
  },
  {
   "cell_type": "code",
   "execution_count": 8,
   "metadata": {},
   "outputs": [],
   "source": [
    "model_metadata_file_path = pathlib.Path(\"..\", training_logs[\"relu\"], \"metadata.json\")\n",
    "model_metadata = io.read_metadata(str(model_metadata_file_path))"
   ]
  },
  {
   "cell_type": "code",
   "execution_count": 9,
   "metadata": {
    "scrolled": true
   },
   "outputs": [
    {
     "data": {
      "text/plain": [
       "{'id': 'bdf2d925-484f-48ff-b071-62be7c3b6abb',\n",
       " 'start_time': '2020-02-02__20_1255',\n",
       " 'arguments': {'batch_size': 64,\n",
       "  'epochs': 20,\n",
       "  'monitor': 'val_loss',\n",
       "  'activation': 'relu',\n",
       "  'early_stopping': False,\n",
       "  'architecture': 'alexnet'},\n",
       " 'dataset': {'id': 'bdf2d925-484f-48ff-b071-62be7c3b6abb',\n",
       "  'species': 'Potato',\n",
       "  'num_classes': 3,\n",
       "  'class_names': ['Potato___Early_blight',\n",
       "   'Potato___Late_blight',\n",
       "   'Potato___healthy'],\n",
       "  'created_date': '2020-02-02 18:49:05',\n",
       "  'file_counts': {'train': 1721, 'test': 215, 'eval': 216}},\n",
       " 'history': {'loss': [1.2655320809437678,\n",
       "   0.5236138151242182,\n",
       "   0.42985299229621887,\n",
       "   0.4174472403067809,\n",
       "   0.3328513219379462,\n",
       "   0.26311533554242206,\n",
       "   0.1397611076155534,\n",
       "   0.11890444890237771,\n",
       "   0.1212942352375159,\n",
       "   0.10623736962532768,\n",
       "   0.06580112093629745,\n",
       "   0.05424267021366037,\n",
       "   0.05762320337817073,\n",
       "   0.09109535290358159,\n",
       "   0.15371449599758938,\n",
       "   0.07598512404813217,\n",
       "   0.04543044833609691,\n",
       "   0.024114651307732295,\n",
       "   0.03050652738266553,\n",
       "   0.028780191948709007],\n",
       "  'accuracy': [0.5096153616905212,\n",
       "   0.8245192170143127,\n",
       "   0.856370210647583,\n",
       "   0.8497596383094788,\n",
       "   0.8810096383094788,\n",
       "   0.8918269276618958,\n",
       "   0.9543269276618958,\n",
       "   0.956129789352417,\n",
       "   0.9525240659713745,\n",
       "   0.9645432829856873,\n",
       "   0.9753605723381042,\n",
       "   0.9753605723381042,\n",
       "   0.9771634340286255,\n",
       "   0.9699519276618958,\n",
       "   0.9573317170143127,\n",
       "   0.9753605723381042,\n",
       "   0.9849759340286255,\n",
       "   0.9933894276618958,\n",
       "   0.9879807829856873,\n",
       "   0.989182710647583],\n",
       "  'val_loss': [0.649148186047872,\n",
       "   0.491034468015035,\n",
       "   0.43634043137232464,\n",
       "   0.3543340861797333,\n",
       "   0.3296131094296773,\n",
       "   0.1669366459051768,\n",
       "   0.08578475564718246,\n",
       "   0.14309664567311606,\n",
       "   0.09036694218715031,\n",
       "   0.22931553175052008,\n",
       "   0.05554928630590439,\n",
       "   0.09802443037430446,\n",
       "   0.25933721164862317,\n",
       "   0.9077353874842325,\n",
       "   0.1214716484149297,\n",
       "   0.13128639260927835,\n",
       "   0.07694048186143239,\n",
       "   0.07276114945610364,\n",
       "   0.08998667448759079,\n",
       "   0.11013421912988026],\n",
       "  'val_accuracy': [0.7760416865348816,\n",
       "   0.84375,\n",
       "   0.8333333134651184,\n",
       "   0.8541666865348816,\n",
       "   0.8802083134651184,\n",
       "   0.9322916865348816,\n",
       "   0.9635416865348816,\n",
       "   0.953125,\n",
       "   0.96875,\n",
       "   0.921875,\n",
       "   0.9739583134651184,\n",
       "   0.9635416865348816,\n",
       "   0.9114583134651184,\n",
       "   0.8489583134651184,\n",
       "   0.9479166865348816,\n",
       "   0.953125,\n",
       "   0.9791666865348816,\n",
       "   0.9739583134651184,\n",
       "   0.96875,\n",
       "   0.9583333134651184]}}"
      ]
     },
     "execution_count": 9,
     "metadata": {},
     "output_type": "execute_result"
    }
   ],
   "source": [
    "model_metadata"
   ]
  },
  {
   "cell_type": "code",
   "execution_count": 10,
   "metadata": {},
   "outputs": [],
   "source": [
    "history = model_metadata[\"history\"]"
   ]
  },
  {
   "cell_type": "code",
   "execution_count": 11,
   "metadata": {},
   "outputs": [],
   "source": [
    "metrics_df = visualize.create_metrics_dataframe(history)"
   ]
  },
  {
   "cell_type": "code",
   "execution_count": 12,
   "metadata": {},
   "outputs": [
    {
     "data": {
      "image/png": "[encoded data removed]",
      "text/plain": [
       "<Figure size 432x288 with 1 Axes>"
      ]
     },
     "metadata": {
      "needs_background": "light"
     },
     "output_type": "display_data"
    }
   ],
   "source": [
    "loss_plot = visualize.learning_curves(\"loss\", metrics_df)"
   ]
  },
  {
   "cell_type": "code",
   "execution_count": 13,
   "metadata": {},
   "outputs": [
    {
     "data": {
      "image/png": "[encoded data removed]",
      "text/plain": [
       "<Figure size 432x288 with 1 Axes>"
      ]
     },
     "metadata": {
      "needs_background": "light"
     },
     "output_type": "display_data"
    }
   ],
   "source": [
    "accuracy_plot = visualize.learning_curves(\"accuracy\", metrics_df)"
   ]
  },
  {
   "cell_type": "code",
   "execution_count": null,
   "metadata": {},
   "outputs": [],
   "source": []
  }
 ],
 "metadata": {
  "kernelspec": {
   "display_name": "Python 3",
   "language": "python",
   "name": "python3"
  },
  "language_info": {
   "codemirror_mode": {
    "name": "ipython",
    "version": 3
   },
   "file_extension": ".py",
   "mimetype": "text/x-python",
   "name": "python",
   "nbconvert_exporter": "python",
   "pygments_lexer": "ipython3",
   "version": "3.7.6"
  }
 },
 "nbformat": 4,
 "nbformat_minor": 4
}
