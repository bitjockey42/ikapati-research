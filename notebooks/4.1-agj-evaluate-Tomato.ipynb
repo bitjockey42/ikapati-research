{
 "cells": [
  {
   "cell_type": "code",
   "execution_count": 1,
   "metadata": {},
   "outputs": [],
   "source": [
    "%load_ext autoreload\n",
    "%autoreload 2"
   ]
  },
  {
   "cell_type": "code",
   "execution_count": 2,
   "metadata": {},
   "outputs": [],
   "source": [
    "from IPython import display\n",
    "from matplotlib import pyplot as plt\n",
    "%matplotlib inline"
   ]
  },
  {
   "cell_type": "code",
   "execution_count": 3,
   "metadata": {},
   "outputs": [],
   "source": [
    "import pathlib\n",
    "\n",
    "import numpy as np\n",
    "import pandas as pd\n",
    "import seaborn as sns\n",
    "\n",
    "from ikapati.data import io\n",
    "from ikapati.visualization import visualize"
   ]
  },
  {
   "cell_type": "code",
   "execution_count": 4,
   "metadata": {},
   "outputs": [
    {
     "name": "stdout",
     "output_type": "stream",
     "text": [
      "species: Tomato - train_dir: ../data/processed/Tomato - metadata_file_path: ../data/processed/Tomato/metadata.json\n"
     ]
    }
   ],
   "source": [
    "species = \"Tomato\"\n",
    "data_dir = pathlib.Path(\"../data/processed\")\n",
    "train_dir = data_dir.joinpath(species)\n",
    "model_dir = pathlib.Path(\"../models\")\n",
    "metadata_file_path = train_dir.joinpath(\"metadata.json\")\n",
    "base_dir = pathlib.Path.cwd()\n",
    "\n",
    "print(f\"species: {species} - train_dir: {str(train_dir)} - metadata_file_path: {str(metadata_file_path)}\")"
   ]
  },
  {
   "cell_type": "code",
   "execution_count": 5,
   "metadata": {},
   "outputs": [
    {
     "name": "stdout",
     "output_type": "stream",
     "text": [
      "model_id: d57c545d-158d-4bd2-8474-1e3cc4eddf81\n"
     ]
    }
   ],
   "source": [
    "metadata = io.read_metadata(str(metadata_file_path))\n",
    "model_id = metadata[\"id\"]\n",
    "\n",
    "print(f\"model_id: {model_id}\")"
   ]
  },
  {
   "cell_type": "code",
   "execution_count": 6,
   "metadata": {},
   "outputs": [
    {
     "data": {
      "text/plain": [
       "{'relu': 'models/d57c545d-158d-4bd2-8474-1e3cc4eddf81/2020-02-03__00_3113',\n",
       " 'relu-dropout': 'models/d57c545d-158d-4bd2-8474-1e3cc4eddf81/2020-02-03__00_4109'}"
      ]
     },
     "execution_count": 6,
     "metadata": {},
     "output_type": "execute_result"
    }
   ],
   "source": [
    "training_log_path = model_dir.joinpath(model_id, \"training.log\")\n",
    "\n",
    "with open(training_log_path) as log_file:\n",
    "    logs = log_file.readlines()\n",
    "    training_logs = dict([log.strip().split(\"\\t\") for log in logs])\n",
    "    \n",
    "training_logs"
   ]
  },
  {
   "cell_type": "code",
   "execution_count": 7,
   "metadata": {},
   "outputs": [
    {
     "data": {
      "text/plain": [
       "[PosixPath('../models/d57c545d-158d-4bd2-8474-1e3cc4eddf81/2020-02-03__00_3113'),\n",
       " PosixPath('../models/d57c545d-158d-4bd2-8474-1e3cc4eddf81/training.log'),\n",
       " PosixPath('../models/d57c545d-158d-4bd2-8474-1e3cc4eddf81/2020-02-03__00_4109')]"
      ]
     },
     "execution_count": 7,
     "metadata": {},
     "output_type": "execute_result"
    }
   ],
   "source": [
    "list(pathlib.Path(\"../models\", model_id).glob(\"*/\"))"
   ]
  },
  {
   "cell_type": "markdown",
   "metadata": {},
   "source": [
    "## ReLU"
   ]
  },
  {
   "cell_type": "code",
   "execution_count": 8,
   "metadata": {},
   "outputs": [],
   "source": [
    "model_metadata_file_path = pathlib.Path(\"..\", training_logs[\"relu\"], \"metadata.json\")\n",
    "model_metadata = io.read_metadata(str(model_metadata_file_path))"
   ]
  },
  {
   "cell_type": "code",
   "execution_count": 9,
   "metadata": {
    "scrolled": true
   },
   "outputs": [
    {
     "data": {
      "text/plain": [
       "{'id': 'd57c545d-158d-4bd2-8474-1e3cc4eddf81',\n",
       " 'start_time': '2020-02-03__00_3113',\n",
       " 'arguments': {'batch_size': 64,\n",
       "  'epochs': 20,\n",
       "  'monitor': 'val_loss',\n",
       "  'activation': 'relu',\n",
       "  'early_stopping': False,\n",
       "  'architecture': 'alexnet',\n",
       "  'dropout': False},\n",
       " 'dataset': {'id': 'd57c545d-158d-4bd2-8474-1e3cc4eddf81',\n",
       "  'species': 'Tomato',\n",
       "  'num_classes': 10,\n",
       "  'class_names': ['Tomato___Bacterial_spot',\n",
       "   'Tomato___Early_blight',\n",
       "   'Tomato___Late_blight',\n",
       "   'Tomato___Leaf_Mold',\n",
       "   'Tomato___Septoria_leaf_spot',\n",
       "   'Tomato___Spider_mites Two-spotted_spider_mite',\n",
       "   'Tomato___Target_Spot',\n",
       "   'Tomato___Tomato_Yellow_Leaf_Curl_Virus',\n",
       "   'Tomato___Tomato_mosaic_virus',\n",
       "   'Tomato___healthy'],\n",
       "  'created_date': '2020-02-02 20:33:45',\n",
       "  'file_counts': {'train': 14404, 'test': 1801, 'eval': 1801}},\n",
       " 'history': {'loss': [1.3641438145107694,\n",
       "   0.57825235247612,\n",
       "   0.39501109063625334,\n",
       "   0.3137024966213438,\n",
       "   0.23523935821321276,\n",
       "   0.2199179802586635,\n",
       "   0.18477862058414354,\n",
       "   0.15837980202502674,\n",
       "   0.14278955755134423,\n",
       "   0.13384596505098872,\n",
       "   0.11336927673468987,\n",
       "   0.08702066998566604,\n",
       "   0.08316677496147652,\n",
       "   0.11000002573347754,\n",
       "   0.09488332917499874,\n",
       "   0.11067560142320064,\n",
       "   0.07287511266871459,\n",
       "   0.0971304187261396,\n",
       "   0.0562578524204178,\n",
       "   0.09394527385787417],\n",
       "  'accuracy': [0.5290971994400024,\n",
       "   0.7993055582046509,\n",
       "   0.8630555272102356,\n",
       "   0.8895139098167419,\n",
       "   0.9168750047683716,\n",
       "   0.9263888597488403,\n",
       "   0.9360416531562805,\n",
       "   0.9456250071525574,\n",
       "   0.9514583349227905,\n",
       "   0.9554166793823242,\n",
       "   0.9626389145851135,\n",
       "   0.9723610877990723,\n",
       "   0.9736111164093018,\n",
       "   0.9629861116409302,\n",
       "   0.9703472256660461,\n",
       "   0.9670833349227905,\n",
       "   0.9770833253860474,\n",
       "   0.9686111211776733,\n",
       "   0.9819444417953491,\n",
       "   0.9704166650772095],\n",
       "  'val_loss': [0.773913345166615,\n",
       "   0.47738478013447355,\n",
       "   0.36056237880672726,\n",
       "   0.3247707885290895,\n",
       "   0.3678352082414286,\n",
       "   0.29819993834410397,\n",
       "   0.2516769444836037,\n",
       "   0.2494416292756796,\n",
       "   0.2753620392509869,\n",
       "   0.225286176694291,\n",
       "   0.22438705898821354,\n",
       "   0.25720292595880373,\n",
       "   0.23055759518008148,\n",
       "   0.2756893795781902,\n",
       "   0.22109780101371662,\n",
       "   0.26624036567019566,\n",
       "   0.23468803561159543,\n",
       "   0.19952333931412017,\n",
       "   0.23201379449372844,\n",
       "   0.2944709887462003],\n",
       "  'val_accuracy': [0.7315848469734192,\n",
       "   0.8381696343421936,\n",
       "   0.8772321343421936,\n",
       "   0.8889508843421936,\n",
       "   0.8800223469734192,\n",
       "   0.9017857313156128,\n",
       "   0.9196428656578064,\n",
       "   0.9185267686843872,\n",
       "   0.9140625,\n",
       "   0.9268973469734192,\n",
       "   0.9358258843421936,\n",
       "   0.9436383843421936,\n",
       "   0.9397321343421936,\n",
       "   0.93359375,\n",
       "   0.9363839030265808,\n",
       "   0.9380580186843872,\n",
       "   0.94140625,\n",
       "   0.9425223469734192,\n",
       "   0.9469866156578064,\n",
       "   0.9308035969734192]}}"
      ]
     },
     "execution_count": 9,
     "metadata": {},
     "output_type": "execute_result"
    }
   ],
   "source": [
    "model_metadata"
   ]
  },
  {
   "cell_type": "code",
   "execution_count": 10,
   "metadata": {},
   "outputs": [],
   "source": [
    "history = model_metadata[\"history\"]"
   ]
  },
  {
   "cell_type": "code",
   "execution_count": 11,
   "metadata": {},
   "outputs": [],
   "source": [
    "metrics_df = visualize.create_metrics_dataframe(history)"
   ]
  },
  {
   "cell_type": "code",
   "execution_count": 12,
   "metadata": {},
   "outputs": [
    {
     "data": {
      "image/png": "[encoded data removed]",
      "text/plain": [
       "<Figure size 432x288 with 1 Axes>"
      ]
     },
     "metadata": {
      "needs_background": "light"
     },
     "output_type": "display_data"
    }
   ],
   "source": [
    "loss_plot = visualize.learning_curves(\"loss\", metrics_df)"
   ]
  },
  {
   "cell_type": "code",
   "execution_count": 13,
   "metadata": {},
   "outputs": [],
   "source": [
    "visualize.save_plot(loss_plot, f\"../reports/figures/{species}-relu.loss.png\")"
   ]
  },
  {
   "cell_type": "code",
   "execution_count": 14,
   "metadata": {},
   "outputs": [
    {
     "data": {
      "image/png": "[encoded data removed]",
      "text/plain": [
       "<Figure size 432x288 with 1 Axes>"
      ]
     },
     "metadata": {
      "needs_background": "light"
     },
     "output_type": "display_data"
    }
   ],
   "source": [
    "accuracy_plot = visualize.learning_curves(\"accuracy\", metrics_df)"
   ]
  },
  {
   "cell_type": "code",
   "execution_count": 15,
   "metadata": {},
   "outputs": [],
   "source": [
    "visualize.save_plot(accuracy_plot, f\"../reports/figures/{species}-relu.accuracy.png\")"
   ]
  },
  {
   "cell_type": "markdown",
   "metadata": {},
   "source": [
    "## ReLU with Dropout"
   ]
  },
  {
   "cell_type": "code",
   "execution_count": 16,
   "metadata": {},
   "outputs": [],
   "source": [
    "dropout_model_metadata_file_path = pathlib.Path(\"..\", training_logs[\"relu-dropout\"], \"metadata.json\")\n",
    "dropout_model_metadata = io.read_metadata(str(dropout_model_metadata_file_path))"
   ]
  },
  {
   "cell_type": "code",
   "execution_count": 17,
   "metadata": {
    "scrolled": true
   },
   "outputs": [
    {
     "data": {
      "text/plain": [
       "{'id': 'd57c545d-158d-4bd2-8474-1e3cc4eddf81',\n",
       " 'start_time': '2020-02-03__00_4109',\n",
       " 'arguments': {'batch_size': 64,\n",
       "  'epochs': 20,\n",
       "  'monitor': 'val_loss',\n",
       "  'activation': 'relu',\n",
       "  'early_stopping': False,\n",
       "  'architecture': 'alexnet',\n",
       "  'dropout': True},\n",
       " 'dataset': {'id': 'd57c545d-158d-4bd2-8474-1e3cc4eddf81',\n",
       "  'species': 'Tomato',\n",
       "  'num_classes': 10,\n",
       "  'class_names': ['Tomato___Bacterial_spot',\n",
       "   'Tomato___Early_blight',\n",
       "   'Tomato___Late_blight',\n",
       "   'Tomato___Leaf_Mold',\n",
       "   'Tomato___Septoria_leaf_spot',\n",
       "   'Tomato___Spider_mites Two-spotted_spider_mite',\n",
       "   'Tomato___Target_Spot',\n",
       "   'Tomato___Tomato_Yellow_Leaf_Curl_Virus',\n",
       "   'Tomato___Tomato_mosaic_virus',\n",
       "   'Tomato___healthy'],\n",
       "  'created_date': '2020-02-02 20:33:45',\n",
       "  'file_counts': {'train': 14404, 'test': 1801, 'eval': 1801}},\n",
       " 'history': {'loss': [1.4733176702923245,\n",
       "   0.6533923146459791,\n",
       "   0.47794873317082726,\n",
       "   0.3759185450938013,\n",
       "   0.3139470095104641,\n",
       "   0.2529789334204462,\n",
       "   0.24778106956018342,\n",
       "   0.2113669058183829,\n",
       "   0.18063414617545076,\n",
       "   0.17406091678473684,\n",
       "   0.17013548340648413,\n",
       "   0.17980139644609558,\n",
       "   0.14926204142885074,\n",
       "   0.14400103220095237,\n",
       "   0.1377315753367212,\n",
       "   0.13567726453352305,\n",
       "   0.12856563279301755,\n",
       "   0.16427149764779542,\n",
       "   0.11657583493532406,\n",
       "   0.11425460243183705],\n",
       "  'accuracy': [0.49937498569488525,\n",
       "   0.7762500047683716,\n",
       "   0.8356249928474426,\n",
       "   0.8726388812065125,\n",
       "   0.8919444680213928,\n",
       "   0.9152083396911621,\n",
       "   0.9173611402511597,\n",
       "   0.9281250238418579,\n",
       "   0.9401388764381409,\n",
       "   0.9421527981758118,\n",
       "   0.9459027647972107,\n",
       "   0.9402083158493042,\n",
       "   0.9543055295944214,\n",
       "   0.9547222256660461,\n",
       "   0.9574999809265137,\n",
       "   0.9590972065925598,\n",
       "   0.9598610997200012,\n",
       "   0.9524999856948853,\n",
       "   0.9629166722297668,\n",
       "   0.9657638669013977],\n",
       "  'val_loss': [0.8212571207966123,\n",
       "   0.5188183709979057,\n",
       "   0.5091079601219722,\n",
       "   0.3858498515827315,\n",
       "   0.246589579220329,\n",
       "   0.3038351981501494,\n",
       "   0.27057424400533947,\n",
       "   0.2861289746527161,\n",
       "   0.3343494688825948,\n",
       "   0.20825324247458152,\n",
       "   0.3539759639118399,\n",
       "   0.2734460322452443,\n",
       "   0.3179530527974878,\n",
       "   0.31942626195294516,\n",
       "   0.3002338047538485,\n",
       "   0.3827331503853202,\n",
       "   0.21998924336263112,\n",
       "   0.2947214561115418,\n",
       "   0.25623423433197395,\n",
       "   0.3622741475701332],\n",
       "  'val_accuracy': [0.7103794813156128,\n",
       "   0.8236607313156128,\n",
       "   0.8236607313156128,\n",
       "   0.8766741156578064,\n",
       "   0.9112723469734192,\n",
       "   0.9029017686843872,\n",
       "   0.9073660969734192,\n",
       "   0.90234375,\n",
       "   0.8883928656578064,\n",
       "   0.9419642686843872,\n",
       "   0.8956473469734192,\n",
       "   0.9213169813156128,\n",
       "   0.9162946343421936,\n",
       "   0.9157366156578064,\n",
       "   0.9146205186843872,\n",
       "   0.9017857313156128,\n",
       "   0.9347098469734192,\n",
       "   0.9224330186843872,\n",
       "   0.9319196343421936,\n",
       "   0.9051339030265808]}}"
      ]
     },
     "execution_count": 17,
     "metadata": {},
     "output_type": "execute_result"
    }
   ],
   "source": [
    "dropout_model_metadata"
   ]
  },
  {
   "cell_type": "code",
   "execution_count": 18,
   "metadata": {},
   "outputs": [],
   "source": [
    "dropout_history = dropout_model_metadata[\"history\"]"
   ]
  },
  {
   "cell_type": "code",
   "execution_count": 19,
   "metadata": {},
   "outputs": [],
   "source": [
    "dropout_metrics_df = visualize.create_metrics_dataframe(dropout_history)"
   ]
  },
  {
   "cell_type": "code",
   "execution_count": 20,
   "metadata": {},
   "outputs": [
    {
     "data": {
      "image/png": "[encoded data removed]",
      "text/plain": [
       "<Figure size 432x288 with 1 Axes>"
      ]
     },
     "metadata": {
      "needs_background": "light"
     },
     "output_type": "display_data"
    }
   ],
   "source": [
    "dropout_loss_plot = visualize.learning_curves(\"loss\", dropout_metrics_df)"
   ]
  },
  {
   "cell_type": "code",
   "execution_count": 21,
   "metadata": {},
   "outputs": [],
   "source": [
    "visualize.save_plot(dropout_loss_plot, f\"../reports/figures/{species}-relu-dropout.loss.png\")"
   ]
  },
  {
   "cell_type": "code",
   "execution_count": 22,
   "metadata": {},
   "outputs": [
    {
     "data": {
      "image/png": "[encoded data removed]",
      "text/plain": [
       "<Figure size 432x288 with 1 Axes>"
      ]
     },
     "metadata": {
      "needs_background": "light"
     },
     "output_type": "display_data"
    }
   ],
   "source": [
    "dropout_accuracy_plot = visualize.learning_curves(\"accuracy\", dropout_metrics_df)"
   ]
  },
  {
   "cell_type": "code",
   "execution_count": 23,
   "metadata": {},
   "outputs": [],
   "source": [
    "visualize.save_plot(dropout_accuracy_plot, f\"../reports/figures/{species}-relu.accuracy.png\")"
   ]
  },
  {
   "cell_type": "code",
   "execution_count": null,
   "metadata": {},
   "outputs": [],
   "source": []
  }
 ],
 "metadata": {
  "kernelspec": {
   "display_name": "Python 3",
   "language": "python",
   "name": "python3"
  },
  "language_info": {
   "codemirror_mode": {
    "name": "ipython",
    "version": 3
   },
   "file_extension": ".py",
   "mimetype": "text/x-python",
   "name": "python",
   "nbconvert_exporter": "python",
   "pygments_lexer": "ipython3",
   "version": "3.7.6"
  }
 },
 "nbformat": 4,
 "nbformat_minor": 4
}
