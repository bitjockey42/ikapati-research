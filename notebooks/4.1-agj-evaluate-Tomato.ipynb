{
 "cells": [
  {
   "cell_type": "code",
   "execution_count": 1,
   "metadata": {},
   "outputs": [],
   "source": [
    "%load_ext autoreload\n",
    "%autoreload 2"
   ]
  },
  {
   "cell_type": "code",
   "execution_count": 2,
   "metadata": {},
   "outputs": [],
   "source": [
    "from IPython import display\n",
    "from matplotlib import pyplot as plt\n",
    "%matplotlib inline"
   ]
  },
  {
   "cell_type": "code",
   "execution_count": 4,
   "metadata": {},
   "outputs": [],
   "source": [
    "import pathlib\n",
    "\n",
    "import numpy as np\n",
    "import pandas as pd\n",
    "import seaborn as sns\n",
    "\n",
    "from ikapati.data import io\n",
    "from ikapati.visualization import visualize"
   ]
  },
  {
   "cell_type": "code",
   "execution_count": 5,
   "metadata": {},
   "outputs": [
    {
     "name": "stdout",
     "output_type": "stream",
     "text": [
      "species: Tomato - train_dir: ../data/processed/Tomato - metadata_file_path: ../data/processed/Tomato/metadata.json\n"
     ]
    }
   ],
   "source": [
    "species = \"Tomato\"\n",
    "data_dir = pathlib.Path(\"../data/processed\")\n",
    "train_dir = data_dir.joinpath(species)\n",
    "model_dir = pathlib.Path(\"../models\")\n",
    "metadata_file_path = train_dir.joinpath(\"metadata.json\")\n",
    "base_dir = pathlib.Path.cwd()\n",
    "\n",
    "print(f\"species: {species} - train_dir: {str(train_dir)} - metadata_file_path: {str(metadata_file_path)}\")"
   ]
  },
  {
   "cell_type": "code",
   "execution_count": 7,
   "metadata": {},
   "outputs": [
    {
     "name": "stdout",
     "output_type": "stream",
     "text": [
      "model_id: d57c545d-158d-4bd2-8474-1e3cc4eddf81\n"
     ]
    }
   ],
   "source": [
    "metadata = io.read_metadata(str(metadata_file_path))\n",
    "model_id = metadata[\"id\"]\n",
    "\n",
    "print(f\"model_id: {model_id}\")"
   ]
  },
  {
   "cell_type": "code",
   "execution_count": 8,
   "metadata": {},
   "outputs": [
    {
     "data": {
      "text/plain": [
       "{'relu': 'models/d57c545d-158d-4bd2-8474-1e3cc4eddf81/2020-02-02__20_3418'}"
      ]
     },
     "execution_count": 8,
     "metadata": {},
     "output_type": "execute_result"
    }
   ],
   "source": [
    "training_log_path = model_dir.joinpath(model_id, \"training.log\")\n",
    "\n",
    "with open(training_log_path) as log_file:\n",
    "    logs = log_file.readlines()\n",
    "    training_logs = dict([log.strip().split(\"\\t\") for log in logs])\n",
    "    \n",
    "training_logs"
   ]
  },
  {
   "cell_type": "code",
   "execution_count": 13,
   "metadata": {},
   "outputs": [
    {
     "data": {
      "text/plain": [
       "[PosixPath('../models/d57c545d-158d-4bd2-8474-1e3cc4eddf81/2020-02-02__20_3418'),\n",
       " PosixPath('../models/d57c545d-158d-4bd2-8474-1e3cc4eddf81/training.log')]"
      ]
     },
     "execution_count": 13,
     "metadata": {},
     "output_type": "execute_result"
    }
   ],
   "source": [
    "list(pathlib.Path(\"../models\", model_id).glob(\"*/\"))"
   ]
  },
  {
   "cell_type": "markdown",
   "metadata": {},
   "source": [
    "## ReLU"
   ]
  },
  {
   "cell_type": "code",
   "execution_count": 14,
   "metadata": {},
   "outputs": [],
   "source": [
    "model_metadata_file_path = pathlib.Path(\"..\", training_logs[\"relu\"], \"metadata.json\")\n",
    "model_metadata = io.read_metadata(str(model_metadata_file_path))"
   ]
  },
  {
   "cell_type": "code",
   "execution_count": 15,
   "metadata": {
    "scrolled": true
   },
   "outputs": [
    {
     "data": {
      "text/plain": [
       "{'id': 'd57c545d-158d-4bd2-8474-1e3cc4eddf81',\n",
       " 'start_time': '2020-02-02__20_3418',\n",
       " 'arguments': {'batch_size': 64,\n",
       "  'epochs': 20,\n",
       "  'monitor': 'val_loss',\n",
       "  'activation': 'relu',\n",
       "  'early_stopping': False,\n",
       "  'architecture': 'alexnet'},\n",
       " 'dataset': {'id': 'd57c545d-158d-4bd2-8474-1e3cc4eddf81',\n",
       "  'species': 'Tomato',\n",
       "  'num_classes': 10,\n",
       "  'class_names': ['Tomato___Bacterial_spot',\n",
       "   'Tomato___Early_blight',\n",
       "   'Tomato___Late_blight',\n",
       "   'Tomato___Leaf_Mold',\n",
       "   'Tomato___Septoria_leaf_spot',\n",
       "   'Tomato___Spider_mites Two-spotted_spider_mite',\n",
       "   'Tomato___Target_Spot',\n",
       "   'Tomato___Tomato_Yellow_Leaf_Curl_Virus',\n",
       "   'Tomato___Tomato_mosaic_virus',\n",
       "   'Tomato___healthy'],\n",
       "  'created_date': '2020-02-02 20:33:45',\n",
       "  'file_counts': {'train': 14404, 'test': 1801, 'eval': 1801}},\n",
       " 'history': {'loss': [1.528335948255327,\n",
       "   0.6495165424876743,\n",
       "   0.4228086736467149,\n",
       "   0.3263739159040981,\n",
       "   0.265531693879101,\n",
       "   0.2166696543412076,\n",
       "   0.17353091246551938,\n",
       "   0.16579418227904372,\n",
       "   0.15210755630499787,\n",
       "   0.11439174076749219,\n",
       "   0.11924707062749398,\n",
       "   0.1114348439892961,\n",
       "   0.121664670602315,\n",
       "   0.10669269292511874,\n",
       "   0.0989357995417797,\n",
       "   0.0698584084223128,\n",
       "   0.10027520050346438,\n",
       "   0.08639432690520253,\n",
       "   0.07823542001450227,\n",
       "   0.08204472238404883],\n",
       "  'accuracy': [0.47159722447395325,\n",
       "   0.7753472328186035,\n",
       "   0.8542361259460449,\n",
       "   0.8875694274902344,\n",
       "   0.9076389074325562,\n",
       "   0.9238888621330261,\n",
       "   0.9388194680213928,\n",
       "   0.9439583420753479,\n",
       "   0.9479166865348816,\n",
       "   0.9618055820465088,\n",
       "   0.9590277671813965,\n",
       "   0.9622222185134888,\n",
       "   0.9600694179534912,\n",
       "   0.964722216129303,\n",
       "   0.9688194394111633,\n",
       "   0.9779860973358154,\n",
       "   0.9710416793823242,\n",
       "   0.9733333587646484,\n",
       "   0.9752777814865112,\n",
       "   0.9745138883590698],\n",
       "  'val_loss': [0.9478051428283963,\n",
       "   0.46127288575683323,\n",
       "   0.31899983595524517,\n",
       "   0.32102096506527494,\n",
       "   0.30847310594149996,\n",
       "   0.22003971811916148,\n",
       "   0.21680456586182117,\n",
       "   0.26543856864529,\n",
       "   0.17361416002469404,\n",
       "   0.20554406408752715,\n",
       "   0.23930279059069498,\n",
       "   0.23635920962052687,\n",
       "   0.18508711084723473,\n",
       "   0.21972437482327223,\n",
       "   0.1777362905974899,\n",
       "   0.2826717094119106,\n",
       "   0.22456538850175484,\n",
       "   0.24072315038314887,\n",
       "   0.2784397870834385,\n",
       "   0.2766266814433038],\n",
       "  'val_accuracy': [0.66015625,\n",
       "   0.8370535969734192,\n",
       "   0.8922991156578064,\n",
       "   0.89453125,\n",
       "   0.9068080186843872,\n",
       "   0.9268973469734192,\n",
       "   0.9324776530265808,\n",
       "   0.9118303656578064,\n",
       "   0.9419642686843872,\n",
       "   0.9402901530265808,\n",
       "   0.9252232313156128,\n",
       "   0.9341517686843872,\n",
       "   0.9402901530265808,\n",
       "   0.9402901530265808,\n",
       "   0.9464285969734192,\n",
       "   0.9185267686843872,\n",
       "   0.9363839030265808,\n",
       "   0.9369419813156128,\n",
       "   0.9268973469734192,\n",
       "   0.9380580186843872]}}"
      ]
     },
     "execution_count": 15,
     "metadata": {},
     "output_type": "execute_result"
    }
   ],
   "source": [
    "model_metadata"
   ]
  },
  {
   "cell_type": "code",
   "execution_count": 16,
   "metadata": {},
   "outputs": [],
   "source": [
    "history = model_metadata[\"history\"]"
   ]
  },
  {
   "cell_type": "code",
   "execution_count": 17,
   "metadata": {},
   "outputs": [],
   "source": [
    "metrics_df = visualize.create_metrics_dataframe(history)"
   ]
  },
  {
   "cell_type": "code",
   "execution_count": 18,
   "metadata": {},
   "outputs": [
    {
     "data": {
      "image/png": "[encoded data removed]",
      "text/plain": [
       "<Figure size 432x288 with 1 Axes>"
      ]
     },
     "metadata": {
      "needs_background": "light"
     },
     "output_type": "display_data"
    }
   ],
   "source": [
    "loss_plot = visualize.learning_curves(\"loss\", metrics_df)"
   ]
  },
  {
   "cell_type": "code",
   "execution_count": 19,
   "metadata": {},
   "outputs": [
    {
     "data": {
      "image/png": "[encoded data removed]",
      "text/plain": [
       "<Figure size 432x288 with 1 Axes>"
      ]
     },
     "metadata": {
      "needs_background": "light"
     },
     "output_type": "display_data"
    }
   ],
   "source": [
    "accuracy_plot = visualize.learning_curves(\"accuracy\", metrics_df)"
   ]
  },
  {
   "cell_type": "code",
   "execution_count": null,
   "metadata": {},
   "outputs": [],
   "source": []
  }
 ],
 "metadata": {
  "kernelspec": {
   "display_name": "Python 3",
   "language": "python",
   "name": "python3"
  },
  "language_info": {
   "codemirror_mode": {
    "name": "ipython",
    "version": 3
   },
   "file_extension": ".py",
   "mimetype": "text/x-python",
   "name": "python",
   "nbconvert_exporter": "python",
   "pygments_lexer": "ipython3",
   "version": "3.7.6"
  }
 },
 "nbformat": 4,
 "nbformat_minor": 4
}
