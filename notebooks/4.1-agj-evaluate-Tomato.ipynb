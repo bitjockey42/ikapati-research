{
 "cells": [
  {
   "cell_type": "code",
   "execution_count": 1,
   "metadata": {},
   "outputs": [],
   "source": [
    "%load_ext autoreload\n",
    "%autoreload 2"
   ]
  },
  {
   "cell_type": "code",
   "execution_count": 2,
   "metadata": {},
   "outputs": [],
   "source": [
    "from IPython import display\n",
    "from matplotlib import pyplot as plt\n",
    "%matplotlib inline"
   ]
  },
  {
   "cell_type": "code",
   "execution_count": 3,
   "metadata": {},
   "outputs": [],
   "source": [
    "import pathlib\n",
    "\n",
    "import numpy as np\n",
    "import pandas as pd\n",
    "import seaborn as sns\n",
    "\n",
    "from src.data import io\n",
    "from src.visualization import visualize"
   ]
  },
  {
   "cell_type": "code",
   "execution_count": 14,
   "metadata": {},
   "outputs": [
    {
     "name": "stdout",
     "output_type": "stream",
     "text": [
      "species: Tomato - train_dir: ../data/processed/Tomato - metadata_file_path: ../data/processed/Tomato/metadata.json\n"
     ]
    }
   ],
   "source": [
    "species = \"Tomato\"\n",
    "data_dir = pathlib.Path(\"../data/processed\")\n",
    "train_dir = data_dir.joinpath(species)\n",
    "model_dir = pathlib.Path(\"../models\")\n",
    "metadata_file_path = train_dir.joinpath(\"metadata.json\")\n",
    "base_dir = pathlib.Path.cwd()\n",
    "\n",
    "print(f\"species: {species} - train_dir: {str(train_dir)} - metadata_file_path: {str(metadata_file_path)}\")"
   ]
  },
  {
   "cell_type": "code",
   "execution_count": 8,
   "metadata": {},
   "outputs": [
    {
     "name": "stdout",
     "output_type": "stream",
     "text": [
      "model_id: f1d07645-8b59-413f-a4ad-f4919f3b6665\n"
     ]
    }
   ],
   "source": [
    "metadata = io.read_metadata(str(metadata_file_path))\n",
    "model_id = metadata[\"id\"]\n",
    "\n",
    "print(f\"model_id: {model_id}\")"
   ]
  },
  {
   "cell_type": "code",
   "execution_count": 12,
   "metadata": {},
   "outputs": [
    {
     "data": {
      "text/plain": [
       "{'relu': 'models/f1d07645-8b59-413f-a4ad-f4919f3b6665/2020-01-27__03_2615',\n",
       " 'linear': 'models/f1d07645-8b59-413f-a4ad-f4919f3b6665/2020-01-27__03_3443'}"
      ]
     },
     "execution_count": 12,
     "metadata": {},
     "output_type": "execute_result"
    }
   ],
   "source": [
    "training_log_path = model_dir.joinpath(model_id, \"training.log\")\n",
    "\n",
    "with open(training_log_path) as log_file:\n",
    "    logs = log_file.readlines()\n",
    "    training_logs = dict([log.strip().split(\"\\t\") for log in logs])\n",
    "    \n",
    "training_logs"
   ]
  },
  {
   "cell_type": "markdown",
   "metadata": {},
   "source": [
    "## ReLU"
   ]
  },
  {
   "cell_type": "code",
   "execution_count": 16,
   "metadata": {},
   "outputs": [],
   "source": [
    "model_metadata_file_path = pathlib.Path(\"..\", training_logs[\"relu\"], \"metadata.json\")\n",
    "model_metadata = io.read_metadata(str(model_metadata_file_path))"
   ]
  },
  {
   "cell_type": "code",
   "execution_count": 17,
   "metadata": {
    "scrolled": true
   },
   "outputs": [
    {
     "data": {
      "text/plain": [
       "{'id': 'f1d07645-8b59-413f-a4ad-f4919f3b6665',\n",
       " 'start_time': '2020-01-27__03_2615',\n",
       " 'arguments': {'batch_size': 64,\n",
       "  'epochs': 50,\n",
       "  'monitor': 'val_loss',\n",
       "  'activation': 'relu',\n",
       "  'early_stopping': True},\n",
       " 'dataset': {'id': 'f1d07645-8b59-413f-a4ad-f4919f3b6665',\n",
       "  'species': 'Tomato',\n",
       "  'num_classes': 10,\n",
       "  'class_names': ['Tomato___Bacterial_spot',\n",
       "   'Tomato___Early_blight',\n",
       "   'Tomato___Late_blight',\n",
       "   'Tomato___Leaf_Mold',\n",
       "   'Tomato___Septoria_leaf_spot',\n",
       "   'Tomato___Spider_mites Two-spotted_spider_mite',\n",
       "   'Tomato___Target_Spot',\n",
       "   'Tomato___Tomato_Yellow_Leaf_Curl_Virus',\n",
       "   'Tomato___Tomato_mosaic_virus',\n",
       "   'Tomato___healthy'],\n",
       "  'created_date': '2020-01-26 22:43:34',\n",
       "  'file_counts': {'train': 14404, 'test': 1801, 'eval': 1801}},\n",
       " 'history': {'loss': [1.5424790771802266,\n",
       "   0.7864200605286492,\n",
       "   0.5583705332544114,\n",
       "   0.4368798941373825,\n",
       "   0.3695608745018641,\n",
       "   0.3129031108154191,\n",
       "   0.3166537160343594,\n",
       "   0.26042947275771033,\n",
       "   0.22650509365730814,\n",
       "   0.19618104158176317,\n",
       "   0.23792290864719284,\n",
       "   0.2154614519327879,\n",
       "   0.17829062341815896,\n",
       "   0.17115121304161018],\n",
       "  'accuracy': [0.4506250023841858,\n",
       "   0.7338194251060486,\n",
       "   0.8178472518920898,\n",
       "   0.8623611330986023,\n",
       "   0.8844444155693054,\n",
       "   0.901805579662323,\n",
       "   0.9045833349227905,\n",
       "   0.9186805486679077,\n",
       "   0.930347204208374,\n",
       "   0.9420833587646484,\n",
       "   0.929722249507904,\n",
       "   0.9400694370269775,\n",
       "   0.9480555653572083,\n",
       "   0.953125],\n",
       "  'val_loss': [1.0480234644242696,\n",
       "   0.707665778696537,\n",
       "   0.6469986555831773,\n",
       "   0.42737253808549475,\n",
       "   0.3995199975158487,\n",
       "   0.46042163723281454,\n",
       "   0.4604798486190183,\n",
       "   0.44100393993513926,\n",
       "   0.3109221692596163,\n",
       "   0.4966208721910204,\n",
       "   0.37983255673732075,\n",
       "   0.4599494832967009,\n",
       "   0.4932235654975687,\n",
       "   0.428478630126587],\n",
       "  'val_accuracy': [0.6428571343421936,\n",
       "   0.7723214030265808,\n",
       "   0.8046875,\n",
       "   0.8604910969734192,\n",
       "   0.8705357313156128,\n",
       "   0.8610491156578064,\n",
       "   0.8683035969734192,\n",
       "   0.8766741156578064,\n",
       "   0.9012276530265808,\n",
       "   0.8699776530265808,\n",
       "   0.9001116156578064,\n",
       "   0.8911830186843872,\n",
       "   0.8816964030265808,\n",
       "   0.9001116156578064]}}"
      ]
     },
     "execution_count": 17,
     "metadata": {},
     "output_type": "execute_result"
    }
   ],
   "source": [
    "model_metadata"
   ]
  },
  {
   "cell_type": "code",
   "execution_count": 18,
   "metadata": {},
   "outputs": [],
   "source": [
    "history = model_metadata[\"history\"]"
   ]
  },
  {
   "cell_type": "code",
   "execution_count": 19,
   "metadata": {},
   "outputs": [],
   "source": [
    "metrics_df = visualize.create_metrics_dataframe(history)"
   ]
  },
  {
   "cell_type": "code",
   "execution_count": 20,
   "metadata": {},
   "outputs": [
    {
     "data": {
      "image/png": "[encoded data removed]",
      "text/plain": [
       "<Figure size 432x288 with 1 Axes>"
      ]
     },
     "metadata": {
      "needs_background": "light"
     },
     "output_type": "display_data"
    }
   ],
   "source": [
    "loss_plot = visualize.learning_curves(\"loss\", metrics_df)"
   ]
  },
  {
   "cell_type": "code",
   "execution_count": 21,
   "metadata": {},
   "outputs": [
    {
     "data": {
      "image/png": "[encoded data removed]",
      "text/plain": [
       "<Figure size 432x288 with 1 Axes>"
      ]
     },
     "metadata": {
      "needs_background": "light"
     },
     "output_type": "display_data"
    }
   ],
   "source": [
    "accuracy_plot = visualize.learning_curves(\"accuracy\", metrics_df)"
   ]
  },
  {
   "cell_type": "code",
   "execution_count": 22,
   "metadata": {
    "scrolled": true
   },
   "outputs": [
    {
     "data": {
      "text/plain": [
       "{'id': 'f1d07645-8b59-413f-a4ad-f4919f3b6665',\n",
       " 'start_time': '2020-01-27__03_3443',\n",
       " 'arguments': {'batch_size': 64,\n",
       "  'epochs': 50,\n",
       "  'monitor': 'val_loss',\n",
       "  'activation': 'linear',\n",
       "  'early_stopping': True},\n",
       " 'dataset': {'id': 'f1d07645-8b59-413f-a4ad-f4919f3b6665',\n",
       "  'species': 'Tomato',\n",
       "  'num_classes': 10,\n",
       "  'class_names': ['Tomato___Bacterial_spot',\n",
       "   'Tomato___Early_blight',\n",
       "   'Tomato___Late_blight',\n",
       "   'Tomato___Leaf_Mold',\n",
       "   'Tomato___Septoria_leaf_spot',\n",
       "   'Tomato___Spider_mites Two-spotted_spider_mite',\n",
       "   'Tomato___Target_Spot',\n",
       "   'Tomato___Tomato_Yellow_Leaf_Curl_Virus',\n",
       "   'Tomato___Tomato_mosaic_virus',\n",
       "   'Tomato___healthy'],\n",
       "  'created_date': '2020-01-26 22:43:34',\n",
       "  'file_counts': {'train': 14404, 'test': 1801, 'eval': 1801}},\n",
       " 'history': {'loss': [85.37230176899168,\n",
       "   0.8579564248190986,\n",
       "   0.6707932068241967,\n",
       "   0.5601764195495181,\n",
       "   0.4466512566804886,\n",
       "   0.3858217908276452,\n",
       "   0.32622091790040336,\n",
       "   0.3008789775106642,\n",
       "   0.22292260016004245,\n",
       "   0.20981842675142817,\n",
       "   0.16964296349220806,\n",
       "   0.1490042522135708,\n",
       "   0.12295787191225423],\n",
       "  'accuracy': [0.43138888478279114,\n",
       "   0.7161805629730225,\n",
       "   0.7787500023841858,\n",
       "   0.8134027719497681,\n",
       "   0.846875011920929,\n",
       "   0.8702083230018616,\n",
       "   0.8913888931274414,\n",
       "   0.8952777981758118,\n",
       "   0.9236805438995361,\n",
       "   0.9283333420753479,\n",
       "   0.9435416460037231,\n",
       "   0.9484027624130249,\n",
       "   0.9572222232818604],\n",
       "  'val_loss': [1.0071017039673669,\n",
       "   0.745744696685246,\n",
       "   0.602060005068779,\n",
       "   0.4986364554081644,\n",
       "   0.46534593616213116,\n",
       "   0.4195285567215511,\n",
       "   0.5543063602277211,\n",
       "   0.33252642756061895,\n",
       "   0.33421182738883154,\n",
       "   0.3388718728508268,\n",
       "   0.41928164128746304,\n",
       "   0.361734892640795,\n",
       "   0.4497639962605068],\n",
       "  'val_accuracy': [0.6356026530265808,\n",
       "   0.7477678656578064,\n",
       "   0.7991071343421936,\n",
       "   0.8337053656578064,\n",
       "   0.8404017686843872,\n",
       "   0.86328125,\n",
       "   0.8180803656578064,\n",
       "   0.8978794813156128,\n",
       "   0.88671875,\n",
       "   0.8889508843421936,\n",
       "   0.8772321343421936,\n",
       "   0.89453125,\n",
       "   0.8811383843421936]}}"
      ]
     },
     "execution_count": 22,
     "metadata": {},
     "output_type": "execute_result"
    }
   ],
   "source": [
    "model_metadata_file_path = pathlib.Path(\"..\", training_logs[\"linear\"], \"metadata.json\")\n",
    "model_metadata = io.read_metadata(str(model_metadata_file_path))\n",
    "model_metadata"
   ]
  },
  {
   "cell_type": "code",
   "execution_count": 23,
   "metadata": {},
   "outputs": [],
   "source": [
    "history = model_metadata[\"history\"]\n",
    "metrics_df = visualize.create_metrics_dataframe(history)"
   ]
  },
  {
   "cell_type": "code",
   "execution_count": 24,
   "metadata": {},
   "outputs": [
    {
     "data": {
      "image/png": "[encoded data removed]",
      "text/plain": [
       "<Figure size 432x288 with 1 Axes>"
      ]
     },
     "metadata": {
      "needs_background": "light"
     },
     "output_type": "display_data"
    }
   ],
   "source": [
    "loss_plot = visualize.learning_curves(\"loss\", metrics_df)"
   ]
  },
  {
   "cell_type": "code",
   "execution_count": 25,
   "metadata": {},
   "outputs": [
    {
     "data": {
      "image/png": "[encoded data removed]",
      "text/plain": [
       "<Figure size 432x288 with 1 Axes>"
      ]
     },
     "metadata": {
      "needs_background": "light"
     },
     "output_type": "display_data"
    }
   ],
   "source": [
    "accuracy_plot = visualize.learning_curves(\"accuracy\", metrics_df)"
   ]
  },
  {
   "cell_type": "code",
   "execution_count": null,
   "metadata": {},
   "outputs": [],
   "source": []
  }
 ],
 "metadata": {
  "kernelspec": {
   "display_name": "Python 3",
   "language": "python",
   "name": "python3"
  },
  "language_info": {
   "codemirror_mode": {
    "name": "ipython",
    "version": 3
   },
   "file_extension": ".py",
   "mimetype": "text/x-python",
   "name": "python",
   "nbconvert_exporter": "python",
   "pygments_lexer": "ipython3",
   "version": "3.7.6"
  }
 },
 "nbformat": 4,
 "nbformat_minor": 4
}
