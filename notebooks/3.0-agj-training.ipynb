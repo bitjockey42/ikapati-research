{
 "cells": [
  {
   "cell_type": "code",
   "execution_count": 1,
   "metadata": {},
   "outputs": [],
   "source": [
    "%load_ext autoreload\n",
    "%autoreload 2"
   ]
  },
  {
   "cell_type": "code",
   "execution_count": 2,
   "metadata": {},
   "outputs": [],
   "source": [
    "import src.models.train_model as trainer\n",
    "import src.models.predict_model as predictor"
   ]
  },
  {
   "cell_type": "markdown",
   "metadata": {},
   "source": [
    "# Training"
   ]
  },
  {
   "cell_type": "markdown",
   "metadata": {},
   "source": [
    "## Corn"
   ]
  },
  {
   "cell_type": "code",
   "execution_count": 3,
   "metadata": {},
   "outputs": [],
   "source": [
    "data_dir = \"../data/processed/Corn/\""
   ]
  },
  {
   "cell_type": "code",
   "execution_count": 4,
   "metadata": {},
   "outputs": [],
   "source": [
    "train_data, train_labels = trainer._load_training_data(data_dir)\n",
    "eval_data, eval_labels = trainer._load_testing_data(data_dir)"
   ]
  },
  {
   "cell_type": "code",
   "execution_count": 5,
   "metadata": {},
   "outputs": [],
   "source": [
    "num_classes = train_labels[0].shape[0]"
   ]
  },
  {
   "cell_type": "code",
   "execution_count": 6,
   "metadata": {},
   "outputs": [
    {
     "name": "stdout",
     "output_type": "stream",
     "text": [
      "Model: \"sequential\"\n",
      "_________________________________________________________________\n",
      "Layer (type)                 Output Shape              Param #   \n",
      "=================================================================\n",
      "conv2d (Conv2D)              (None, 256, 256, 32)      896       \n",
      "_________________________________________________________________\n",
      "leaky_re_lu (LeakyReLU)      (None, 256, 256, 32)      0         \n",
      "_________________________________________________________________\n",
      "max_pooling2d (MaxPooling2D) (None, 128, 128, 32)      0         \n",
      "_________________________________________________________________\n",
      "dropout (Dropout)            (None, 128, 128, 32)      0         \n",
      "_________________________________________________________________\n",
      "conv2d_1 (Conv2D)            (None, 128, 128, 64)      18496     \n",
      "_________________________________________________________________\n",
      "leaky_re_lu_1 (LeakyReLU)    (None, 128, 128, 64)      0         \n",
      "_________________________________________________________________\n",
      "max_pooling2d_1 (MaxPooling2 (None, 64, 64, 64)        0         \n",
      "_________________________________________________________________\n",
      "dropout_1 (Dropout)          (None, 64, 64, 64)        0         \n",
      "_________________________________________________________________\n",
      "conv2d_2 (Conv2D)            (None, 64, 64, 128)       73856     \n",
      "_________________________________________________________________\n",
      "leaky_re_lu_2 (LeakyReLU)    (None, 64, 64, 128)       0         \n",
      "_________________________________________________________________\n",
      "max_pooling2d_2 (MaxPooling2 (None, 32, 32, 128)       0         \n",
      "_________________________________________________________________\n",
      "dropout_2 (Dropout)          (None, 32, 32, 128)       0         \n",
      "_________________________________________________________________\n",
      "flatten (Flatten)            (None, 131072)            0         \n",
      "_________________________________________________________________\n",
      "dense (Dense)                (None, 128)               16777344  \n",
      "_________________________________________________________________\n",
      "leaky_re_lu_3 (LeakyReLU)    (None, 128)               0         \n",
      "_________________________________________________________________\n",
      "dropout_3 (Dropout)          (None, 128)               0         \n",
      "_________________________________________________________________\n",
      "dense_1 (Dense)              (None, 4)                 516       \n",
      "=================================================================\n",
      "Total params: 16,871,108\n",
      "Trainable params: 16,871,108\n",
      "Non-trainable params: 0\n",
      "_________________________________________________________________\n"
     ]
    }
   ],
   "source": [
    "classifier = trainer.model(num_classes)"
   ]
  },
  {
   "cell_type": "code",
   "execution_count": 7,
   "metadata": {},
   "outputs": [],
   "source": [
    "batch_size = 64\n",
    "epochs = 20"
   ]
  },
  {
   "cell_type": "code",
   "execution_count": 8,
   "metadata": {},
   "outputs": [
    {
     "name": "stdout",
     "output_type": "stream",
     "text": [
      "Train on 1618 samples, validate on 405 samples\n",
      "Epoch 1/20\n",
      "1618/1618 [==============================] - 12s 7ms/sample - loss: 2.1136 - accuracy: 0.6446 - val_loss: 0.5286 - val_accuracy: 0.7506\n",
      "Epoch 2/20\n",
      "1618/1618 [==============================] - 4s 2ms/sample - loss: 0.4516 - accuracy: 0.8164 - val_loss: 0.4338 - val_accuracy: 0.8000\n",
      "Epoch 3/20\n",
      "1618/1618 [==============================] - 4s 2ms/sample - loss: 0.3551 - accuracy: 0.8387 - val_loss: 0.3908 - val_accuracy: 0.8469\n",
      "Epoch 4/20\n",
      "1618/1618 [==============================] - 4s 2ms/sample - loss: 0.2927 - accuracy: 0.8752 - val_loss: 0.3746 - val_accuracy: 0.8469\n",
      "Epoch 5/20\n",
      "1618/1618 [==============================] - 4s 2ms/sample - loss: 0.2620 - accuracy: 0.8789 - val_loss: 0.3398 - val_accuracy: 0.8568\n",
      "Epoch 6/20\n",
      "1618/1618 [==============================] - 4s 2ms/sample - loss: 0.2169 - accuracy: 0.9054 - val_loss: 0.4757 - val_accuracy: 0.8296\n",
      "Epoch 7/20\n",
      "1618/1618 [==============================] - 4s 2ms/sample - loss: 0.1887 - accuracy: 0.9246 - val_loss: 0.3201 - val_accuracy: 0.8543\n",
      "Epoch 8/20\n",
      "1618/1618 [==============================] - 4s 2ms/sample - loss: 0.1407 - accuracy: 0.9425 - val_loss: 0.2821 - val_accuracy: 0.8593\n",
      "Epoch 9/20\n",
      "1618/1618 [==============================] - 4s 2ms/sample - loss: 0.1159 - accuracy: 0.9481 - val_loss: 0.2590 - val_accuracy: 0.8914\n",
      "Epoch 10/20\n",
      "1618/1618 [==============================] - 4s 2ms/sample - loss: 0.1282 - accuracy: 0.9462 - val_loss: 0.2757 - val_accuracy: 0.8864\n",
      "Epoch 11/20\n",
      "1618/1618 [==============================] - 4s 2ms/sample - loss: 0.1390 - accuracy: 0.9407 - val_loss: 0.3346 - val_accuracy: 0.8469\n",
      "Epoch 12/20\n",
      "1618/1618 [==============================] - 4s 2ms/sample - loss: 0.0708 - accuracy: 0.9753 - val_loss: 0.3247 - val_accuracy: 0.8716\n",
      "Epoch 13/20\n",
      "1618/1618 [==============================] - 4s 2ms/sample - loss: 0.0706 - accuracy: 0.9728 - val_loss: 0.2901 - val_accuracy: 0.8914\n",
      "Epoch 14/20\n",
      "1618/1618 [==============================] - 4s 2ms/sample - loss: 0.0588 - accuracy: 0.9821 - val_loss: 0.2820 - val_accuracy: 0.8914\n",
      "Epoch 15/20\n",
      "1618/1618 [==============================] - 4s 2ms/sample - loss: 0.0401 - accuracy: 0.9870 - val_loss: 0.2742 - val_accuracy: 0.9012\n",
      "Epoch 16/20\n",
      "1618/1618 [==============================] - 4s 2ms/sample - loss: 0.0275 - accuracy: 0.9913 - val_loss: 0.3103 - val_accuracy: 0.8889\n",
      "Epoch 17/20\n",
      "1618/1618 [==============================] - 4s 2ms/sample - loss: 0.0514 - accuracy: 0.9821 - val_loss: 0.2698 - val_accuracy: 0.8840\n",
      "Epoch 18/20\n",
      "1618/1618 [==============================] - 4s 2ms/sample - loss: 0.0348 - accuracy: 0.9901 - val_loss: 0.3067 - val_accuracy: 0.8938\n",
      "Epoch 19/20\n",
      "1618/1618 [==============================] - 4s 2ms/sample - loss: 0.0122 - accuracy: 0.9975 - val_loss: 0.3344 - val_accuracy: 0.9012\n",
      "Epoch 20/20\n",
      "1618/1618 [==============================] - 4s 2ms/sample - loss: 0.0127 - accuracy: 0.9969 - val_loss: 0.3433 - val_accuracy: 0.9086\n"
     ]
    },
    {
     "data": {
      "text/plain": [
       "<tensorflow.python.keras.callbacks.History at 0x7f51203a4c50>"
      ]
     },
     "execution_count": 8,
     "metadata": {},
     "output_type": "execute_result"
    }
   ],
   "source": [
    "classifier.fit(train_data, train_labels, batch_size=batch_size, epochs=epochs, validation_data=(eval_data, eval_labels))"
   ]
  },
  {
   "cell_type": "code",
   "execution_count": 9,
   "metadata": {},
   "outputs": [],
   "source": [
    "classifier.save(\"../models/Corn.h5\")"
   ]
  },
  {
   "cell_type": "markdown",
   "metadata": {},
   "source": [
    "## Pepper"
   ]
  },
  {
   "cell_type": "code",
   "execution_count": 33,
   "metadata": {},
   "outputs": [
    {
     "name": "stdout",
     "output_type": "stream",
     "text": [
      "Model: \"sequential_1\"\n",
      "_________________________________________________________________\n",
      "Layer (type)                 Output Shape              Param #   \n",
      "=================================================================\n",
      "conv2d_3 (Conv2D)            (None, 256, 256, 32)      896       \n",
      "_________________________________________________________________\n",
      "leaky_re_lu_4 (LeakyReLU)    (None, 256, 256, 32)      0         \n",
      "_________________________________________________________________\n",
      "max_pooling2d_3 (MaxPooling2 (None, 128, 128, 32)      0         \n",
      "_________________________________________________________________\n",
      "dropout_4 (Dropout)          (None, 128, 128, 32)      0         \n",
      "_________________________________________________________________\n",
      "conv2d_4 (Conv2D)            (None, 128, 128, 64)      18496     \n",
      "_________________________________________________________________\n",
      "leaky_re_lu_5 (LeakyReLU)    (None, 128, 128, 64)      0         \n",
      "_________________________________________________________________\n",
      "max_pooling2d_4 (MaxPooling2 (None, 64, 64, 64)        0         \n",
      "_________________________________________________________________\n",
      "dropout_5 (Dropout)          (None, 64, 64, 64)        0         \n",
      "_________________________________________________________________\n",
      "conv2d_5 (Conv2D)            (None, 64, 64, 128)       73856     \n",
      "_________________________________________________________________\n",
      "leaky_re_lu_6 (LeakyReLU)    (None, 64, 64, 128)       0         \n",
      "_________________________________________________________________\n",
      "max_pooling2d_5 (MaxPooling2 (None, 32, 32, 128)       0         \n",
      "_________________________________________________________________\n",
      "dropout_6 (Dropout)          (None, 32, 32, 128)       0         \n",
      "_________________________________________________________________\n",
      "flatten_1 (Flatten)          (None, 131072)            0         \n",
      "_________________________________________________________________\n",
      "dense_2 (Dense)              (None, 128)               16777344  \n",
      "_________________________________________________________________\n",
      "leaky_re_lu_7 (LeakyReLU)    (None, 128)               0         \n",
      "_________________________________________________________________\n",
      "dropout_7 (Dropout)          (None, 128)               0         \n",
      "_________________________________________________________________\n",
      "dense_3 (Dense)              (None, 2)                 258       \n",
      "=================================================================\n",
      "Total params: 16,870,850\n",
      "Trainable params: 16,870,850\n",
      "Non-trainable params: 0\n",
      "_________________________________________________________________\n",
      "Train on 1582 samples, validate on 396 samples\n",
      "Epoch 1/20\n",
      "1582/1582 [==============================] - 4s 3ms/sample - loss: 2.1147 - accuracy: 0.6030 - val_loss: 0.8310 - val_accuracy: 0.5859\n",
      "Epoch 2/20\n",
      "1582/1582 [==============================] - 3s 2ms/sample - loss: 0.4381 - accuracy: 0.8015 - val_loss: 0.7631 - val_accuracy: 0.6591\n",
      "Epoch 3/20\n",
      "1582/1582 [==============================] - 3s 2ms/sample - loss: 0.2515 - accuracy: 0.8925 - val_loss: 0.2095 - val_accuracy: 0.8990\n",
      "Epoch 4/20\n",
      "1582/1582 [==============================] - 3s 2ms/sample - loss: 0.1150 - accuracy: 0.9583 - val_loss: 0.1234 - val_accuracy: 0.9419\n",
      "Epoch 5/20\n",
      "1582/1582 [==============================] - 3s 2ms/sample - loss: 0.0601 - accuracy: 0.9779 - val_loss: 0.1509 - val_accuracy: 0.9318\n",
      "Epoch 6/20\n",
      "1582/1582 [==============================] - 3s 2ms/sample - loss: 0.0412 - accuracy: 0.9855 - val_loss: 0.1473 - val_accuracy: 0.9444\n",
      "Epoch 7/20\n",
      "1582/1582 [==============================] - 3s 2ms/sample - loss: 0.0403 - accuracy: 0.9861 - val_loss: 0.0618 - val_accuracy: 0.9874\n",
      "Epoch 8/20\n",
      "1582/1582 [==============================] - 4s 2ms/sample - loss: 0.0180 - accuracy: 0.9937 - val_loss: 0.0712 - val_accuracy: 0.9798\n",
      "Epoch 9/20\n",
      "1582/1582 [==============================] - 3s 2ms/sample - loss: 0.0085 - accuracy: 0.9975 - val_loss: 0.0487 - val_accuracy: 0.9874\n",
      "Epoch 10/20\n",
      "1582/1582 [==============================] - 3s 2ms/sample - loss: 0.0109 - accuracy: 0.9962 - val_loss: 0.0751 - val_accuracy: 0.9773\n",
      "Epoch 11/20\n",
      "1582/1582 [==============================] - 3s 2ms/sample - loss: 0.0056 - accuracy: 0.9987 - val_loss: 0.0577 - val_accuracy: 0.9848\n",
      "Epoch 12/20\n",
      "1582/1582 [==============================] - 3s 2ms/sample - loss: 0.0038 - accuracy: 0.9987 - val_loss: 0.0531 - val_accuracy: 0.9899\n",
      "Epoch 13/20\n",
      "1582/1582 [==============================] - 4s 2ms/sample - loss: 0.0019 - accuracy: 1.0000 - val_loss: 0.0724 - val_accuracy: 0.9848\n",
      "Epoch 14/20\n",
      "1582/1582 [==============================] - 4s 2ms/sample - loss: 0.0011 - accuracy: 1.0000 - val_loss: 0.0683 - val_accuracy: 0.9874\n",
      "Epoch 15/20\n",
      "1582/1582 [==============================] - 4s 2ms/sample - loss: 8.9819e-04 - accuracy: 1.0000 - val_loss: 0.0620 - val_accuracy: 0.9848\n",
      "Epoch 16/20\n",
      "1582/1582 [==============================] - 4s 2ms/sample - loss: 7.5790e-04 - accuracy: 1.0000 - val_loss: 0.0650 - val_accuracy: 0.9874\n",
      "Epoch 17/20\n",
      "1582/1582 [==============================] - 4s 2ms/sample - loss: 2.8274e-04 - accuracy: 1.0000 - val_loss: 0.0635 - val_accuracy: 0.9848\n",
      "Epoch 18/20\n",
      "1582/1582 [==============================] - 4s 2ms/sample - loss: 5.5777e-04 - accuracy: 1.0000 - val_loss: 0.0665 - val_accuracy: 0.9848\n",
      "Epoch 19/20\n",
      "1582/1582 [==============================] - 4s 2ms/sample - loss: 5.7537e-04 - accuracy: 1.0000 - val_loss: 0.0785 - val_accuracy: 0.9899\n",
      "Epoch 20/20\n",
      "1582/1582 [==============================] - 4s 2ms/sample - loss: 2.2130e-04 - accuracy: 1.0000 - val_loss: 0.0704 - val_accuracy: 0.9899\n"
     ]
    },
    {
     "data": {
      "text/plain": [
       "<tensorflow.python.keras.callbacks.History at 0x7f02cfcbc790>"
      ]
     },
     "execution_count": 33,
     "metadata": {},
     "output_type": "execute_result"
    }
   ],
   "source": [
    "data_dir = \"../data/processed/Pepper/\"\n",
    "train_data, train_labels = trainer._load_training_data(data_dir)\n",
    "eval_data, eval_labels = trainer._load_testing_data(data_dir)\n",
    "num_classes = train_labels[0].shape[0]\n",
    "classifier = trainer.model(num_classes)\n",
    "batch_size = 64\n",
    "epochs = 20\n",
    "classifier.fit(train_data, train_labels, batch_size=batch_size, epochs=epochs, validation_data=(eval_data, eval_labels))"
   ]
  },
  {
   "cell_type": "code",
   "execution_count": 34,
   "metadata": {},
   "outputs": [],
   "source": [
    "classifier.save(\"../models/Pepper.h5\")"
   ]
  },
  {
   "cell_type": "markdown",
   "metadata": {},
   "source": [
    "# Test"
   ]
  },
  {
   "cell_type": "code",
   "execution_count": 20,
   "metadata": {},
   "outputs": [],
   "source": [
    "from tensorflow import keras"
   ]
  },
  {
   "cell_type": "code",
   "execution_count": 21,
   "metadata": {},
   "outputs": [],
   "source": [
    "import numpy as np\n",
    "import os\n",
    "\n",
    "def load_testing_data(base_dir):\n",
    "    \"\"\"Load testing data\"\"\"\n",
    "    x_test = np.load(os.path.join(base_dir, 'test_data.npy'))\n",
    "    y_test = np.load(os.path.join(base_dir, 'test_labels.npy'))\n",
    "    return x_test, y_test"
   ]
  },
  {
   "cell_type": "markdown",
   "metadata": {},
   "source": [
    "## Corn"
   ]
  },
  {
   "cell_type": "code",
   "execution_count": 22,
   "metadata": {},
   "outputs": [
    {
     "name": "stdout",
     "output_type": "stream",
     "text": [
      "Model: \"sequential\"\n",
      "_________________________________________________________________\n",
      "Layer (type)                 Output Shape              Param #   \n",
      "=================================================================\n",
      "conv2d (Conv2D)              (None, 256, 256, 32)      896       \n",
      "_________________________________________________________________\n",
      "leaky_re_lu (LeakyReLU)      (None, 256, 256, 32)      0         \n",
      "_________________________________________________________________\n",
      "max_pooling2d (MaxPooling2D) (None, 128, 128, 32)      0         \n",
      "_________________________________________________________________\n",
      "dropout (Dropout)            (None, 128, 128, 32)      0         \n",
      "_________________________________________________________________\n",
      "conv2d_1 (Conv2D)            (None, 128, 128, 64)      18496     \n",
      "_________________________________________________________________\n",
      "leaky_re_lu_1 (LeakyReLU)    (None, 128, 128, 64)      0         \n",
      "_________________________________________________________________\n",
      "max_pooling2d_1 (MaxPooling2 (None, 64, 64, 64)        0         \n",
      "_________________________________________________________________\n",
      "dropout_1 (Dropout)          (None, 64, 64, 64)        0         \n",
      "_________________________________________________________________\n",
      "conv2d_2 (Conv2D)            (None, 64, 64, 128)       73856     \n",
      "_________________________________________________________________\n",
      "leaky_re_lu_2 (LeakyReLU)    (None, 64, 64, 128)       0         \n",
      "_________________________________________________________________\n",
      "max_pooling2d_2 (MaxPooling2 (None, 32, 32, 128)       0         \n",
      "_________________________________________________________________\n",
      "dropout_2 (Dropout)          (None, 32, 32, 128)       0         \n",
      "_________________________________________________________________\n",
      "flatten (Flatten)            (None, 131072)            0         \n",
      "_________________________________________________________________\n",
      "dense (Dense)                (None, 128)               16777344  \n",
      "_________________________________________________________________\n",
      "leaky_re_lu_3 (LeakyReLU)    (None, 128)               0         \n",
      "_________________________________________________________________\n",
      "dropout_3 (Dropout)          (None, 128)               0         \n",
      "_________________________________________________________________\n",
      "dense_1 (Dense)              (None, 4)                 516       \n",
      "=================================================================\n",
      "Total params: 16,871,108\n",
      "Trainable params: 16,871,108\n",
      "Non-trainable params: 0\n",
      "_________________________________________________________________\n"
     ]
    }
   ],
   "source": [
    "trained_model = keras.models.load_model(\"../models/Corn.h5\")\n",
    "trained_model.summary()"
   ]
  },
  {
   "cell_type": "code",
   "execution_count": 23,
   "metadata": {},
   "outputs": [],
   "source": [
    "test_images, test_labels = load_testing_data(\"../data/processed/Corn/\")"
   ]
  },
  {
   "cell_type": "code",
   "execution_count": 14,
   "metadata": {},
   "outputs": [
    {
     "name": "stdout",
     "output_type": "stream",
     "text": [
      "506/1 - 1s - loss: 0.2087 - accuracy: 0.9012\n"
     ]
    }
   ],
   "source": [
    "loss, acc = trained_model.evaluate(test_images, test_labels, verbose=2)"
   ]
  },
  {
   "cell_type": "code",
   "execution_count": 15,
   "metadata": {},
   "outputs": [
    {
     "name": "stdout",
     "output_type": "stream",
     "text": [
      "Model: \"sequential\"\n",
      "_________________________________________________________________\n",
      "Layer (type)                 Output Shape              Param #   \n",
      "=================================================================\n",
      "conv2d (Conv2D)              (None, 256, 256, 32)      896       \n",
      "_________________________________________________________________\n",
      "leaky_re_lu (LeakyReLU)      (None, 256, 256, 32)      0         \n",
      "_________________________________________________________________\n",
      "max_pooling2d (MaxPooling2D) (None, 128, 128, 32)      0         \n",
      "_________________________________________________________________\n",
      "dropout (Dropout)            (None, 128, 128, 32)      0         \n",
      "_________________________________________________________________\n",
      "conv2d_1 (Conv2D)            (None, 128, 128, 64)      18496     \n",
      "_________________________________________________________________\n",
      "leaky_re_lu_1 (LeakyReLU)    (None, 128, 128, 64)      0         \n",
      "_________________________________________________________________\n",
      "max_pooling2d_1 (MaxPooling2 (None, 64, 64, 64)        0         \n",
      "_________________________________________________________________\n",
      "dropout_1 (Dropout)          (None, 64, 64, 64)        0         \n",
      "_________________________________________________________________\n",
      "conv2d_2 (Conv2D)            (None, 64, 64, 128)       73856     \n",
      "_________________________________________________________________\n",
      "leaky_re_lu_2 (LeakyReLU)    (None, 64, 64, 128)       0         \n",
      "_________________________________________________________________\n",
      "max_pooling2d_2 (MaxPooling2 (None, 32, 32, 128)       0         \n",
      "_________________________________________________________________\n",
      "dropout_2 (Dropout)          (None, 32, 32, 128)       0         \n",
      "_________________________________________________________________\n",
      "flatten (Flatten)            (None, 131072)            0         \n",
      "_________________________________________________________________\n",
      "dense (Dense)                (None, 128)               16777344  \n",
      "_________________________________________________________________\n",
      "leaky_re_lu_3 (LeakyReLU)    (None, 128)               0         \n",
      "_________________________________________________________________\n",
      "dropout_3 (Dropout)          (None, 128)               0         \n",
      "_________________________________________________________________\n",
      "dense_1 (Dense)              (None, 4)                 516       \n",
      "=================================================================\n",
      "Total params: 16,871,108\n",
      "Trainable params: 16,871,108\n",
      "Non-trainable params: 0\n",
      "_________________________________________________________________\n",
      "506/1 - 1s - loss: 0.2921 - accuracy: 0.8953\n"
     ]
    }
   ],
   "source": [
    "# the old model\n",
    "trained_model = keras.models.load_model(\"../models/corn.h5\")\n",
    "trained_model.summary()\n",
    "test_images, test_labels = load_testing_data(\"../data/processed/Corn/\")\n",
    "loss, acc = trained_model.evaluate(test_images, test_labels, verbose=2)"
   ]
  },
  {
   "cell_type": "code",
   "execution_count": 19,
   "metadata": {},
   "outputs": [],
   "source": [
    "predictions = trained_model.predict(test_images)"
   ]
  },
  {
   "cell_type": "code",
   "execution_count": 40,
   "metadata": {},
   "outputs": [
    {
     "data": {
      "text/plain": [
       "array([0., 0., 1., 0.], dtype=float32)"
      ]
     },
     "execution_count": 40,
     "metadata": {},
     "output_type": "execute_result"
    }
   ],
   "source": [
    "keras.utils.to_categorical(np.argmax(predictions[500], axis=0), 4)"
   ]
  },
  {
   "cell_type": "code",
   "execution_count": 41,
   "metadata": {},
   "outputs": [
    {
     "data": {
      "text/plain": [
       "array([0., 0., 1., 0.], dtype=float32)"
      ]
     },
     "execution_count": 41,
     "metadata": {},
     "output_type": "execute_result"
    }
   ],
   "source": [
    "test_labels[500]"
   ]
  },
  {
   "cell_type": "code",
   "execution_count": 37,
   "metadata": {},
   "outputs": [
    {
     "data": {
      "text/plain": [
       "506"
      ]
     },
     "execution_count": 37,
     "metadata": {},
     "output_type": "execute_result"
    }
   ],
   "source": [
    "len(test_labels)"
   ]
  },
  {
   "cell_type": "markdown",
   "metadata": {},
   "source": [
    "## Pepper"
   ]
  },
  {
   "cell_type": "code",
   "execution_count": 36,
   "metadata": {},
   "outputs": [],
   "source": [
    "trained_model = keras.models.load_model(\"../models/Pepper.h5\")"
   ]
  },
  {
   "cell_type": "code",
   "execution_count": 38,
   "metadata": {},
   "outputs": [
    {
     "data": {
      "text/plain": [
       "<tensorflow.python.keras.engine.sequential.Sequential at 0x7f0270a10290>"
      ]
     },
     "execution_count": 38,
     "metadata": {},
     "output_type": "execute_result"
    }
   ],
   "source": [
    "trained_model"
   ]
  },
  {
   "cell_type": "code",
   "execution_count": 39,
   "metadata": {},
   "outputs": [
    {
     "name": "stdout",
     "output_type": "stream",
     "text": [
      "Model: \"sequential_1\"\n",
      "_________________________________________________________________\n",
      "Layer (type)                 Output Shape              Param #   \n",
      "=================================================================\n",
      "conv2d_3 (Conv2D)            (None, 256, 256, 32)      896       \n",
      "_________________________________________________________________\n",
      "leaky_re_lu_4 (LeakyReLU)    (None, 256, 256, 32)      0         \n",
      "_________________________________________________________________\n",
      "max_pooling2d_3 (MaxPooling2 (None, 128, 128, 32)      0         \n",
      "_________________________________________________________________\n",
      "dropout_4 (Dropout)          (None, 128, 128, 32)      0         \n",
      "_________________________________________________________________\n",
      "conv2d_4 (Conv2D)            (None, 128, 128, 64)      18496     \n",
      "_________________________________________________________________\n",
      "leaky_re_lu_5 (LeakyReLU)    (None, 128, 128, 64)      0         \n",
      "_________________________________________________________________\n",
      "max_pooling2d_4 (MaxPooling2 (None, 64, 64, 64)        0         \n",
      "_________________________________________________________________\n",
      "dropout_5 (Dropout)          (None, 64, 64, 64)        0         \n",
      "_________________________________________________________________\n",
      "conv2d_5 (Conv2D)            (None, 64, 64, 128)       73856     \n",
      "_________________________________________________________________\n",
      "leaky_re_lu_6 (LeakyReLU)    (None, 64, 64, 128)       0         \n",
      "_________________________________________________________________\n",
      "max_pooling2d_5 (MaxPooling2 (None, 32, 32, 128)       0         \n",
      "_________________________________________________________________\n",
      "dropout_6 (Dropout)          (None, 32, 32, 128)       0         \n",
      "_________________________________________________________________\n",
      "flatten_1 (Flatten)          (None, 131072)            0         \n",
      "_________________________________________________________________\n",
      "dense_2 (Dense)              (None, 128)               16777344  \n",
      "_________________________________________________________________\n",
      "leaky_re_lu_7 (LeakyReLU)    (None, 128)               0         \n",
      "_________________________________________________________________\n",
      "dropout_7 (Dropout)          (None, 128)               0         \n",
      "_________________________________________________________________\n",
      "dense_3 (Dense)              (None, 2)                 258       \n",
      "=================================================================\n",
      "Total params: 16,870,850\n",
      "Trainable params: 16,870,850\n",
      "Non-trainable params: 0\n",
      "_________________________________________________________________\n"
     ]
    }
   ],
   "source": [
    "trained_model.summary()"
   ]
  },
  {
   "cell_type": "code",
   "execution_count": 45,
   "metadata": {},
   "outputs": [],
   "source": [
    "test_images, test_labels = load_testing_data(\"../data/processed/Pepper/\")"
   ]
  },
  {
   "cell_type": "code",
   "execution_count": 47,
   "metadata": {},
   "outputs": [
    {
     "name": "stdout",
     "output_type": "stream",
     "text": [
      "495/1 - 1s - loss: 0.0518 - accuracy: 0.9737\n"
     ]
    }
   ],
   "source": [
    "loss, acc = trained_model.evaluate(test_images, test_labels, verbose=2)"
   ]
  },
  {
   "cell_type": "markdown",
   "metadata": {},
   "source": [
    "# Predictor"
   ]
  },
  {
   "cell_type": "code",
   "execution_count": 13,
   "metadata": {},
   "outputs": [],
   "source": [
    "model = predictor.load_model(\"../models/Corn.h5\")"
   ]
  },
  {
   "cell_type": "code",
   "execution_count": 14,
   "metadata": {},
   "outputs": [],
   "source": [
    "classes = predictor.get_classes(\"../data/processed/Corn/Corn_(maize)-labels.json\")"
   ]
  },
  {
   "cell_type": "code",
   "execution_count": 15,
   "metadata": {},
   "outputs": [
    {
     "data": {
      "text/plain": [
       "{'0': 'Cercospora_leaf_spot Gray_leaf_spot',\n",
       " '1': 'Common_rust_',\n",
       " '2': 'Northern_Leaf_Blight',\n",
       " '3': 'healthy'}"
      ]
     },
     "execution_count": 15,
     "metadata": {},
     "output_type": "execute_result"
    }
   ],
   "source": [
    "classes"
   ]
  },
  {
   "cell_type": "code",
   "execution_count": 16,
   "metadata": {},
   "outputs": [],
   "source": [
    "from src.data.image_processing import preprocess_image"
   ]
  },
  {
   "cell_type": "code",
   "execution_count": 17,
   "metadata": {},
   "outputs": [],
   "source": [
    "data = preprocess_image(\"../1621.JPG\")"
   ]
  },
  {
   "cell_type": "code",
   "execution_count": 18,
   "metadata": {},
   "outputs": [
    {
     "data": {
      "text/plain": [
       "(256, 256, 3)"
      ]
     },
     "execution_count": 18,
     "metadata": {},
     "output_type": "execute_result"
    }
   ],
   "source": [
    "data.shape"
   ]
  },
  {
   "cell_type": "code",
   "execution_count": 25,
   "metadata": {},
   "outputs": [
    {
     "data": {
      "text/plain": [
       "(506, 256, 256, 3)"
      ]
     },
     "execution_count": 25,
     "metadata": {},
     "output_type": "execute_result"
    }
   ],
   "source": [
    "test_images.shape"
   ]
  },
  {
   "cell_type": "code",
   "execution_count": 26,
   "metadata": {},
   "outputs": [
    {
     "data": {
      "text/plain": [
       "(256, 256, 3)"
      ]
     },
     "execution_count": 26,
     "metadata": {},
     "output_type": "execute_result"
    }
   ],
   "source": [
    "test_images[0].shape"
   ]
  },
  {
   "cell_type": "code",
   "execution_count": 27,
   "metadata": {},
   "outputs": [
    {
     "data": {
      "text/plain": [
       "array([[1.2587336e-08, 1.0000000e+00, 8.0318904e-11, 5.0162275e-12],\n",
       "       [1.8874422e-09, 1.0000000e+00, 2.4954841e-10, 4.7703425e-11],\n",
       "       [1.6879438e-09, 1.0000000e+00, 8.8894689e-16, 1.1405301e-14],\n",
       "       ...,\n",
       "       [1.5167467e-05, 9.0588871e-03, 9.8807305e-01, 2.8528438e-03],\n",
       "       [9.9978584e-01, 5.2795771e-12, 2.1415771e-04, 2.5801851e-13],\n",
       "       [2.6522891e-09, 1.0000000e+00, 1.2610921e-10, 8.1634916e-12]],\n",
       "      dtype=float32)"
      ]
     },
     "execution_count": 27,
     "metadata": {},
     "output_type": "execute_result"
    }
   ],
   "source": [
    "model.predict(test_images)"
   ]
  },
  {
   "cell_type": "code",
   "execution_count": 32,
   "metadata": {},
   "outputs": [],
   "source": [
    "prediction = model.predict(np.array([data]))"
   ]
  },
  {
   "cell_type": "code",
   "execution_count": 41,
   "metadata": {},
   "outputs": [
    {
     "ename": "KeyError",
     "evalue": "1",
     "output_type": "error",
     "traceback": [
      "\u001b[0;31m---------------------------------------------------------------------------\u001b[0m",
      "\u001b[0;31mKeyError\u001b[0m                                  Traceback (most recent call last)",
      "\u001b[0;32m<ipython-input-41-8d604e5a19e9>\u001b[0m in \u001b[0;36m<module>\u001b[0;34m\u001b[0m\n\u001b[0;32m----> 1\u001b[0;31m \u001b[0mclasses\u001b[0m\u001b[0;34m[\u001b[0m\u001b[0mnp\u001b[0m\u001b[0;34m.\u001b[0m\u001b[0margmax\u001b[0m\u001b[0;34m(\u001b[0m\u001b[0mprediction\u001b[0m\u001b[0;34m,\u001b[0m \u001b[0maxis\u001b[0m\u001b[0;34m=\u001b[0m\u001b[0;36m1\u001b[0m\u001b[0;34m)\u001b[0m\u001b[0;34m[\u001b[0m\u001b[0;36m0\u001b[0m\u001b[0;34m]\u001b[0m\u001b[0;34m]\u001b[0m\u001b[0;34m\u001b[0m\u001b[0;34m\u001b[0m\u001b[0m\n\u001b[0m",
      "\u001b[0;31mKeyError\u001b[0m: 1"
     ]
    }
   ],
   "source": [
    "classes[np.argmax(prediction, axis=1)[0]]"
   ]
  },
  {
   "cell_type": "code",
   "execution_count": 42,
   "metadata": {},
   "outputs": [
    {
     "data": {
      "text/plain": [
       "{'0': 'Cercospora_leaf_spot Gray_leaf_spot',\n",
       " '1': 'Common_rust_',\n",
       " '2': 'Northern_Leaf_Blight',\n",
       " '3': 'healthy'}"
      ]
     },
     "execution_count": 42,
     "metadata": {},
     "output_type": "execute_result"
    }
   ],
   "source": [
    "classes"
   ]
  },
  {
   "cell_type": "code",
   "execution_count": null,
   "metadata": {},
   "outputs": [],
   "source": []
  }
 ],
 "metadata": {
  "kernelspec": {
   "display_name": "Python 3",
   "language": "python",
   "name": "python3"
  },
  "language_info": {
   "codemirror_mode": {
    "name": "ipython",
    "version": 3
   },
   "file_extension": ".py",
   "mimetype": "text/x-python",
   "name": "python",
   "nbconvert_exporter": "python",
   "pygments_lexer": "ipython3",
   "version": "3.7.6"
  }
 },
 "nbformat": 4,
 "nbformat_minor": 4
}
