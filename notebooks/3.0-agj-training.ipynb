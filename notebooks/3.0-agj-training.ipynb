{
 "cells": [
  {
   "cell_type": "code",
   "execution_count": 1,
   "metadata": {},
   "outputs": [],
   "source": [
    "%load_ext autoreload\n",
    "%autoreload 2"
   ]
  },
  {
   "cell_type": "code",
   "execution_count": 2,
   "metadata": {},
   "outputs": [],
   "source": [
    "import src.models.train_model as trainer"
   ]
  },
  {
   "cell_type": "markdown",
   "metadata": {},
   "source": [
    "## Corn"
   ]
  },
  {
   "cell_type": "code",
   "execution_count": 23,
   "metadata": {},
   "outputs": [],
   "source": [
    "data_dir = \"../data/processed/Corn/\""
   ]
  },
  {
   "cell_type": "code",
   "execution_count": 24,
   "metadata": {},
   "outputs": [],
   "source": [
    "train_data, train_labels = trainer._load_training_data(data_dir)\n",
    "eval_data, eval_labels = trainer._load_testing_data(data_dir)"
   ]
  },
  {
   "cell_type": "code",
   "execution_count": 25,
   "metadata": {},
   "outputs": [],
   "source": [
    "num_classes = train_labels[0].shape[0]"
   ]
  },
  {
   "cell_type": "code",
   "execution_count": 27,
   "metadata": {},
   "outputs": [
    {
     "name": "stdout",
     "output_type": "stream",
     "text": [
      "Model: \"sequential\"\n",
      "_________________________________________________________________\n",
      "Layer (type)                 Output Shape              Param #   \n",
      "=================================================================\n",
      "conv2d (Conv2D)              (None, 256, 256, 32)      896       \n",
      "_________________________________________________________________\n",
      "leaky_re_lu (LeakyReLU)      (None, 256, 256, 32)      0         \n",
      "_________________________________________________________________\n",
      "max_pooling2d (MaxPooling2D) (None, 128, 128, 32)      0         \n",
      "_________________________________________________________________\n",
      "dropout (Dropout)            (None, 128, 128, 32)      0         \n",
      "_________________________________________________________________\n",
      "conv2d_1 (Conv2D)            (None, 128, 128, 64)      18496     \n",
      "_________________________________________________________________\n",
      "leaky_re_lu_1 (LeakyReLU)    (None, 128, 128, 64)      0         \n",
      "_________________________________________________________________\n",
      "max_pooling2d_1 (MaxPooling2 (None, 64, 64, 64)        0         \n",
      "_________________________________________________________________\n",
      "dropout_1 (Dropout)          (None, 64, 64, 64)        0         \n",
      "_________________________________________________________________\n",
      "conv2d_2 (Conv2D)            (None, 64, 64, 128)       73856     \n",
      "_________________________________________________________________\n",
      "leaky_re_lu_2 (LeakyReLU)    (None, 64, 64, 128)       0         \n",
      "_________________________________________________________________\n",
      "max_pooling2d_2 (MaxPooling2 (None, 32, 32, 128)       0         \n",
      "_________________________________________________________________\n",
      "dropout_2 (Dropout)          (None, 32, 32, 128)       0         \n",
      "_________________________________________________________________\n",
      "flatten (Flatten)            (None, 131072)            0         \n",
      "_________________________________________________________________\n",
      "dense (Dense)                (None, 128)               16777344  \n",
      "_________________________________________________________________\n",
      "leaky_re_lu_3 (LeakyReLU)    (None, 128)               0         \n",
      "_________________________________________________________________\n",
      "dropout_3 (Dropout)          (None, 128)               0         \n",
      "_________________________________________________________________\n",
      "dense_1 (Dense)              (None, 4)                 516       \n",
      "=================================================================\n",
      "Total params: 16,871,108\n",
      "Trainable params: 16,871,108\n",
      "Non-trainable params: 0\n",
      "_________________________________________________________________\n"
     ]
    }
   ],
   "source": [
    "classifier = trainer.model(num_classes)"
   ]
  },
  {
   "cell_type": "code",
   "execution_count": 29,
   "metadata": {},
   "outputs": [],
   "source": [
    "batch_size = 64\n",
    "epochs = 20"
   ]
  },
  {
   "cell_type": "code",
   "execution_count": 30,
   "metadata": {},
   "outputs": [
    {
     "name": "stdout",
     "output_type": "stream",
     "text": [
      "Train on 1618 samples, validate on 405 samples\n",
      "Epoch 1/20\n",
      "1618/1618 [==============================] - 6s 4ms/sample - loss: 2.6115 - accuracy: 0.6415 - val_loss: 0.4387 - val_accuracy: 0.7877\n",
      "Epoch 2/20\n",
      "1618/1618 [==============================] - 4s 2ms/sample - loss: 0.4422 - accuracy: 0.7973 - val_loss: 0.4037 - val_accuracy: 0.7901\n",
      "Epoch 3/20\n",
      "1618/1618 [==============================] - 4s 2ms/sample - loss: 0.3449 - accuracy: 0.8405 - val_loss: 0.6386 - val_accuracy: 0.6864\n",
      "Epoch 4/20\n",
      "1618/1618 [==============================] - 4s 2ms/sample - loss: 0.3305 - accuracy: 0.8486 - val_loss: 0.3847 - val_accuracy: 0.8074\n",
      "Epoch 5/20\n",
      "1618/1618 [==============================] - 3s 2ms/sample - loss: 0.2756 - accuracy: 0.8684 - val_loss: 0.3673 - val_accuracy: 0.8420\n",
      "Epoch 6/20\n",
      "1618/1618 [==============================] - 4s 2ms/sample - loss: 0.2248 - accuracy: 0.9011 - val_loss: 0.3978 - val_accuracy: 0.8049\n",
      "Epoch 7/20\n",
      "1618/1618 [==============================] - 3s 2ms/sample - loss: 0.2168 - accuracy: 0.9153 - val_loss: 0.3599 - val_accuracy: 0.8321\n",
      "Epoch 8/20\n",
      "1618/1618 [==============================] - 4s 2ms/sample - loss: 0.2002 - accuracy: 0.9116 - val_loss: 0.4343 - val_accuracy: 0.8123\n",
      "Epoch 9/20\n",
      "1618/1618 [==============================] - 4s 2ms/sample - loss: 0.1702 - accuracy: 0.9308 - val_loss: 0.2744 - val_accuracy: 0.8790\n",
      "Epoch 10/20\n",
      "1618/1618 [==============================] - 4s 2ms/sample - loss: 0.1162 - accuracy: 0.9506 - val_loss: 0.3009 - val_accuracy: 0.8840\n",
      "Epoch 11/20\n",
      "1618/1618 [==============================] - 4s 2ms/sample - loss: 0.1106 - accuracy: 0.9580 - val_loss: 0.2863 - val_accuracy: 0.8741\n",
      "Epoch 12/20\n",
      "1618/1618 [==============================] - 4s 2ms/sample - loss: 0.0901 - accuracy: 0.9660 - val_loss: 0.3415 - val_accuracy: 0.8790\n",
      "Epoch 13/20\n",
      "1618/1618 [==============================] - 4s 2ms/sample - loss: 0.0663 - accuracy: 0.9765 - val_loss: 0.2974 - val_accuracy: 0.8864\n",
      "Epoch 14/20\n",
      "1618/1618 [==============================] - 4s 2ms/sample - loss: 0.0477 - accuracy: 0.9827 - val_loss: 0.3194 - val_accuracy: 0.8840\n",
      "Epoch 15/20\n",
      "1618/1618 [==============================] - 4s 2ms/sample - loss: 0.0518 - accuracy: 0.9771 - val_loss: 0.3128 - val_accuracy: 0.8889\n",
      "Epoch 16/20\n",
      "1618/1618 [==============================] - 4s 2ms/sample - loss: 0.0652 - accuracy: 0.9747 - val_loss: 0.2970 - val_accuracy: 0.8988\n",
      "Epoch 17/20\n",
      "1618/1618 [==============================] - 4s 2ms/sample - loss: 0.0261 - accuracy: 0.9920 - val_loss: 0.3243 - val_accuracy: 0.8988\n",
      "Epoch 18/20\n",
      "1618/1618 [==============================] - 4s 2ms/sample - loss: 0.0555 - accuracy: 0.9790 - val_loss: 0.2957 - val_accuracy: 0.9012\n",
      "Epoch 19/20\n",
      "1618/1618 [==============================] - 4s 2ms/sample - loss: 0.0192 - accuracy: 0.9951 - val_loss: 0.3411 - val_accuracy: 0.9012\n",
      "Epoch 20/20\n",
      "1618/1618 [==============================] - 4s 2ms/sample - loss: 0.0138 - accuracy: 0.9963 - val_loss: 0.3541 - val_accuracy: 0.8988\n"
     ]
    },
    {
     "data": {
      "text/plain": [
       "<tensorflow.python.keras.callbacks.History at 0x7f02cfe61bd0>"
      ]
     },
     "execution_count": 30,
     "metadata": {},
     "output_type": "execute_result"
    }
   ],
   "source": [
    "classifier.fit(train_data, train_labels, batch_size=batch_size, epochs=epochs, validation_data=(eval_data, eval_labels))"
   ]
  },
  {
   "cell_type": "code",
   "execution_count": 32,
   "metadata": {},
   "outputs": [],
   "source": [
    "classifier.save(\"../models/corn.h5\")"
   ]
  },
  {
   "cell_type": "markdown",
   "metadata": {},
   "source": [
    "## Pepper"
   ]
  },
  {
   "cell_type": "code",
   "execution_count": 33,
   "metadata": {},
   "outputs": [
    {
     "name": "stdout",
     "output_type": "stream",
     "text": [
      "Model: \"sequential_1\"\n",
      "_________________________________________________________________\n",
      "Layer (type)                 Output Shape              Param #   \n",
      "=================================================================\n",
      "conv2d_3 (Conv2D)            (None, 256, 256, 32)      896       \n",
      "_________________________________________________________________\n",
      "leaky_re_lu_4 (LeakyReLU)    (None, 256, 256, 32)      0         \n",
      "_________________________________________________________________\n",
      "max_pooling2d_3 (MaxPooling2 (None, 128, 128, 32)      0         \n",
      "_________________________________________________________________\n",
      "dropout_4 (Dropout)          (None, 128, 128, 32)      0         \n",
      "_________________________________________________________________\n",
      "conv2d_4 (Conv2D)            (None, 128, 128, 64)      18496     \n",
      "_________________________________________________________________\n",
      "leaky_re_lu_5 (LeakyReLU)    (None, 128, 128, 64)      0         \n",
      "_________________________________________________________________\n",
      "max_pooling2d_4 (MaxPooling2 (None, 64, 64, 64)        0         \n",
      "_________________________________________________________________\n",
      "dropout_5 (Dropout)          (None, 64, 64, 64)        0         \n",
      "_________________________________________________________________\n",
      "conv2d_5 (Conv2D)            (None, 64, 64, 128)       73856     \n",
      "_________________________________________________________________\n",
      "leaky_re_lu_6 (LeakyReLU)    (None, 64, 64, 128)       0         \n",
      "_________________________________________________________________\n",
      "max_pooling2d_5 (MaxPooling2 (None, 32, 32, 128)       0         \n",
      "_________________________________________________________________\n",
      "dropout_6 (Dropout)          (None, 32, 32, 128)       0         \n",
      "_________________________________________________________________\n",
      "flatten_1 (Flatten)          (None, 131072)            0         \n",
      "_________________________________________________________________\n",
      "dense_2 (Dense)              (None, 128)               16777344  \n",
      "_________________________________________________________________\n",
      "leaky_re_lu_7 (LeakyReLU)    (None, 128)               0         \n",
      "_________________________________________________________________\n",
      "dropout_7 (Dropout)          (None, 128)               0         \n",
      "_________________________________________________________________\n",
      "dense_3 (Dense)              (None, 2)                 258       \n",
      "=================================================================\n",
      "Total params: 16,870,850\n",
      "Trainable params: 16,870,850\n",
      "Non-trainable params: 0\n",
      "_________________________________________________________________\n",
      "Train on 1582 samples, validate on 396 samples\n",
      "Epoch 1/20\n",
      "1582/1582 [==============================] - 4s 3ms/sample - loss: 2.1147 - accuracy: 0.6030 - val_loss: 0.8310 - val_accuracy: 0.5859\n",
      "Epoch 2/20\n",
      "1582/1582 [==============================] - 3s 2ms/sample - loss: 0.4381 - accuracy: 0.8015 - val_loss: 0.7631 - val_accuracy: 0.6591\n",
      "Epoch 3/20\n",
      "1582/1582 [==============================] - 3s 2ms/sample - loss: 0.2515 - accuracy: 0.8925 - val_loss: 0.2095 - val_accuracy: 0.8990\n",
      "Epoch 4/20\n",
      "1582/1582 [==============================] - 3s 2ms/sample - loss: 0.1150 - accuracy: 0.9583 - val_loss: 0.1234 - val_accuracy: 0.9419\n",
      "Epoch 5/20\n",
      "1582/1582 [==============================] - 3s 2ms/sample - loss: 0.0601 - accuracy: 0.9779 - val_loss: 0.1509 - val_accuracy: 0.9318\n",
      "Epoch 6/20\n",
      "1582/1582 [==============================] - 3s 2ms/sample - loss: 0.0412 - accuracy: 0.9855 - val_loss: 0.1473 - val_accuracy: 0.9444\n",
      "Epoch 7/20\n",
      "1582/1582 [==============================] - 3s 2ms/sample - loss: 0.0403 - accuracy: 0.9861 - val_loss: 0.0618 - val_accuracy: 0.9874\n",
      "Epoch 8/20\n",
      "1582/1582 [==============================] - 4s 2ms/sample - loss: 0.0180 - accuracy: 0.9937 - val_loss: 0.0712 - val_accuracy: 0.9798\n",
      "Epoch 9/20\n",
      "1582/1582 [==============================] - 3s 2ms/sample - loss: 0.0085 - accuracy: 0.9975 - val_loss: 0.0487 - val_accuracy: 0.9874\n",
      "Epoch 10/20\n",
      "1582/1582 [==============================] - 3s 2ms/sample - loss: 0.0109 - accuracy: 0.9962 - val_loss: 0.0751 - val_accuracy: 0.9773\n",
      "Epoch 11/20\n",
      "1582/1582 [==============================] - 3s 2ms/sample - loss: 0.0056 - accuracy: 0.9987 - val_loss: 0.0577 - val_accuracy: 0.9848\n",
      "Epoch 12/20\n",
      "1582/1582 [==============================] - 3s 2ms/sample - loss: 0.0038 - accuracy: 0.9987 - val_loss: 0.0531 - val_accuracy: 0.9899\n",
      "Epoch 13/20\n",
      "1582/1582 [==============================] - 4s 2ms/sample - loss: 0.0019 - accuracy: 1.0000 - val_loss: 0.0724 - val_accuracy: 0.9848\n",
      "Epoch 14/20\n",
      "1582/1582 [==============================] - 4s 2ms/sample - loss: 0.0011 - accuracy: 1.0000 - val_loss: 0.0683 - val_accuracy: 0.9874\n",
      "Epoch 15/20\n",
      "1582/1582 [==============================] - 4s 2ms/sample - loss: 8.9819e-04 - accuracy: 1.0000 - val_loss: 0.0620 - val_accuracy: 0.9848\n",
      "Epoch 16/20\n",
      "1582/1582 [==============================] - 4s 2ms/sample - loss: 7.5790e-04 - accuracy: 1.0000 - val_loss: 0.0650 - val_accuracy: 0.9874\n",
      "Epoch 17/20\n",
      "1582/1582 [==============================] - 4s 2ms/sample - loss: 2.8274e-04 - accuracy: 1.0000 - val_loss: 0.0635 - val_accuracy: 0.9848\n",
      "Epoch 18/20\n",
      "1582/1582 [==============================] - 4s 2ms/sample - loss: 5.5777e-04 - accuracy: 1.0000 - val_loss: 0.0665 - val_accuracy: 0.9848\n",
      "Epoch 19/20\n",
      "1582/1582 [==============================] - 4s 2ms/sample - loss: 5.7537e-04 - accuracy: 1.0000 - val_loss: 0.0785 - val_accuracy: 0.9899\n",
      "Epoch 20/20\n",
      "1582/1582 [==============================] - 4s 2ms/sample - loss: 2.2130e-04 - accuracy: 1.0000 - val_loss: 0.0704 - val_accuracy: 0.9899\n"
     ]
    },
    {
     "data": {
      "text/plain": [
       "<tensorflow.python.keras.callbacks.History at 0x7f02cfcbc790>"
      ]
     },
     "execution_count": 33,
     "metadata": {},
     "output_type": "execute_result"
    }
   ],
   "source": [
    "data_dir = \"../data/processed/Pepper/\"\n",
    "train_data, train_labels = trainer._load_training_data(data_dir)\n",
    "eval_data, eval_labels = trainer._load_testing_data(data_dir)\n",
    "num_classes = train_labels[0].shape[0]\n",
    "classifier = trainer.model(num_classes)\n",
    "batch_size = 64\n",
    "epochs = 20\n",
    "classifier.fit(train_data, train_labels, batch_size=batch_size, epochs=epochs, validation_data=(eval_data, eval_labels))"
   ]
  },
  {
   "cell_type": "code",
   "execution_count": 34,
   "metadata": {},
   "outputs": [],
   "source": [
    "classifier.save(\"../models/Pepper.h5\")"
   ]
  },
  {
   "cell_type": "code",
   "execution_count": null,
   "metadata": {},
   "outputs": [],
   "source": []
  }
 ],
 "metadata": {
  "kernelspec": {
   "display_name": "Python 3",
   "language": "python",
   "name": "python3"
  },
  "language_info": {
   "codemirror_mode": {
    "name": "ipython",
    "version": 3
   },
   "file_extension": ".py",
   "mimetype": "text/x-python",
   "name": "python",
   "nbconvert_exporter": "python",
   "pygments_lexer": "ipython3",
   "version": "3.7.6"
  }
 },
 "nbformat": 4,
 "nbformat_minor": 4
}
