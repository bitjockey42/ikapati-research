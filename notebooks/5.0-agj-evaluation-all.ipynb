{
 "cells": [
  {
   "cell_type": "code",
   "execution_count": 1,
   "metadata": {},
   "outputs": [],
   "source": [
    "%load_ext autoreload\n",
    "%autoreload 2"
   ]
  },
  {
   "cell_type": "code",
   "execution_count": 2,
   "metadata": {},
   "outputs": [],
   "source": [
    "import pathlib\n",
    "from IPython import display\n",
    "from matplotlib import pyplot as plt\n",
    "import numpy as np\n",
    "import pandas as pd\n",
    "import tensorflow as tf\n",
    "%matplotlib inline"
   ]
  },
  {
   "cell_type": "code",
   "execution_count": 3,
   "metadata": {},
   "outputs": [],
   "source": [
    "from ikapati.visualization import visualize as vz\n",
    "from ikapati.data import io"
   ]
  },
  {
   "cell_type": "code",
   "execution_count": 4,
   "metadata": {},
   "outputs": [],
   "source": [
    "model_dir_path = \"../models/7feacba0-2be0-4761-ba49-854067714f3b/\"\n",
    "model_dir = pathlib.Path(model_dir_path)\n",
    "data_dir = pathlib.Path(\"../data/processed\")\n",
    "train_dir = data_dir.joinpath(\"all\")"
   ]
  },
  {
   "cell_type": "code",
   "execution_count": 5,
   "metadata": {},
   "outputs": [
    {
     "data": {
      "text/plain": [
       "[PosixPath('../models/7feacba0-2be0-4761-ba49-854067714f3b/packaged'),\n",
       " PosixPath('../models/7feacba0-2be0-4761-ba49-854067714f3b/2020-02-09__02_2409'),\n",
       " PosixPath('../models/7feacba0-2be0-4761-ba49-854067714f3b/2020-02-08__19_5912'),\n",
       " PosixPath('../models/7feacba0-2be0-4761-ba49-854067714f3b/2020-02-08__19_3845'),\n",
       " PosixPath('../models/7feacba0-2be0-4761-ba49-854067714f3b/2020-02-08__01_5449'),\n",
       " PosixPath('../models/7feacba0-2be0-4761-ba49-854067714f3b/2020-02-08__02_1926'),\n",
       " PosixPath('../models/7feacba0-2be0-4761-ba49-854067714f3b/2020-02-09__01_1232'),\n",
       " PosixPath('../models/7feacba0-2be0-4761-ba49-854067714f3b/2020-02-08__21_5614'),\n",
       " PosixPath('../models/7feacba0-2be0-4761-ba49-854067714f3b/2020-02-08__23_4632'),\n",
       " PosixPath('../models/7feacba0-2be0-4761-ba49-854067714f3b/2020-02-09__04_1552'),\n",
       " PosixPath('../models/7feacba0-2be0-4761-ba49-854067714f3b/2020-02-08__20_2543'),\n",
       " PosixPath('../models/7feacba0-2be0-4761-ba49-854067714f3b/2020-02-08__08_2457')]"
      ]
     },
     "execution_count": 5,
     "metadata": {},
     "output_type": "execute_result"
    }
   ],
   "source": [
    "sub_dirs = list(filter(lambda x: x.is_dir(), [item for item in model_dir.iterdir()]))\n",
    "sub_dirs"
   ]
  },
  {
   "cell_type": "code",
   "execution_count": 6,
   "metadata": {},
   "outputs": [
    {
     "name": "stdout",
     "output_type": "stream",
     "text": [
      "3.h5\n",
      "7.h5\n",
      "15.h5\n",
      "model.tflite\n",
      "final.h5\n",
      "metadata.json\n",
      "4.h5\n",
      "2.h5\n",
      "5.h5\n",
      "14.h5\n",
      "1.h5\n",
      "6.h5\n"
     ]
    }
   ],
   "source": [
    "for item in sub_dirs[1].iterdir():\n",
    "    print(item.parts[-1])"
   ]
  },
  {
   "cell_type": "code",
   "execution_count": 7,
   "metadata": {},
   "outputs": [
    {
     "data": {
      "text/plain": [
       "[PosixPath('../models/7feacba0-2be0-4761-ba49-854067714f3b/2020-02-09__02_2409/3.h5'),\n",
       " PosixPath('../models/7feacba0-2be0-4761-ba49-854067714f3b/2020-02-09__02_2409/7.h5'),\n",
       " PosixPath('../models/7feacba0-2be0-4761-ba49-854067714f3b/2020-02-09__02_2409/15.h5'),\n",
       " PosixPath('../models/7feacba0-2be0-4761-ba49-854067714f3b/2020-02-09__02_2409/model.tflite'),\n",
       " PosixPath('../models/7feacba0-2be0-4761-ba49-854067714f3b/2020-02-09__02_2409/final.h5'),\n",
       " PosixPath('../models/7feacba0-2be0-4761-ba49-854067714f3b/2020-02-09__02_2409/metadata.json'),\n",
       " PosixPath('../models/7feacba0-2be0-4761-ba49-854067714f3b/2020-02-09__02_2409/4.h5'),\n",
       " PosixPath('../models/7feacba0-2be0-4761-ba49-854067714f3b/2020-02-09__02_2409/2.h5'),\n",
       " PosixPath('../models/7feacba0-2be0-4761-ba49-854067714f3b/2020-02-09__02_2409/5.h5'),\n",
       " PosixPath('../models/7feacba0-2be0-4761-ba49-854067714f3b/2020-02-09__02_2409/14.h5'),\n",
       " PosixPath('../models/7feacba0-2be0-4761-ba49-854067714f3b/2020-02-09__02_2409/1.h5'),\n",
       " PosixPath('../models/7feacba0-2be0-4761-ba49-854067714f3b/2020-02-09__02_2409/6.h5')]"
      ]
     },
     "execution_count": 7,
     "metadata": {},
     "output_type": "execute_result"
    }
   ],
   "source": [
    "list(sub_dirs[1].iterdir())"
   ]
  },
  {
   "cell_type": "code",
   "execution_count": 8,
   "metadata": {},
   "outputs": [],
   "source": [
    "def is_checkpoint(item):\n",
    "    return item.stem.isnumeric()\n",
    "\n",
    "def get_checkpoints(directory):\n",
    "    return list(filter(is_checkpoint, list(directory.iterdir())))\n",
    "\n",
    "def get_best_checkpoint(checkpoints):\n",
    "    checkpoint_numbers = list(map(lambda x: int(x.stem), checkpoints))\n",
    "    return np.argmax(checkpoint_numbers) if checkpoint_numbers else None\n",
    "\n",
    "def get_best_checkpoint_in_directory(directory):\n",
    "    checkpoints = get_checkpoints(directory)\n",
    "    best_checkpoint = get_best_checkpoint(checkpoints)\n",
    "    return checkpoints[best_checkpoint] if best_checkpoint else None\n",
    "\n",
    "def get_best_checkpoint_files(sub_dirs):\n",
    "    checkpoint_paths = []\n",
    "    for sub_dir in sub_dirs:\n",
    "        items = list(sub_dir.iterdir())\n",
    "        best_checkpoint = get_best_checkpoint_in_directory(sub_dir)\n",
    "        if best_checkpoint:\n",
    "            checkpoint_paths.append(best_checkpoint)\n",
    "    return checkpoint_paths"
   ]
  },
  {
   "cell_type": "code",
   "execution_count": 9,
   "metadata": {},
   "outputs": [],
   "source": [
    "checkpoint_files = get_best_checkpoint_files(sub_dirs)\n",
    "model_dir = checkpoint_files[0].parent"
   ]
  },
  {
   "cell_type": "code",
   "execution_count": 10,
   "metadata": {},
   "outputs": [],
   "source": [
    "model = tf.keras.models.load_model(str(checkpoint_files[0]))"
   ]
  },
  {
   "cell_type": "code",
   "execution_count": 16,
   "metadata": {},
   "outputs": [],
   "source": [
    "model_metadata_file_path = model_dir.joinpath(\"metadata.json\")\n",
    "model_metadata = io.read_metadata(str(model_metadata_file_path))\n",
    "batch_size = model_metadata[\"arguments\"][\"batch_size\"]\n",
    "test_data_path = train_dir.joinpath(\"test.tfrecord\")\n",
    "test_dataset = io.read_dataset(str(test_data_path), batch_size, model_metadata[\"dataset\"][\"num_classes\"])\n",
    "steps = model_metadata[\"dataset\"][\"file_counts\"][\"test\"] // batch_size"
   ]
  },
  {
   "cell_type": "code",
   "execution_count": 17,
   "metadata": {},
   "outputs": [
    {
     "name": "stdout",
     "output_type": "stream",
     "text": [
      "82/82 [==============================] - 30s 368ms/step - loss: 0.3761 - accuracy: 0.8964\n"
     ]
    }
   ],
   "source": [
    "results = model.evaluate(test_dataset, steps=steps)"
   ]
  },
  {
   "cell_type": "code",
   "execution_count": null,
   "metadata": {},
   "outputs": [],
   "source": [
    "def evaluate_on_test_data(model_dir_path):\n",
    "    model_dir = pathlib.Path(model_dir_path)\n",
    "    sub_dirs = list(filter(lambda x: x.is_dir(), list(model_dir.iterdir())))\n",
    "\n",
    "    model_metadata_file_path = model_dir.joinpath(\"metadata.json\")\n",
    "    model_metadata = io.read_metadata(str(model_metadata_file_path))\n",
    "    \n",
    "    print_model_info(model_metadata)\n",
    "    batch_size = model_metadata[\"batch_size\"]\n",
    "    \n",
    "    checkpoint_files = get_best_checkpoint_files(sub_dirs)\n",
    "    \n",
    "    model = tf.keras.models.load_model(model_path)\n",
    "    \n",
    "    test_data_path = train_dir.joinpath(\"test.tfrecord\")\n",
    "    test_dataset = io.read_dataset(str(test_data_path), batch_size, metadata[\"num_classes\"])\n",
    "    \n",
    "    steps = metadata[\"file_counts\"][\"test\"] // batch_size\n",
    "    model.evaluate(test_dataset, steps=steps)\n",
    "    \n",
    "def print_model_info(model_metadata):\n",
    "    print(\n",
    "        \"batch_size:\", model_metadata[\"arguments\"][\"batch_size\"], \n",
    "        \"activation:\", model_metadata[\"arguments\"][\"epochs\"],\n",
    "        \"architecture:\", model_metadata[\"arguments\"][\"architecture\"],\n",
    "        \"dropout:\", model_metadata[\"arguments\"][\"dropout\"],\n",
    "    )"
   ]
  }
 ],
 "metadata": {
  "kernelspec": {
   "display_name": "Python 3",
   "language": "python",
   "name": "python3"
  },
  "language_info": {
   "codemirror_mode": {
    "name": "ipython",
    "version": 3
   },
   "file_extension": ".py",
   "mimetype": "text/x-python",
   "name": "python",
   "nbconvert_exporter": "python",
   "pygments_lexer": "ipython3",
   "version": "3.7.6"
  }
 },
 "nbformat": 4,
 "nbformat_minor": 4
}
