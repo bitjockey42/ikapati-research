{
 "cells": [
  {
   "cell_type": "code",
   "execution_count": 1,
   "metadata": {},
   "outputs": [],
   "source": [
    "%load_ext autoreload\n",
    "%autoreload 2"
   ]
  },
  {
   "cell_type": "code",
   "execution_count": 5,
   "metadata": {},
   "outputs": [],
   "source": [
    "import pathlib\n",
    "from IPython import display\n",
    "from matplotlib import pyplot as plt\n",
    "import numpy as np\n",
    "import pandas as pd\n",
    "import tensorflow as tf\n",
    "%matplotlib inline"
   ]
  },
  {
   "cell_type": "code",
   "execution_count": 6,
   "metadata": {},
   "outputs": [],
   "source": [
    "from ikapati.visualization import visualize as vz\n",
    "from ikapati.data import io"
   ]
  },
  {
   "cell_type": "code",
   "execution_count": 12,
   "metadata": {},
   "outputs": [],
   "source": [
    "model_dir_path = \"../models/7feacba0-2be0-4761-ba49-854067714f3b/\"\n",
    "model_dir = pathlib.Path(model_dir_path)\n",
    "training_csv_filename = model_dir.joinpath(\"training.csv\")\n",
    "training_csv = pd.read_csv(training_csv_filename)\n",
    "data_dir = pathlib.Path(\"../data/processed\")\n",
    "train_dir = data_dir.joinpath(\"all\")\n",
    "sub_dirs = list(filter(lambda x: x.is_dir(), model_dir.iterdir()))"
   ]
  },
  {
   "cell_type": "code",
   "execution_count": 13,
   "metadata": {},
   "outputs": [
    {
     "data": {
      "text/html": [
       "<div>\n",
       "<style scoped>\n",
       "    .dataframe tbody tr th:only-of-type {\n",
       "        vertical-align: middle;\n",
       "    }\n",
       "\n",
       "    .dataframe tbody tr th {\n",
       "        vertical-align: top;\n",
       "    }\n",
       "\n",
       "    .dataframe thead th {\n",
       "        text-align: right;\n",
       "    }\n",
       "</style>\n",
       "<table border=\"1\" class=\"dataframe\">\n",
       "  <thead>\n",
       "    <tr style=\"text-align: right;\">\n",
       "      <th></th>\n",
       "      <th>start_time</th>\n",
       "      <th>end_time</th>\n",
       "      <th>activation</th>\n",
       "      <th>model_dir_path</th>\n",
       "      <th>learning_rate</th>\n",
       "      <th>dropout</th>\n",
       "      <th>epochs</th>\n",
       "      <th>batch_size</th>\n",
       "    </tr>\n",
       "  </thead>\n",
       "  <tbody>\n",
       "    <tr>\n",
       "      <th>0</th>\n",
       "      <td>2020-02-08__02_1926</td>\n",
       "      <td>2020-02-08__03_2838</td>\n",
       "      <td>relu</td>\n",
       "      <td>models/7feacba0-2be0-4761-ba49-854067714f3b/20...</td>\n",
       "      <td>0.050</td>\n",
       "      <td>NaN</td>\n",
       "      <td>20</td>\n",
       "      <td>128</td>\n",
       "    </tr>\n",
       "    <tr>\n",
       "      <th>1</th>\n",
       "      <td>2020-02-08__08_2457</td>\n",
       "      <td>2020-02-08__09_3845</td>\n",
       "      <td>relu</td>\n",
       "      <td>models/7feacba0-2be0-4761-ba49-854067714f3b/20...</td>\n",
       "      <td>0.050</td>\n",
       "      <td>NaN</td>\n",
       "      <td>20</td>\n",
       "      <td>64</td>\n",
       "    </tr>\n",
       "    <tr>\n",
       "      <th>2</th>\n",
       "      <td>2020-02-08__19_3845</td>\n",
       "      <td>2020-02-08__19_5751</td>\n",
       "      <td>relu</td>\n",
       "      <td>models/7feacba0-2be0-4761-ba49-854067714f3b/20...</td>\n",
       "      <td>0.001</td>\n",
       "      <td>NaN</td>\n",
       "      <td>20</td>\n",
       "      <td>100</td>\n",
       "    </tr>\n",
       "    <tr>\n",
       "      <th>3</th>\n",
       "      <td>2020-02-08__20_2543</td>\n",
       "      <td>2020-02-08__21_3708</td>\n",
       "      <td>relu</td>\n",
       "      <td>models/7feacba0-2be0-4761-ba49-854067714f3b/20...</td>\n",
       "      <td>0.001</td>\n",
       "      <td>NaN</td>\n",
       "      <td>20</td>\n",
       "      <td>100</td>\n",
       "    </tr>\n",
       "    <tr>\n",
       "      <th>4</th>\n",
       "      <td>2020-02-08__21_5614</td>\n",
       "      <td>2020-02-08__23_0917</td>\n",
       "      <td>relu</td>\n",
       "      <td>models/7feacba0-2be0-4761-ba49-854067714f3b/20...</td>\n",
       "      <td>0.001</td>\n",
       "      <td>NaN</td>\n",
       "      <td>20</td>\n",
       "      <td>100</td>\n",
       "    </tr>\n",
       "    <tr>\n",
       "      <th>5</th>\n",
       "      <td>2020-02-08__23_4632</td>\n",
       "      <td>2020-02-09__01_0035</td>\n",
       "      <td>relu</td>\n",
       "      <td>models/7feacba0-2be0-4761-ba49-854067714f3b/20...</td>\n",
       "      <td>0.001</td>\n",
       "      <td>NaN</td>\n",
       "      <td>20</td>\n",
       "      <td>64</td>\n",
       "    </tr>\n",
       "    <tr>\n",
       "      <th>6</th>\n",
       "      <td>2020-02-09__01_1232</td>\n",
       "      <td>2020-02-09__02_2213</td>\n",
       "      <td>relu</td>\n",
       "      <td>models/7feacba0-2be0-4761-ba49-854067714f3b/20...</td>\n",
       "      <td>0.001</td>\n",
       "      <td>NaN</td>\n",
       "      <td>20</td>\n",
       "      <td>128</td>\n",
       "    </tr>\n",
       "    <tr>\n",
       "      <th>7</th>\n",
       "      <td>2020-02-09__02_2409</td>\n",
       "      <td>2020-02-09__03_3321</td>\n",
       "      <td>relu</td>\n",
       "      <td>models/7feacba0-2be0-4761-ba49-854067714f3b/20...</td>\n",
       "      <td>0.050</td>\n",
       "      <td>NaN</td>\n",
       "      <td>20</td>\n",
       "      <td>128</td>\n",
       "    </tr>\n",
       "    <tr>\n",
       "      <th>8</th>\n",
       "      <td>2020-02-09__04_1552</td>\n",
       "      <td>2020-02-09__04_3637</td>\n",
       "      <td>relu</td>\n",
       "      <td>models/7feacba0-2be0-4761-ba49-854067714f3b/20...</td>\n",
       "      <td>0.001</td>\n",
       "      <td>NaN</td>\n",
       "      <td>20</td>\n",
       "      <td>128</td>\n",
       "    </tr>\n",
       "  </tbody>\n",
       "</table>\n",
       "</div>"
      ],
      "text/plain": [
       "            start_time             end_time activation  \\\n",
       "0  2020-02-08__02_1926  2020-02-08__03_2838       relu   \n",
       "1  2020-02-08__08_2457  2020-02-08__09_3845       relu   \n",
       "2  2020-02-08__19_3845  2020-02-08__19_5751       relu   \n",
       "3  2020-02-08__20_2543  2020-02-08__21_3708       relu   \n",
       "4  2020-02-08__21_5614  2020-02-08__23_0917       relu   \n",
       "5  2020-02-08__23_4632  2020-02-09__01_0035       relu   \n",
       "6  2020-02-09__01_1232  2020-02-09__02_2213       relu   \n",
       "7  2020-02-09__02_2409  2020-02-09__03_3321       relu   \n",
       "8  2020-02-09__04_1552  2020-02-09__04_3637       relu   \n",
       "\n",
       "                                      model_dir_path  learning_rate  dropout  \\\n",
       "0  models/7feacba0-2be0-4761-ba49-854067714f3b/20...          0.050      NaN   \n",
       "1  models/7feacba0-2be0-4761-ba49-854067714f3b/20...          0.050      NaN   \n",
       "2  models/7feacba0-2be0-4761-ba49-854067714f3b/20...          0.001      NaN   \n",
       "3  models/7feacba0-2be0-4761-ba49-854067714f3b/20...          0.001      NaN   \n",
       "4  models/7feacba0-2be0-4761-ba49-854067714f3b/20...          0.001      NaN   \n",
       "5  models/7feacba0-2be0-4761-ba49-854067714f3b/20...          0.001      NaN   \n",
       "6  models/7feacba0-2be0-4761-ba49-854067714f3b/20...          0.001      NaN   \n",
       "7  models/7feacba0-2be0-4761-ba49-854067714f3b/20...          0.050      NaN   \n",
       "8  models/7feacba0-2be0-4761-ba49-854067714f3b/20...          0.001      NaN   \n",
       "\n",
       "   epochs  batch_size  \n",
       "0      20         128  \n",
       "1      20          64  \n",
       "2      20         100  \n",
       "3      20         100  \n",
       "4      20         100  \n",
       "5      20          64  \n",
       "6      20         128  \n",
       "7      20         128  \n",
       "8      20         128  "
      ]
     },
     "execution_count": 13,
     "metadata": {},
     "output_type": "execute_result"
    }
   ],
   "source": [
    "training_csv"
   ]
  },
  {
   "cell_type": "code",
   "execution_count": 14,
   "metadata": {},
   "outputs": [
    {
     "data": {
      "text/plain": [
       "<Figure size 432x288 with 0 Axes>"
      ]
     },
     "metadata": {},
     "output_type": "display_data"
    }
   ],
   "source": [
    "vz.save_metrics_plots_for_training(training_csv_filename)"
   ]
  },
  {
   "cell_type": "code",
   "execution_count": 6,
   "metadata": {},
   "outputs": [],
   "source": [
    "def make_paths(paths):\n",
    "    return list(map(lambda p: pathlib.Path(\"..\", p), paths))"
   ]
  },
  {
   "cell_type": "code",
   "execution_count": 7,
   "metadata": {},
   "outputs": [],
   "source": [
    "model_dir_paths = make_paths(training_logs[\"model_dir_path\"].values)"
   ]
  },
  {
   "cell_type": "code",
   "execution_count": 8,
   "metadata": {},
   "outputs": [],
   "source": [
    "def is_checkpoint(item):\n",
    "    return item.stem.isnumeric()\n",
    "\n",
    "def get_checkpoints(directory):\n",
    "    return list(filter(is_checkpoint, list(directory.iterdir())))\n",
    "\n",
    "def get_best_checkpoint(checkpoints):\n",
    "    checkpoint_numbers = list(map(lambda x: int(x.stem), checkpoints))\n",
    "    return np.argmax(checkpoint_numbers) if checkpoint_numbers else None\n",
    "\n",
    "def get_best_checkpoint_in_directory(directory):\n",
    "    checkpoints = get_checkpoints(directory)\n",
    "    best_checkpoint = get_best_checkpoint(checkpoints)\n",
    "    return checkpoints[best_checkpoint] if best_checkpoint else None\n",
    "\n",
    "def get_best_checkpoint_files(sub_dirs):\n",
    "    checkpoint_paths = []\n",
    "    for sub_dir in sub_dirs:\n",
    "        items = list(sub_dir.iterdir())\n",
    "        best_checkpoint = get_best_checkpoint_in_directory(sub_dir)\n",
    "        if best_checkpoint:\n",
    "            checkpoint_paths.append(best_checkpoint)\n",
    "    return checkpoint_paths"
   ]
  },
  {
   "cell_type": "code",
   "execution_count": 9,
   "metadata": {},
   "outputs": [],
   "source": [
    "def evaluate_model(model_file_path):\n",
    "    metadata_file_path = model_file_path.parent.joinpath(\"metadata.json\")\n",
    "    metadata = io.read_metadata(str(metadata_file_path))\n",
    "    batch_size = metadata[\"arguments\"][\"batch_size\"]\n",
    "    test_data_path = train_dir.joinpath(\"test.tfrecord\")\n",
    "    test_dataset = io.read_dataset(str(test_data_path), batch_size, metadata[\"dataset\"][\"num_classes\"])\n",
    "    steps = metadata[\"dataset\"][\"file_counts\"][\"test\"] // batch_size\n",
    "    model = tf.keras.models.load_model(str(model_file_path))\n",
    "    results = model.evaluate(test_dataset, steps=steps)\n",
    "    print(results)\n",
    "    return model, results"
   ]
  },
  {
   "cell_type": "code",
   "execution_count": null,
   "metadata": {},
   "outputs": [
    {
     "name": "stdout",
     "output_type": "stream",
     "text": [
      "../models/7feacba0-2be0-4761-ba49-854067714f3b/2020-02-08__02_1926\n",
      "../models/7feacba0-2be0-4761-ba49-854067714f3b/2020-02-08__02_1926 : No model found, skipping.\n",
      "../models/7feacba0-2be0-4761-ba49-854067714f3b/2020-02-08__08_2457\n",
      "165/165 [==============================] - 41s 248ms/step - loss: 0.4513 - accuracy: 0.8848\n",
      "[0.4513429146824461, 0.88475376]\n",
      "../models/7feacba0-2be0-4761-ba49-854067714f3b/2020-02-08__19_3845\n",
      "../models/7feacba0-2be0-4761-ba49-854067714f3b/2020-02-08__19_3845 : No model found, skipping.\n",
      "../models/7feacba0-2be0-4761-ba49-854067714f3b/2020-02-08__20_2543\n",
      "105/105 [==============================] - 31s 299ms/step - loss: 0.1010 - accuracy: 0.9705\n",
      "[0.10097126775376854, 0.9704762]\n",
      "../models/7feacba0-2be0-4761-ba49-854067714f3b/2020-02-08__21_5614\n"
     ]
    }
   ],
   "source": [
    "results = []\n",
    "\n",
    "for model_dir_path in model_dir_paths:\n",
    "    print(str(model_dir_path))\n",
    "    model_file_path = get_best_checkpoint_in_directory(model_dir_path)\n",
    "    if not model_file_path:\n",
    "        print(f\"{str(model_dir_path)} : No model found, skipping.\")\n",
    "        continue\n",
    "    model, result = evaluate_model(model_file_path)\n",
    "    results.append([str(model_dir_path), result])\n",
    "    model = None"
   ]
  },
  {
   "cell_type": "code",
   "execution_count": 18,
   "metadata": {},
   "outputs": [],
   "source": [
    "model = None"
   ]
  },
  {
   "cell_type": "code",
   "execution_count": 33,
   "metadata": {},
   "outputs": [
    {
     "data": {
      "text/plain": [
       "[PosixPath('../models/7feacba0-2be0-4761-ba49-854067714f3b/2020-02-08__02_1926'),\n",
       " PosixPath('../models/7feacba0-2be0-4761-ba49-854067714f3b/2020-02-08__08_2457'),\n",
       " PosixPath('../models/7feacba0-2be0-4761-ba49-854067714f3b/2020-02-08__19_3845'),\n",
       " PosixPath('../models/7feacba0-2be0-4761-ba49-854067714f3b/2020-02-08__20_2543'),\n",
       " PosixPath('../models/7feacba0-2be0-4761-ba49-854067714f3b/2020-02-08__21_5614'),\n",
       " PosixPath('../models/7feacba0-2be0-4761-ba49-854067714f3b/2020-02-08__23_4632'),\n",
       " PosixPath('../models/7feacba0-2be0-4761-ba49-854067714f3b/2020-02-09__01_1232'),\n",
       " PosixPath('../models/7feacba0-2be0-4761-ba49-854067714f3b/2020-02-09__02_2409'),\n",
       " PosixPath('../models/7feacba0-2be0-4761-ba49-854067714f3b/2020-02-09__04_1552')]"
      ]
     },
     "execution_count": 33,
     "metadata": {},
     "output_type": "execute_result"
    }
   ],
   "source": [
    "model_dir_paths"
   ]
  },
  {
   "cell_type": "code",
   "execution_count": null,
   "metadata": {},
   "outputs": [],
   "source": []
  }
 ],
 "metadata": {
  "kernelspec": {
   "display_name": "Python 3",
   "language": "python",
   "name": "python3"
  },
  "language_info": {
   "codemirror_mode": {
    "name": "ipython",
    "version": 3
   },
   "file_extension": ".py",
   "mimetype": "text/x-python",
   "name": "python",
   "nbconvert_exporter": "python",
   "pygments_lexer": "ipython3",
   "version": "3.7.6"
  }
 },
 "nbformat": 4,
 "nbformat_minor": 4
}
