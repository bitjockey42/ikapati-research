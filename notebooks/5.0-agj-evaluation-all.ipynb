{
 "cells": [
  {
   "cell_type": "code",
   "execution_count": 1,
   "metadata": {},
   "outputs": [],
   "source": [
    "%load_ext autoreload\n",
    "%autoreload 2"
   ]
  },
  {
   "cell_type": "code",
   "execution_count": 2,
   "metadata": {},
   "outputs": [],
   "source": [
    "import pathlib\n",
    "from IPython import display\n",
    "from matplotlib import pyplot as plt\n",
    "import numpy as np\n",
    "import pandas as pd\n",
    "import tensorflow as tf\n",
    "%matplotlib inline"
   ]
  },
  {
   "cell_type": "code",
   "execution_count": 3,
   "metadata": {},
   "outputs": [],
   "source": [
    "from ikapati.visualization import visualize as vz\n",
    "from ikapati.data import io"
   ]
  },
  {
   "cell_type": "code",
   "execution_count": 4,
   "metadata": {},
   "outputs": [],
   "source": [
    "model_dir_path = \"../models/7feacba0-2be0-4761-ba49-854067714f3b/\"\n",
    "model_dir = pathlib.Path(model_dir_path)\n",
    "training_csv = model_dir.joinpath(\"training.csv\")\n",
    "data_dir = pathlib.Path(\"../data/processed\")\n",
    "train_dir = data_dir.joinpath(\"all\")\n",
    "sub_dirs = list(filter(lambda x: x.is_dir(), model_dir.iterdir()))"
   ]
  },
  {
   "cell_type": "code",
   "execution_count": 5,
   "metadata": {},
   "outputs": [],
   "source": [
    "training_logs = pd.read_csv(training_csv)"
   ]
  },
  {
   "cell_type": "code",
   "execution_count": 6,
   "metadata": {},
   "outputs": [],
   "source": [
    "def make_paths(paths):\n",
    "    return list(map(lambda p: pathlib.Path(\"..\", p), paths))"
   ]
  },
  {
   "cell_type": "code",
   "execution_count": 7,
   "metadata": {},
   "outputs": [],
   "source": [
    "model_dir_paths = make_paths(training_logs[\"model_dir_path\"].values)"
   ]
  },
  {
   "cell_type": "code",
   "execution_count": 8,
   "metadata": {},
   "outputs": [],
   "source": [
    "def is_checkpoint(item):\n",
    "    return item.stem.isnumeric()\n",
    "\n",
    "def get_checkpoints(directory):\n",
    "    return list(filter(is_checkpoint, list(directory.iterdir())))\n",
    "\n",
    "def get_best_checkpoint(checkpoints):\n",
    "    checkpoint_numbers = list(map(lambda x: int(x.stem), checkpoints))\n",
    "    return np.argmax(checkpoint_numbers) if checkpoint_numbers else None\n",
    "\n",
    "def get_best_checkpoint_in_directory(directory):\n",
    "    checkpoints = get_checkpoints(directory)\n",
    "    best_checkpoint = get_best_checkpoint(checkpoints)\n",
    "    return checkpoints[best_checkpoint] if best_checkpoint else None\n",
    "\n",
    "def get_best_checkpoint_files(sub_dirs):\n",
    "    checkpoint_paths = []\n",
    "    for sub_dir in sub_dirs:\n",
    "        items = list(sub_dir.iterdir())\n",
    "        best_checkpoint = get_best_checkpoint_in_directory(sub_dir)\n",
    "        if best_checkpoint:\n",
    "            checkpoint_paths.append(best_checkpoint)\n",
    "    return checkpoint_paths"
   ]
  },
  {
   "cell_type": "code",
   "execution_count": 9,
   "metadata": {},
   "outputs": [],
   "source": [
    "def evaluate_model(model_file_path):\n",
    "    metadata_file_path = model_file_path.parent.joinpath(\"metadata.json\")\n",
    "    metadata = io.read_metadata(str(metadata_file_path))\n",
    "    batch_size = metadata[\"arguments\"][\"batch_size\"]\n",
    "    test_data_path = train_dir.joinpath(\"test.tfrecord\")\n",
    "    test_dataset = io.read_dataset(str(test_data_path), batch_size, metadata[\"dataset\"][\"num_classes\"])\n",
    "    steps = metadata[\"dataset\"][\"file_counts\"][\"test\"] // batch_size\n",
    "    model = tf.keras.models.load_model(str(model_file_path))\n",
    "    results = model.evaluate(test_dataset, steps=steps)\n",
    "    print(results)\n",
    "    return model, results"
   ]
  },
  {
   "cell_type": "code",
   "execution_count": null,
   "metadata": {},
   "outputs": [
    {
     "name": "stdout",
     "output_type": "stream",
     "text": [
      "../models/7feacba0-2be0-4761-ba49-854067714f3b/2020-02-08__02_1926\n",
      "../models/7feacba0-2be0-4761-ba49-854067714f3b/2020-02-08__02_1926 : No model found, skipping.\n",
      "../models/7feacba0-2be0-4761-ba49-854067714f3b/2020-02-08__08_2457\n",
      " 93/165 [===============>..............] - ETA: 20s - loss: 0.4582 - accuracy: 0.8873"
     ]
    }
   ],
   "source": [
    "results = []\n",
    "\n",
    "for model_dir_path in model_dir_paths:\n",
    "    print(str(model_dir_path))\n",
    "    model_file_path = get_best_checkpoint_in_directory(model_dir_path)\n",
    "    if not model_file_path:\n",
    "        print(f\"{str(model_dir_path)} : No model found, skipping.\")\n",
    "        continue\n",
    "    model, result = evaluate_model(model_file_path)\n",
    "    results.append([str(model_dir_path), result])\n",
    "    model = None"
   ]
  },
  {
   "cell_type": "code",
   "execution_count": 18,
   "metadata": {},
   "outputs": [],
   "source": [
    "model = None"
   ]
  },
  {
   "cell_type": "code",
   "execution_count": 33,
   "metadata": {},
   "outputs": [
    {
     "data": {
      "text/plain": [
       "[PosixPath('../models/7feacba0-2be0-4761-ba49-854067714f3b/2020-02-08__02_1926'),\n",
       " PosixPath('../models/7feacba0-2be0-4761-ba49-854067714f3b/2020-02-08__08_2457'),\n",
       " PosixPath('../models/7feacba0-2be0-4761-ba49-854067714f3b/2020-02-08__19_3845'),\n",
       " PosixPath('../models/7feacba0-2be0-4761-ba49-854067714f3b/2020-02-08__20_2543'),\n",
       " PosixPath('../models/7feacba0-2be0-4761-ba49-854067714f3b/2020-02-08__21_5614'),\n",
       " PosixPath('../models/7feacba0-2be0-4761-ba49-854067714f3b/2020-02-08__23_4632'),\n",
       " PosixPath('../models/7feacba0-2be0-4761-ba49-854067714f3b/2020-02-09__01_1232'),\n",
       " PosixPath('../models/7feacba0-2be0-4761-ba49-854067714f3b/2020-02-09__02_2409'),\n",
       " PosixPath('../models/7feacba0-2be0-4761-ba49-854067714f3b/2020-02-09__04_1552')]"
      ]
     },
     "execution_count": 33,
     "metadata": {},
     "output_type": "execute_result"
    }
   ],
   "source": [
    "model_dir_paths"
   ]
  },
  {
   "cell_type": "code",
   "execution_count": null,
   "metadata": {},
   "outputs": [],
   "source": []
  }
 ],
 "metadata": {
  "kernelspec": {
   "display_name": "Python 3",
   "language": "python",
   "name": "python3"
  },
  "language_info": {
   "codemirror_mode": {
    "name": "ipython",
    "version": 3
   },
   "file_extension": ".py",
   "mimetype": "text/x-python",
   "name": "python",
   "nbconvert_exporter": "python",
   "pygments_lexer": "ipython3",
   "version": "3.7.6"
  }
 },
 "nbformat": 4,
 "nbformat_minor": 4
}
