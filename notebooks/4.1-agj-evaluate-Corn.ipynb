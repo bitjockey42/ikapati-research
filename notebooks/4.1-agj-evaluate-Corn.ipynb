{
 "cells": [
  {
   "cell_type": "code",
   "execution_count": 1,
   "metadata": {},
   "outputs": [],
   "source": [
    "%load_ext autoreload\n",
    "%autoreload 2"
   ]
  },
  {
   "cell_type": "code",
   "execution_count": 2,
   "metadata": {},
   "outputs": [],
   "source": [
    "from IPython import display\n",
    "from matplotlib import pyplot as plt\n",
    "%matplotlib inline"
   ]
  },
  {
   "cell_type": "code",
   "execution_count": 13,
   "metadata": {},
   "outputs": [],
   "source": [
    "import pathlib\n",
    "\n",
    "import numpy as np\n",
    "import pandas as pd\n",
    "import seaborn as sns\n",
    "\n",
    "from datetime import datetime\n",
    "\n",
    "from src.data import io\n",
    "from src.visualization import visualize"
   ]
  },
  {
   "cell_type": "code",
   "execution_count": 4,
   "metadata": {},
   "outputs": [
    {
     "name": "stdout",
     "output_type": "stream",
     "text": [
      "species: Corn - train_dir: ../data/processed/Corn - metadata_file_path: ../data/processed/Corn/metadata.json\n"
     ]
    }
   ],
   "source": [
    "species = \"Corn\"\n",
    "data_dir = pathlib.Path(\"../data/processed\")\n",
    "train_dir = data_dir.joinpath(species)\n",
    "model_dir = pathlib.Path(\"../models\")\n",
    "metadata_file_path = train_dir.joinpath(\"metadata.json\")\n",
    "\n",
    "print(f\"species: {species} - train_dir: {str(train_dir)} - metadata_file_path: {str(metadata_file_path)}\")"
   ]
  },
  {
   "cell_type": "code",
   "execution_count": 5,
   "metadata": {},
   "outputs": [
    {
     "name": "stdout",
     "output_type": "stream",
     "text": [
      "model_id: f2fe0505-be44-4162-be1a-2f9258fb4537\n"
     ]
    }
   ],
   "source": [
    "metadata = io.read_metadata(str(metadata_file_path))\n",
    "model_id = metadata[\"id\"]\n",
    "\n",
    "print(f\"model_id: {model_id}\")"
   ]
  },
  {
   "cell_type": "markdown",
   "metadata": {},
   "source": [
    "## Training"
   ]
  },
  {
   "cell_type": "code",
   "execution_count": 6,
   "metadata": {},
   "outputs": [],
   "source": [
    "from src.models.train_model import train, load_dataset"
   ]
  },
  {
   "cell_type": "code",
   "execution_count": 14,
   "metadata": {},
   "outputs": [],
   "source": [
    "start_time = datetime.utcnow().strftime(\"%Y-%m-%d__%H_%M\")\n",
    "batch_size = 32\n",
    "epochs = 20\n",
    "monitor = \"val_loss\""
   ]
  },
  {
   "cell_type": "code",
   "execution_count": null,
   "metadata": {},
   "outputs": [
    {
     "name": "stdout",
     "output_type": "stream",
     "text": [
      "Model: \"sequential_1\"\n",
      "_________________________________________________________________\n",
      "Layer (type)                 Output Shape              Param #   \n",
      "=================================================================\n",
      "conv2d_3 (Conv2D)            (None, 256, 256, 32)      896       \n",
      "_________________________________________________________________\n",
      "leaky_re_lu_4 (LeakyReLU)    (None, 256, 256, 32)      0         \n",
      "_________________________________________________________________\n",
      "max_pooling2d_3 (MaxPooling2 (None, 128, 128, 32)      0         \n",
      "_________________________________________________________________\n",
      "dropout_4 (Dropout)          (None, 128, 128, 32)      0         \n",
      "_________________________________________________________________\n",
      "conv2d_4 (Conv2D)            (None, 128, 128, 64)      18496     \n",
      "_________________________________________________________________\n",
      "leaky_re_lu_5 (LeakyReLU)    (None, 128, 128, 64)      0         \n",
      "_________________________________________________________________\n",
      "max_pooling2d_4 (MaxPooling2 (None, 64, 64, 64)        0         \n",
      "_________________________________________________________________\n",
      "dropout_5 (Dropout)          (None, 64, 64, 64)        0         \n",
      "_________________________________________________________________\n",
      "conv2d_5 (Conv2D)            (None, 64, 64, 128)       73856     \n",
      "_________________________________________________________________\n",
      "leaky_re_lu_6 (LeakyReLU)    (None, 64, 64, 128)       0         \n",
      "_________________________________________________________________\n",
      "max_pooling2d_5 (MaxPooling2 (None, 32, 32, 128)       0         \n",
      "_________________________________________________________________\n",
      "dropout_6 (Dropout)          (None, 32, 32, 128)       0         \n",
      "_________________________________________________________________\n",
      "flatten_1 (Flatten)          (None, 131072)            0         \n",
      "_________________________________________________________________\n",
      "dense_2 (Dense)              (None, 128)               16777344  \n",
      "_________________________________________________________________\n",
      "leaky_re_lu_7 (LeakyReLU)    (None, 128)               0         \n",
      "_________________________________________________________________\n",
      "dropout_7 (Dropout)          (None, 128)               0         \n",
      "_________________________________________________________________\n",
      "dense_3 (Dense)              (None, 4)                 516       \n",
      "=================================================================\n",
      "Total params: 16,871,108\n",
      "Trainable params: 16,871,108\n",
      "Non-trainable params: 0\n",
      "_________________________________________________________________\n",
      "Train for 47 steps, validate for 15 steps\n",
      "Epoch 1/20\n",
      "46/47 [============================>.] - ETA: 0s - loss: 1.6306 - accuracy: 0.6841\n",
      "Epoch: 0, accuracy:0.6875,  loss:1.6027,  val_accuracy:0.8417,  val_loss:0.4175,  \n",
      ".\n",
      "Epoch 00001: val_loss improved from inf to 0.41751, saving model to ../models/f2fe0505-be44-4162-be1a-2f9258fb4537/2020-01-26__21_18/1.h5\n",
      "47/47 [==============================] - 6s 127ms/step - loss: 1.6027 - accuracy: 0.6875 - val_loss: 0.4175 - val_accuracy: 0.8417\n",
      "Epoch 2/20\n",
      "46/47 [============================>.] - ETA: 0s - loss: 0.3593 - accuracy: 0.8363.\n",
      "Epoch 00002: val_loss improved from 0.41751 to 0.34600, saving model to ../models/f2fe0505-be44-4162-be1a-2f9258fb4537/2020-01-26__21_18/2.h5\n",
      "47/47 [==============================] - 5s 108ms/step - loss: 0.3593 - accuracy: 0.8358 - val_loss: 0.3460 - val_accuracy: 0.8625\n",
      "Epoch 3/20\n",
      "46/47 [============================>.] - ETA: 0s - loss: 0.3088 - accuracy: 0.8621.\n",
      "Epoch 00003: val_loss improved from 0.34600 to 0.29337, saving model to ../models/f2fe0505-be44-4162-be1a-2f9258fb4537/2020-01-26__21_18/3.h5\n",
      "47/47 [==============================] - 5s 114ms/step - loss: 0.3084 - accuracy: 0.8624 - val_loss: 0.2934 - val_accuracy: 0.8562\n",
      "Epoch 4/20\n",
      "46/47 [============================>.] - ETA: 0s - loss: 0.2471 - accuracy: 0.8906.\n",
      "Epoch 00004: val_loss improved from 0.29337 to 0.26228, saving model to ../models/f2fe0505-be44-4162-be1a-2f9258fb4537/2020-01-26__21_18/4.h5\n",
      "47/47 [==============================] - 5s 116ms/step - loss: 0.2468 - accuracy: 0.8910 - val_loss: 0.2623 - val_accuracy: 0.8938\n",
      "Epoch 5/20\n",
      "46/47 [============================>.] - ETA: 0s - loss: 0.1886 - accuracy: 0.9219.\n",
      "Epoch 00005: val_loss did not improve from 0.26228\n",
      "47/47 [==============================] - 5s 104ms/step - loss: 0.1906 - accuracy: 0.9202 - val_loss: 0.3871 - val_accuracy: 0.8479\n",
      "Epoch 6/20\n",
      "46/47 [============================>.] - ETA: 0s - loss: 0.1572 - accuracy: 0.9409.\n",
      "Epoch 00006: val_loss did not improve from 0.26228\n",
      "47/47 [==============================] - 5s 103ms/step - loss: 0.1586 - accuracy: 0.9402 - val_loss: 0.3078 - val_accuracy: 0.8917\n",
      "Epoch 7/20\n",
      "31/47 [==================>...........] - ETA: 1s - loss: 0.1398 - accuracy: 0.9526"
     ]
    }
   ],
   "source": [
    "classifier, history, _ = train(str(train_dir), str(model_dir), batch_size, epochs, monitor, start_time)"
   ]
  },
  {
   "cell_type": "markdown",
   "metadata": {},
   "source": [
    "## Evaluation"
   ]
  },
  {
   "cell_type": "code",
   "execution_count": 10,
   "metadata": {},
   "outputs": [],
   "source": [
    "model_metadata_file_path = model_dir.joinpath(model_id, \"metadata.json\")\n",
    "model_metadata = io.read_metadata(str(model_metadata_file_path))"
   ]
  },
  {
   "cell_type": "code",
   "execution_count": 12,
   "metadata": {},
   "outputs": [],
   "source": [
    "history = model_metadata[\"history\"]"
   ]
  },
  {
   "cell_type": "code",
   "execution_count": 13,
   "metadata": {},
   "outputs": [],
   "source": [
    "metrics_df = visualize.create_metrics_dataframe(history)"
   ]
  },
  {
   "cell_type": "code",
   "execution_count": 15,
   "metadata": {},
   "outputs": [
    {
     "data": {
      "image/png": "[encoded data removed]",
      "text/plain": [
       "<Figure size 432x288 with 1 Axes>"
      ]
     },
     "metadata": {
      "needs_background": "light"
     },
     "output_type": "display_data"
    }
   ],
   "source": [
    "loss_plot = visualize.learning_curves(\"loss\", metrics_df)"
   ]
  },
  {
   "cell_type": "code",
   "execution_count": 16,
   "metadata": {},
   "outputs": [
    {
     "data": {
      "image/png": "[encoded data removed]",
      "text/plain": [
       "<Figure size 432x288 with 1 Axes>"
      ]
     },
     "metadata": {
      "needs_background": "light"
     },
     "output_type": "display_data"
    }
   ],
   "source": [
    "accuracy_plot = visualize.learning_curves(\"accuracy\", metrics_df)"
   ]
  },
  {
   "cell_type": "code",
   "execution_count": null,
   "metadata": {},
   "outputs": [],
   "source": []
  }
 ],
 "metadata": {
  "kernelspec": {
   "display_name": "Python 3",
   "language": "python",
   "name": "python3"
  },
  "language_info": {
   "codemirror_mode": {
    "name": "ipython",
    "version": 3
   },
   "file_extension": ".py",
   "mimetype": "text/x-python",
   "name": "python",
   "nbconvert_exporter": "python",
   "pygments_lexer": "ipython3",
   "version": "3.7.6"
  }
 },
 "nbformat": 4,
 "nbformat_minor": 4
}
