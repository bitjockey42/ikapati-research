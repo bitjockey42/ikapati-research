{
 "cells": [
  {
   "cell_type": "code",
   "execution_count": 1,
   "metadata": {},
   "outputs": [],
   "source": [
    "%load_ext autoreload\n",
    "%autoreload 2"
   ]
  },
  {
   "cell_type": "code",
   "execution_count": 2,
   "metadata": {},
   "outputs": [],
   "source": [
    "from IPython import display\n",
    "from matplotlib import pyplot as plt\n",
    "%matplotlib inline"
   ]
  },
  {
   "cell_type": "code",
   "execution_count": 13,
   "metadata": {},
   "outputs": [],
   "source": [
    "import pathlib\n",
    "\n",
    "import numpy as np\n",
    "import pandas as pd\n",
    "import seaborn as sns\n",
    "\n",
    "from datetime import datetime\n",
    "\n",
    "from src.data import io\n",
    "from src.visualization import visualize"
   ]
  },
  {
   "cell_type": "code",
   "execution_count": 4,
   "metadata": {},
   "outputs": [
    {
     "name": "stdout",
     "output_type": "stream",
     "text": [
      "species: Corn - train_dir: ../data/processed/Corn - metadata_file_path: ../data/processed/Corn/metadata.json\n"
     ]
    }
   ],
   "source": [
    "species = \"Corn\"\n",
    "data_dir = pathlib.Path(\"../data/processed\")\n",
    "train_dir = data_dir.joinpath(species)\n",
    "model_dir = pathlib.Path(\"../models\")\n",
    "metadata_file_path = train_dir.joinpath(\"metadata.json\")\n",
    "\n",
    "print(f\"species: {species} - train_dir: {str(train_dir)} - metadata_file_path: {str(metadata_file_path)}\")"
   ]
  },
  {
   "cell_type": "code",
   "execution_count": 5,
   "metadata": {},
   "outputs": [
    {
     "name": "stdout",
     "output_type": "stream",
     "text": [
      "model_id: f2fe0505-be44-4162-be1a-2f9258fb4537\n"
     ]
    }
   ],
   "source": [
    "metadata = io.read_metadata(str(metadata_file_path))\n",
    "model_id = metadata[\"id\"]\n",
    "\n",
    "print(f\"model_id: {model_id}\")"
   ]
  },
  {
   "cell_type": "markdown",
   "metadata": {},
   "source": [
    "## Training"
   ]
  },
  {
   "cell_type": "code",
   "execution_count": 6,
   "metadata": {},
   "outputs": [],
   "source": [
    "from src.models.train_model import train, load_dataset"
   ]
  },
  {
   "cell_type": "code",
   "execution_count": 18,
   "metadata": {},
   "outputs": [],
   "source": [
    "start_time = datetime.utcnow().strftime(\"%Y-%m-%d__%H_%M\")\n",
    "batch_size = 32\n",
    "epochs = 20\n",
    "monitor = \"val_loss\""
   ]
  },
  {
   "cell_type": "code",
   "execution_count": 19,
   "metadata": {},
   "outputs": [
    {
     "name": "stdout",
     "output_type": "stream",
     "text": [
      "Model: \"sequential_2\"\n",
      "_________________________________________________________________\n",
      "Layer (type)                 Output Shape              Param #   \n",
      "=================================================================\n",
      "conv2d_6 (Conv2D)            (None, 256, 256, 32)      896       \n",
      "_________________________________________________________________\n",
      "leaky_re_lu_8 (LeakyReLU)    (None, 256, 256, 32)      0         \n",
      "_________________________________________________________________\n",
      "max_pooling2d_6 (MaxPooling2 (None, 128, 128, 32)      0         \n",
      "_________________________________________________________________\n",
      "dropout_8 (Dropout)          (None, 128, 128, 32)      0         \n",
      "_________________________________________________________________\n",
      "conv2d_7 (Conv2D)            (None, 128, 128, 64)      18496     \n",
      "_________________________________________________________________\n",
      "leaky_re_lu_9 (LeakyReLU)    (None, 128, 128, 64)      0         \n",
      "_________________________________________________________________\n",
      "max_pooling2d_7 (MaxPooling2 (None, 64, 64, 64)        0         \n",
      "_________________________________________________________________\n",
      "dropout_9 (Dropout)          (None, 64, 64, 64)        0         \n",
      "_________________________________________________________________\n",
      "conv2d_8 (Conv2D)            (None, 64, 64, 128)       73856     \n",
      "_________________________________________________________________\n",
      "leaky_re_lu_10 (LeakyReLU)   (None, 64, 64, 128)       0         \n",
      "_________________________________________________________________\n",
      "max_pooling2d_8 (MaxPooling2 (None, 32, 32, 128)       0         \n",
      "_________________________________________________________________\n",
      "dropout_10 (Dropout)         (None, 32, 32, 128)       0         \n",
      "_________________________________________________________________\n",
      "flatten_2 (Flatten)          (None, 131072)            0         \n",
      "_________________________________________________________________\n",
      "dense_4 (Dense)              (None, 128)               16777344  \n",
      "_________________________________________________________________\n",
      "leaky_re_lu_11 (LeakyReLU)   (None, 128)               0         \n",
      "_________________________________________________________________\n",
      "dropout_11 (Dropout)         (None, 128)               0         \n",
      "_________________________________________________________________\n",
      "dense_5 (Dense)              (None, 4)                 516       \n",
      "=================================================================\n",
      "Total params: 16,871,108\n",
      "Trainable params: 16,871,108\n",
      "Non-trainable params: 0\n",
      "_________________________________________________________________\n",
      "Train for 47 steps, validate for 15 steps\n",
      "Epoch 1/20\n",
      "46/47 [============================>.] - ETA: 0s - loss: 0.7716 - accuracy: 0.7337\n",
      "Epoch: 0, accuracy:0.7367,  loss:0.7604,  val_accuracy:0.8375,  val_loss:0.4144,  \n",
      ".\n",
      "Epoch 00001: val_loss improved from inf to 0.41437, saving model to ../models/f2fe0505-be44-4162-be1a-2f9258fb4537/2020-01-26__21_21/1.h5\n",
      "47/47 [==============================] - 6s 126ms/step - loss: 0.7604 - accuracy: 0.7367 - val_loss: 0.4144 - val_accuracy: 0.8375\n",
      "Epoch 2/20\n",
      "46/47 [============================>.] - ETA: 0s - loss: 0.3575 - accuracy: 0.8329.\n",
      "Epoch 00002: val_loss improved from 0.41437 to 0.35459, saving model to ../models/f2fe0505-be44-4162-be1a-2f9258fb4537/2020-01-26__21_21/2.h5\n",
      "47/47 [==============================] - 5s 114ms/step - loss: 0.3565 - accuracy: 0.8344 - val_loss: 0.3546 - val_accuracy: 0.8542\n",
      "Epoch 3/20\n",
      "46/47 [============================>.] - ETA: 0s - loss: 0.2696 - accuracy: 0.8723.\n",
      "Epoch 00003: val_loss improved from 0.35459 to 0.32501, saving model to ../models/f2fe0505-be44-4162-be1a-2f9258fb4537/2020-01-26__21_21/3.h5\n",
      "47/47 [==============================] - 5s 108ms/step - loss: 0.2684 - accuracy: 0.8723 - val_loss: 0.3250 - val_accuracy: 0.8813\n",
      "Epoch 4/20\n",
      "46/47 [============================>.] - ETA: 0s - loss: 0.2225 - accuracy: 0.9008.\n",
      "Epoch 00004: val_loss improved from 0.32501 to 0.28942, saving model to ../models/f2fe0505-be44-4162-be1a-2f9258fb4537/2020-01-26__21_21/4.h5\n",
      "47/47 [==============================] - 5s 110ms/step - loss: 0.2203 - accuracy: 0.9016 - val_loss: 0.2894 - val_accuracy: 0.8917\n",
      "Epoch 5/20\n",
      "46/47 [============================>.] - ETA: 0s - loss: 0.1570 - accuracy: 0.9375.\n",
      "Epoch 00005: val_loss improved from 0.28942 to 0.23308, saving model to ../models/f2fe0505-be44-4162-be1a-2f9258fb4537/2020-01-26__21_21/5.h5\n",
      "47/47 [==============================] - 5s 109ms/step - loss: 0.1578 - accuracy: 0.9362 - val_loss: 0.2331 - val_accuracy: 0.9271\n",
      "Epoch 6/20\n",
      "46/47 [============================>.] - ETA: 0s - loss: 0.1099 - accuracy: 0.9545.\n",
      "Epoch 00006: val_loss did not improve from 0.23308\n",
      "47/47 [==============================] - 5s 109ms/step - loss: 0.1103 - accuracy: 0.9541 - val_loss: 0.3015 - val_accuracy: 0.9042\n",
      "Epoch 7/20\n",
      "46/47 [============================>.] - ETA: 0s - loss: 0.0949 - accuracy: 0.9654.\n",
      "Epoch 00007: val_loss improved from 0.23308 to 0.21338, saving model to ../models/f2fe0505-be44-4162-be1a-2f9258fb4537/2020-01-26__21_21/7.h5\n",
      "47/47 [==============================] - 5s 117ms/step - loss: 0.1007 - accuracy: 0.9641 - val_loss: 0.2134 - val_accuracy: 0.9229\n",
      "Epoch 8/20\n",
      "46/47 [============================>.] - ETA: 0s - loss: 0.0665 - accuracy: 0.9776.\n",
      "Epoch 00008: val_loss did not improve from 0.21338\n",
      "47/47 [==============================] - 5s 110ms/step - loss: 0.0652 - accuracy: 0.9781 - val_loss: 0.2829 - val_accuracy: 0.9146\n",
      "Epoch 9/20\n",
      "46/47 [============================>.] - ETA: 0s - loss: 0.0726 - accuracy: 0.9762.\n",
      "Epoch 00009: val_loss did not improve from 0.21338\n",
      "47/47 [==============================] - 5s 112ms/step - loss: 0.0717 - accuracy: 0.9767 - val_loss: 0.2153 - val_accuracy: 0.9208\n",
      "Epoch 10/20\n",
      "46/47 [============================>.] - ETA: 0s - loss: 0.0330 - accuracy: 0.9898.\n",
      "Epoch 00010: val_loss did not improve from 0.21338\n",
      "47/47 [==============================] - 5s 102ms/step - loss: 0.0348 - accuracy: 0.9894 - val_loss: 0.3118 - val_accuracy: 0.9146\n",
      "Epoch 11/20\n",
      "46/47 [============================>.] - ETA: 0s - loss: 0.0239 - accuracy: 0.9898.\n",
      "Epoch 00011: val_loss did not improve from 0.21338\n",
      "47/47 [==============================] - 5s 111ms/step - loss: 0.0237 - accuracy: 0.9900 - val_loss: 0.3905 - val_accuracy: 0.9208\n",
      "Epoch 12/20\n",
      "46/47 [============================>.] - ETA: 0s - loss: 0.0357 - accuracy: 0.9871.\n",
      "Epoch 00012: val_loss did not improve from 0.21338\n",
      "47/47 [==============================] - 5s 111ms/step - loss: 0.0353 - accuracy: 0.9874 - val_loss: 0.3028 - val_accuracy: 0.9062\n",
      "Epoch 00012: early stopping\n",
      "Write metadata for model\n"
     ]
    }
   ],
   "source": [
    "classifier, history, _ = train(str(train_dir), str(model_dir), batch_size, epochs, monitor, start_time)"
   ]
  },
  {
   "cell_type": "markdown",
   "metadata": {},
   "source": [
    "## Evaluation"
   ]
  },
  {
   "cell_type": "code",
   "execution_count": 20,
   "metadata": {},
   "outputs": [],
   "source": [
    "model_metadata_file_path = model_dir.joinpath(model_id, start_time, \"metadata.json\")\n",
    "model_metadata = io.read_metadata(str(model_metadata_file_path))"
   ]
  },
  {
   "cell_type": "code",
   "execution_count": 21,
   "metadata": {
    "scrolled": true
   },
   "outputs": [
    {
     "data": {
      "text/plain": [
       "{'id': 'f2fe0505-be44-4162-be1a-2f9258fb4537',\n",
       " 'created_date': '2020-01-26 21:22:59',\n",
       " 'arguments': {'batch_size': 32, 'epochs': 20, 'monitor': 'val_loss'},\n",
       " 'dataset': {'id': 'f2fe0505-be44-4162-be1a-2f9258fb4537',\n",
       "  'species': 'Corn',\n",
       "  'num_classes': 4,\n",
       "  'class_names': ['Corn_(maize)___Cercospora_leaf_spot Gray_leaf_spot',\n",
       "   'Corn_(maize)___Common_rust_',\n",
       "   'Corn_(maize)___Northern_Leaf_Blight',\n",
       "   'Corn_(maize)___healthy'],\n",
       "  'created_date': '2020-01-26 05:25:25',\n",
       "  'file_counts': {'train': 1517, 'test': 506, 'eval': 506}},\n",
       " 'history': {'loss': [0.7604209910681907,\n",
       "   0.35651423385802733,\n",
       "   0.26838821838510796,\n",
       "   0.22030042524033405,\n",
       "   0.15777843936960748,\n",
       "   0.11028654556325142,\n",
       "   0.10065055000001287,\n",
       "   0.06518657439130734,\n",
       "   0.07169356938213745,\n",
       "   0.034776758384318686,\n",
       "   0.02370261672292551,\n",
       "   0.0353234611919764],\n",
       "  'accuracy': [0.7367021441459656,\n",
       "   0.8344414830207825,\n",
       "   0.8723404407501221,\n",
       "   0.9015957713127136,\n",
       "   0.936170220375061,\n",
       "   0.9541223645210266,\n",
       "   0.9640957713127136,\n",
       "   0.9780585169792175,\n",
       "   0.9767287373542786,\n",
       "   0.9893617033958435,\n",
       "   0.990026593208313,\n",
       "   0.9873670339584351],\n",
       "  'val_loss': [0.4143743058045705,\n",
       "   0.35459138949712116,\n",
       "   0.32500720818837486,\n",
       "   0.2894220843911171,\n",
       "   0.23308149576187134,\n",
       "   0.30152551680803297,\n",
       "   0.21338068321347237,\n",
       "   0.2828650371637195,\n",
       "   0.21530909836292267,\n",
       "   0.3118387858072917,\n",
       "   0.3905063563026488,\n",
       "   0.30279047340154647],\n",
       "  'val_accuracy': [0.8374999761581421,\n",
       "   0.8541666865348816,\n",
       "   0.8812500238418579,\n",
       "   0.8916666507720947,\n",
       "   0.9270833134651184,\n",
       "   0.9041666388511658,\n",
       "   0.9229166507720947,\n",
       "   0.9145833253860474,\n",
       "   0.9208333492279053,\n",
       "   0.9145833253860474,\n",
       "   0.9208333492279053,\n",
       "   0.90625]}}"
      ]
     },
     "execution_count": 21,
     "metadata": {},
     "output_type": "execute_result"
    }
   ],
   "source": [
    "model_metadata"
   ]
  },
  {
   "cell_type": "code",
   "execution_count": 12,
   "metadata": {},
   "outputs": [],
   "source": [
    "history = model_metadata[\"history\"]"
   ]
  },
  {
   "cell_type": "code",
   "execution_count": 22,
   "metadata": {},
   "outputs": [],
   "source": [
    "metrics_df = visualize.create_metrics_dataframe(history.history)"
   ]
  },
  {
   "cell_type": "code",
   "execution_count": 23,
   "metadata": {},
   "outputs": [
    {
     "data": {
      "image/png": "[encoded data removed]",
      "text/plain": [
       "<Figure size 432x288 with 1 Axes>"
      ]
     },
     "metadata": {
      "needs_background": "light"
     },
     "output_type": "display_data"
    }
   ],
   "source": [
    "loss_plot = visualize.learning_curves(\"loss\", metrics_df)"
   ]
  },
  {
   "cell_type": "code",
   "execution_count": 24,
   "metadata": {},
   "outputs": [
    {
     "data": {
      "image/png": "[encoded data removed]",
      "text/plain": [
       "<Figure size 432x288 with 1 Axes>"
      ]
     },
     "metadata": {
      "needs_background": "light"
     },
     "output_type": "display_data"
    }
   ],
   "source": [
    "accuracy_plot = visualize.learning_curves(\"accuracy\", metrics_df)"
   ]
  },
  {
   "cell_type": "code",
   "execution_count": null,
   "metadata": {},
   "outputs": [],
   "source": []
  }
 ],
 "metadata": {
  "kernelspec": {
   "display_name": "Python 3",
   "language": "python",
   "name": "python3"
  },
  "language_info": {
   "codemirror_mode": {
    "name": "ipython",
    "version": 3
   },
   "file_extension": ".py",
   "mimetype": "text/x-python",
   "name": "python",
   "nbconvert_exporter": "python",
   "pygments_lexer": "ipython3",
   "version": "3.7.6"
  }
 },
 "nbformat": 4,
 "nbformat_minor": 4
}
