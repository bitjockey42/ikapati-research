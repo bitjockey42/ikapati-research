{
 "cells": [
  {
   "cell_type": "code",
   "execution_count": 1,
   "metadata": {},
   "outputs": [],
   "source": [
    "%load_ext autoreload\n",
    "%autoreload 2"
   ]
  },
  {
   "cell_type": "code",
   "execution_count": 2,
   "metadata": {},
   "outputs": [],
   "source": [
    "from IPython import display\n",
    "from matplotlib import pyplot as plt\n",
    "%matplotlib inline"
   ]
  },
  {
   "cell_type": "code",
   "execution_count": 13,
   "metadata": {},
   "outputs": [],
   "source": [
    "import pathlib\n",
    "\n",
    "import numpy as np\n",
    "import pandas as pd\n",
    "import seaborn as sns\n",
    "\n",
    "from datetime import datetime\n",
    "\n",
    "from src.data import io\n",
    "from src.visualization import visualize"
   ]
  },
  {
   "cell_type": "code",
   "execution_count": 4,
   "metadata": {},
   "outputs": [
    {
     "name": "stdout",
     "output_type": "stream",
     "text": [
      "species: Corn - train_dir: ../data/processed/Corn - metadata_file_path: ../data/processed/Corn/metadata.json\n"
     ]
    }
   ],
   "source": [
    "species = \"Corn\"\n",
    "data_dir = pathlib.Path(\"../data/processed\")\n",
    "train_dir = data_dir.joinpath(species)\n",
    "model_dir = pathlib.Path(\"../models\")\n",
    "metadata_file_path = train_dir.joinpath(\"metadata.json\")\n",
    "\n",
    "print(f\"species: {species} - train_dir: {str(train_dir)} - metadata_file_path: {str(metadata_file_path)}\")"
   ]
  },
  {
   "cell_type": "code",
   "execution_count": 5,
   "metadata": {},
   "outputs": [
    {
     "name": "stdout",
     "output_type": "stream",
     "text": [
      "model_id: f2fe0505-be44-4162-be1a-2f9258fb4537\n"
     ]
    }
   ],
   "source": [
    "metadata = io.read_metadata(str(metadata_file_path))\n",
    "model_id = metadata[\"id\"]\n",
    "\n",
    "print(f\"model_id: {model_id}\")"
   ]
  },
  {
   "cell_type": "markdown",
   "metadata": {},
   "source": [
    "## Training"
   ]
  },
  {
   "cell_type": "code",
   "execution_count": 6,
   "metadata": {},
   "outputs": [],
   "source": [
    "from src.models.train_model import train, load_dataset"
   ]
  },
  {
   "cell_type": "code",
   "execution_count": 65,
   "metadata": {},
   "outputs": [],
   "source": [
    "start_time = datetime.utcnow().strftime(\"%Y-%m-%d__%H_%M%S\")\n",
    "batch_size = 32\n",
    "epochs = 20\n",
    "monitor = \"val_loss\"\n",
    "activation = \"linear\"\n",
    "learning_rate = 0.1\n",
    "early_stopping = False"
   ]
  },
  {
   "cell_type": "code",
   "execution_count": null,
   "metadata": {},
   "outputs": [
    {
     "name": "stdout",
     "output_type": "stream",
     "text": [
      "learning_rate: 0.1 - activation: linear\n",
      "Model: \"sequential_9\"\n",
      "_________________________________________________________________\n",
      "Layer (type)                 Output Shape              Param #   \n",
      "=================================================================\n",
      "conv2d_27 (Conv2D)           (None, 256, 256, 32)      896       \n",
      "_________________________________________________________________\n",
      "leaky_re_lu_36 (LeakyReLU)   (None, 256, 256, 32)      0         \n",
      "_________________________________________________________________\n",
      "max_pooling2d_27 (MaxPooling (None, 128, 128, 32)      0         \n",
      "_________________________________________________________________\n",
      "dropout_32 (Dropout)         (None, 128, 128, 32)      0         \n",
      "_________________________________________________________________\n",
      "conv2d_28 (Conv2D)           (None, 128, 128, 64)      18496     \n",
      "_________________________________________________________________\n",
      "leaky_re_lu_37 (LeakyReLU)   (None, 128, 128, 64)      0         \n",
      "_________________________________________________________________\n",
      "max_pooling2d_28 (MaxPooling (None, 64, 64, 64)        0         \n",
      "_________________________________________________________________\n",
      "dropout_33 (Dropout)         (None, 64, 64, 64)        0         \n",
      "_________________________________________________________________\n",
      "conv2d_29 (Conv2D)           (None, 64, 64, 128)       73856     \n",
      "_________________________________________________________________\n",
      "leaky_re_lu_38 (LeakyReLU)   (None, 64, 64, 128)       0         \n",
      "_________________________________________________________________\n",
      "max_pooling2d_29 (MaxPooling (None, 32, 32, 128)       0         \n",
      "_________________________________________________________________\n",
      "dropout_34 (Dropout)         (None, 32, 32, 128)       0         \n",
      "_________________________________________________________________\n",
      "flatten_9 (Flatten)          (None, 131072)            0         \n",
      "_________________________________________________________________\n",
      "dense_18 (Dense)             (None, 128)               16777344  \n",
      "_________________________________________________________________\n",
      "leaky_re_lu_39 (LeakyReLU)   (None, 128)               0         \n",
      "_________________________________________________________________\n",
      "dropout_35 (Dropout)         (None, 128)               0         \n",
      "_________________________________________________________________\n",
      "dense_19 (Dense)             (None, 4)                 516       \n",
      "=================================================================\n",
      "Total params: 16,871,108\n",
      "Trainable params: 16,871,108\n",
      "Non-trainable params: 0\n",
      "_________________________________________________________________\n",
      "Train for 47 steps, validate for 15 steps\n",
      "Epoch 1/20\n",
      "47/47 [==============================] - 6s 118ms/step - loss: 0.9176 - accuracy: 0.7347 - val_loss: 0.3920 - val_accuracy: 0.8271\n",
      "Epoch 2/20\n",
      "47/47 [==============================] - 5s 103ms/step - loss: 0.3542 - accuracy: 0.8477 - val_loss: 0.3821 - val_accuracy: 0.8542\n",
      "Epoch 3/20\n",
      "47/47 [==============================] - 5s 103ms/step - loss: 0.2953 - accuracy: 0.8723 - val_loss: 0.2570 - val_accuracy: 0.8708\n",
      "Epoch 4/20\n",
      "47/47 [==============================] - 5s 103ms/step - loss: 0.2487 - accuracy: 0.8963 - val_loss: 0.2598 - val_accuracy: 0.8938\n",
      "Epoch 5/20\n",
      "47/47 [==============================] - 5s 101ms/step - loss: 0.2119 - accuracy: 0.9149 - val_loss: 0.1870 - val_accuracy: 0.9125\n",
      "Epoch 6/20\n",
      "47/47 [==============================] - 5s 102ms/step - loss: 0.1381 - accuracy: 0.9475 - val_loss: 0.1797 - val_accuracy: 0.9125\n",
      "Epoch 7/20\n",
      "47/47 [==============================] - 5s 100ms/step - loss: 0.0976 - accuracy: 0.9654 - val_loss: 0.2350 - val_accuracy: 0.9229\n",
      "Epoch 8/20\n",
      "47/47 [==============================] - 5s 101ms/step - loss: 0.1043 - accuracy: 0.9621 - val_loss: 0.3258 - val_accuracy: 0.9000\n",
      "Epoch 9/20\n",
      "47/47 [==============================] - 5s 103ms/step - loss: 0.1080 - accuracy: 0.9614 - val_loss: 0.2541 - val_accuracy: 0.9083\n",
      "Epoch 10/20\n",
      "46/47 [============================>.] - ETA: 0s - loss: 0.0532 - accuracy: 0.9830"
     ]
    }
   ],
   "source": [
    "classifier, history, _ = train(str(train_dir), str(model_dir), batch_size, epochs, monitor, start_time, learning_rate, activation, early_stopping)"
   ]
  },
  {
   "cell_type": "markdown",
   "metadata": {},
   "source": [
    "## Evaluation"
   ]
  },
  {
   "cell_type": "code",
   "execution_count": 59,
   "metadata": {},
   "outputs": [],
   "source": [
    "model_metadata_file_path = model_dir.joinpath(model_id, start_time, \"metadata.json\")\n",
    "model_metadata = io.read_metadata(str(model_metadata_file_path))"
   ]
  },
  {
   "cell_type": "code",
   "execution_count": 60,
   "metadata": {
    "scrolled": true
   },
   "outputs": [
    {
     "data": {
      "text/plain": [
       "{'id': 'f2fe0505-be44-4162-be1a-2f9258fb4537',\n",
       " 'created_date': '2020-01-26 21:57:50',\n",
       " 'arguments': {'batch_size': 32, 'epochs': 20, 'monitor': 'val_loss'},\n",
       " 'dataset': {'id': 'f2fe0505-be44-4162-be1a-2f9258fb4537',\n",
       "  'species': 'Corn',\n",
       "  'num_classes': 4,\n",
       "  'class_names': ['Corn_(maize)___Cercospora_leaf_spot Gray_leaf_spot',\n",
       "   'Corn_(maize)___Common_rust_',\n",
       "   'Corn_(maize)___Northern_Leaf_Blight',\n",
       "   'Corn_(maize)___healthy'],\n",
       "  'created_date': '2020-01-26 05:25:25',\n",
       "  'file_counts': {'train': 1517, 'test': 506, 'eval': 506}},\n",
       " 'history': {'loss': [1.2703828174383083,\n",
       "   0.2995104114425943,\n",
       "   0.23638128330732913,\n",
       "   0.23524260584344256,\n",
       "   0.1553019610174159,\n",
       "   0.1382806527012206,\n",
       "   0.09483274748112927,\n",
       "   0.08640873614460864,\n",
       "   0.06717719255570084],\n",
       "  'accuracy': [0.7227393388748169,\n",
       "   0.8710106611251831,\n",
       "   0.896276593208313,\n",
       "   0.9002659320831299,\n",
       "   0.9348404407501221,\n",
       "   0.9434840679168701,\n",
       "   0.9634308218955994,\n",
       "   0.9680851101875305,\n",
       "   0.9760638475418091],\n",
       "  'val_loss': [0.3491618514060974,\n",
       "   0.2649594853321711,\n",
       "   0.42835219005743663,\n",
       "   0.23545300513505935,\n",
       "   0.26391315857569375,\n",
       "   0.25489770496884984,\n",
       "   0.2957575878749291,\n",
       "   0.23883284591138362,\n",
       "   0.3940653403600057],\n",
       "  'val_accuracy': [0.8520833253860474,\n",
       "   0.8666666746139526,\n",
       "   0.824999988079071,\n",
       "   0.90625,\n",
       "   0.9041666388511658,\n",
       "   0.9083333611488342,\n",
       "   0.893750011920929,\n",
       "   0.9083333611488342,\n",
       "   0.8833333253860474]}}"
      ]
     },
     "execution_count": 60,
     "metadata": {},
     "output_type": "execute_result"
    }
   ],
   "source": [
    "model_metadata"
   ]
  },
  {
   "cell_type": "code",
   "execution_count": 12,
   "metadata": {},
   "outputs": [],
   "source": [
    "# history = model_metadata[\"history\"]"
   ]
  },
  {
   "cell_type": "code",
   "execution_count": 61,
   "metadata": {},
   "outputs": [],
   "source": [
    "metrics_df = visualize.create_metrics_dataframe(history.history)"
   ]
  },
  {
   "cell_type": "code",
   "execution_count": 62,
   "metadata": {},
   "outputs": [
    {
     "data": {
      "image/png": "[encoded data removed]",
      "text/plain": [
       "<Figure size 432x288 with 1 Axes>"
      ]
     },
     "metadata": {
      "needs_background": "light"
     },
     "output_type": "display_data"
    }
   ],
   "source": [
    "loss_plot = visualize.learning_curves(\"loss\", metrics_df)"
   ]
  },
  {
   "cell_type": "code",
   "execution_count": 63,
   "metadata": {},
   "outputs": [
    {
     "data": {
      "image/png": "[encoded data removed]",
      "text/plain": [
       "<Figure size 432x288 with 1 Axes>"
      ]
     },
     "metadata": {
      "needs_background": "light"
     },
     "output_type": "display_data"
    }
   ],
   "source": [
    "accuracy_plot = visualize.learning_curves(\"accuracy\", metrics_df)"
   ]
  },
  {
   "cell_type": "code",
   "execution_count": null,
   "metadata": {},
   "outputs": [],
   "source": []
  }
 ],
 "metadata": {
  "kernelspec": {
   "display_name": "Python 3",
   "language": "python",
   "name": "python3"
  },
  "language_info": {
   "codemirror_mode": {
    "name": "ipython",
    "version": 3
   },
   "file_extension": ".py",
   "mimetype": "text/x-python",
   "name": "python",
   "nbconvert_exporter": "python",
   "pygments_lexer": "ipython3",
   "version": "3.7.6"
  }
 },
 "nbformat": 4,
 "nbformat_minor": 4
}
