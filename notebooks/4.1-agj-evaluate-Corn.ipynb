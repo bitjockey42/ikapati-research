{
 "cells": [
  {
   "cell_type": "code",
   "execution_count": 1,
   "metadata": {},
   "outputs": [],
   "source": [
    "%load_ext autoreload\n",
    "%autoreload 2"
   ]
  },
  {
   "cell_type": "code",
   "execution_count": 2,
   "metadata": {},
   "outputs": [],
   "source": [
    "from IPython import display\n",
    "from matplotlib import pyplot as plt\n",
    "%matplotlib inline"
   ]
  },
  {
   "cell_type": "code",
   "execution_count": 3,
   "metadata": {},
   "outputs": [],
   "source": [
    "import pathlib\n",
    "\n",
    "import numpy as np\n",
    "import pandas as pd\n",
    "import seaborn as sns\n",
    "\n",
    "from ikapati.data import io\n",
    "from ikapati.visualization import visualize"
   ]
  },
  {
   "cell_type": "code",
   "execution_count": 9,
   "metadata": {},
   "outputs": [
    {
     "name": "stdout",
     "output_type": "stream",
     "text": [
      "species: Corn - train_dir: ../data/processed/Corn - metadata_file_path: ../data/processed/Corn/metadata.json\n"
     ]
    }
   ],
   "source": [
    "species = \"Corn\"\n",
    "data_dir = pathlib.Path(\"../data/processed\")\n",
    "train_dir = data_dir.joinpath(species)\n",
    "model_dir = pathlib.Path(\"../models\")\n",
    "metadata_file_path = train_dir.joinpath(\"metadata.json\")\n",
    "base_dir = pathlib.Path.cwd()\n",
    "\n",
    "print(f\"species: {species} - train_dir: {str(train_dir)} - metadata_file_path: {str(metadata_file_path)}\")"
   ]
  },
  {
   "cell_type": "code",
   "execution_count": 10,
   "metadata": {},
   "outputs": [
    {
     "name": "stdout",
     "output_type": "stream",
     "text": [
      "model_id: e9257664-a467-43e8-8f15-9088131293f9\n"
     ]
    }
   ],
   "source": [
    "metadata = io.read_metadata(str(metadata_file_path))\n",
    "model_id = metadata[\"id\"]\n",
    "\n",
    "print(f\"model_id: {model_id}\")"
   ]
  },
  {
   "cell_type": "code",
   "execution_count": 11,
   "metadata": {},
   "outputs": [
    {
     "data": {
      "text/plain": [
       "{'relu': 'models/e9257664-a467-43e8-8f15-9088131293f9/2020-02-03__01_0305',\n",
       " 'relu-dropout': 'models/e9257664-a467-43e8-8f15-9088131293f9/2020-02-03__01_0434'}"
      ]
     },
     "execution_count": 11,
     "metadata": {},
     "output_type": "execute_result"
    }
   ],
   "source": [
    "training_log_path = model_dir.joinpath(model_id, \"training.log\")\n",
    "\n",
    "with open(training_log_path) as log_file:\n",
    "    logs = log_file.readlines()\n",
    "    training_logs = dict([log.strip().split(\"\\t\") for log in logs])\n",
    "    \n",
    "training_logs"
   ]
  },
  {
   "cell_type": "code",
   "execution_count": 12,
   "metadata": {},
   "outputs": [
    {
     "data": {
      "text/plain": [
       "[PosixPath('../models/e9257664-a467-43e8-8f15-9088131293f9/2020-02-03__01_0305'),\n",
       " PosixPath('../models/e9257664-a467-43e8-8f15-9088131293f9/2020-02-03__01_0434'),\n",
       " PosixPath('../models/e9257664-a467-43e8-8f15-9088131293f9/training.log')]"
      ]
     },
     "execution_count": 12,
     "metadata": {},
     "output_type": "execute_result"
    }
   ],
   "source": [
    "list(pathlib.Path(\"../models\", model_id).glob(\"*/\"))"
   ]
  },
  {
   "cell_type": "markdown",
   "metadata": {},
   "source": [
    "## ReLU"
   ]
  },
  {
   "cell_type": "code",
   "execution_count": 13,
   "metadata": {},
   "outputs": [],
   "source": [
    "model_metadata_file_path = pathlib.Path(\"..\", training_logs[\"relu\"], \"metadata.json\")\n",
    "model_metadata = io.read_metadata(str(model_metadata_file_path))"
   ]
  },
  {
   "cell_type": "code",
   "execution_count": 14,
   "metadata": {
    "scrolled": true
   },
   "outputs": [
    {
     "data": {
      "text/plain": [
       "{'id': 'e9257664-a467-43e8-8f15-9088131293f9',\n",
       " 'start_time': '2020-02-03__01_0305',\n",
       " 'arguments': {'batch_size': 64,\n",
       "  'epochs': 20,\n",
       "  'monitor': 'val_loss',\n",
       "  'activation': 'relu',\n",
       "  'early_stopping': False,\n",
       "  'architecture': 'alexnet',\n",
       "  'dropout': False},\n",
       " 'dataset': {'id': 'e9257664-a467-43e8-8f15-9088131293f9',\n",
       "  'species': 'Corn',\n",
       "  'num_classes': 4,\n",
       "  'class_names': ['Corn_(maize)___Cercospora_leaf_spot Gray_leaf_spot',\n",
       "   'Corn_(maize)___Common_rust_',\n",
       "   'Corn_(maize)___Northern_Leaf_Blight',\n",
       "   'Corn_(maize)___healthy'],\n",
       "  'created_date': '2020-02-02 23:11:39',\n",
       "  'file_counts': {'train': 2023, 'test': 253, 'eval': 253}},\n",
       " 'history': {'loss': [0.9321761679264807,\n",
       "   0.44799183453283004,\n",
       "   0.38777408099943594,\n",
       "   0.38636701626162373,\n",
       "   0.3172011452336465,\n",
       "   0.30175033307844595,\n",
       "   0.26333783951497847,\n",
       "   0.2561584009278205,\n",
       "   0.16920591434163432,\n",
       "   0.1743548749194991,\n",
       "   0.1865305085816691,\n",
       "   0.1760518135082337,\n",
       "   0.1895304884641401,\n",
       "   0.15667798706600744,\n",
       "   0.12931403265364708,\n",
       "   0.12911805666742787,\n",
       "   0.10759370798064817,\n",
       "   0.07711966882549948,\n",
       "   0.052605129057361234,\n",
       "   0.05479021863110604],\n",
       "  'accuracy': [0.5806451439857483,\n",
       "   0.8155242204666138,\n",
       "   0.8215726017951965,\n",
       "   0.8291330933570862,\n",
       "   0.8467742204666138,\n",
       "   0.8649193644523621,\n",
       "   0.8860887289047241,\n",
       "   0.8986895084381104,\n",
       "   0.928931474685669,\n",
       "   0.9314516186714172,\n",
       "   0.9178427457809448,\n",
       "   0.9284273982048035,\n",
       "   0.9269153475761414,\n",
       "   0.9329637289047241,\n",
       "   0.9501007795333862,\n",
       "   0.9516128897666931,\n",
       "   0.9576612710952759,\n",
       "   0.9657257795333862,\n",
       "   0.9818548560142517,\n",
       "   0.9803427457809448],\n",
       "  'val_loss': [0.49447790781656903,\n",
       "   0.36838095386823017,\n",
       "   0.6255839069684347,\n",
       "   0.28458261986573535,\n",
       "   0.30929023027420044,\n",
       "   0.3030064602692922,\n",
       "   0.2546297684311867,\n",
       "   0.26409963766733807,\n",
       "   0.1858470936616262,\n",
       "   0.20636879901091257,\n",
       "   0.1973134974638621,\n",
       "   0.18782532463471094,\n",
       "   0.3008866459131241,\n",
       "   0.3618227740128835,\n",
       "   0.18214751283327738,\n",
       "   0.21115820606549582,\n",
       "   0.24320176243782043,\n",
       "   0.1751864751180013,\n",
       "   0.2823180705308914,\n",
       "   0.2869861622651418],\n",
       "  'val_accuracy': [0.8385416865348816,\n",
       "   0.8333333134651184,\n",
       "   0.7447916865348816,\n",
       "   0.8802083134651184,\n",
       "   0.8645833134651184,\n",
       "   0.859375,\n",
       "   0.90625,\n",
       "   0.9114583134651184,\n",
       "   0.9375,\n",
       "   0.9166666865348816,\n",
       "   0.921875,\n",
       "   0.9375,\n",
       "   0.890625,\n",
       "   0.8854166865348816,\n",
       "   0.9375,\n",
       "   0.90625,\n",
       "   0.9166666865348816,\n",
       "   0.9322916865348816,\n",
       "   0.921875,\n",
       "   0.9270833134651184]}}"
      ]
     },
     "execution_count": 14,
     "metadata": {},
     "output_type": "execute_result"
    }
   ],
   "source": [
    "model_metadata"
   ]
  },
  {
   "cell_type": "code",
   "execution_count": 15,
   "metadata": {},
   "outputs": [],
   "source": [
    "history = model_metadata[\"history\"]"
   ]
  },
  {
   "cell_type": "code",
   "execution_count": 16,
   "metadata": {},
   "outputs": [],
   "source": [
    "metrics_df = visualize.create_metrics_dataframe(history)"
   ]
  },
  {
   "cell_type": "code",
   "execution_count": 17,
   "metadata": {},
   "outputs": [
    {
     "data": {
      "image/png": "[encoded data removed]",
      "text/plain": [
       "<Figure size 432x288 with 1 Axes>"
      ]
     },
     "metadata": {
      "needs_background": "light"
     },
     "output_type": "display_data"
    }
   ],
   "source": [
    "loss_plot = visualize.learning_curves(\"loss\", metrics_df)"
   ]
  },
  {
   "cell_type": "code",
   "execution_count": 18,
   "metadata": {},
   "outputs": [],
   "source": [
    "visualize.save_plot(loss_plot, f\"../reports/figures/{species}-relu.loss.png\")"
   ]
  },
  {
   "cell_type": "code",
   "execution_count": 19,
   "metadata": {},
   "outputs": [
    {
     "data": {
      "image/png": "[encoded data removed]",
      "text/plain": [
       "<Figure size 432x288 with 1 Axes>"
      ]
     },
     "metadata": {
      "needs_background": "light"
     },
     "output_type": "display_data"
    }
   ],
   "source": [
    "accuracy_plot = visualize.learning_curves(\"accuracy\", metrics_df)"
   ]
  },
  {
   "cell_type": "code",
   "execution_count": 20,
   "metadata": {},
   "outputs": [],
   "source": [
    "visualize.save_plot(accuracy_plot, f\"../reports/figures/{species}-relu.accuracy.png\")"
   ]
  },
  {
   "cell_type": "markdown",
   "metadata": {},
   "source": [
    "## ReLU with Dropout"
   ]
  },
  {
   "cell_type": "code",
   "execution_count": 21,
   "metadata": {},
   "outputs": [],
   "source": [
    "dropout_model_metadata_file_path = pathlib.Path(\"..\", training_logs[\"relu-dropout\"], \"metadata.json\")\n",
    "dropout_model_metadata = io.read_metadata(str(dropout_model_metadata_file_path))"
   ]
  },
  {
   "cell_type": "code",
   "execution_count": 22,
   "metadata": {
    "scrolled": true
   },
   "outputs": [
    {
     "data": {
      "text/plain": [
       "{'id': 'e9257664-a467-43e8-8f15-9088131293f9',\n",
       " 'start_time': '2020-02-03__01_0434',\n",
       " 'arguments': {'batch_size': 64,\n",
       "  'epochs': 20,\n",
       "  'monitor': 'val_loss',\n",
       "  'activation': 'relu',\n",
       "  'early_stopping': False,\n",
       "  'architecture': 'alexnet',\n",
       "  'dropout': True},\n",
       " 'dataset': {'id': 'e9257664-a467-43e8-8f15-9088131293f9',\n",
       "  'species': 'Corn',\n",
       "  'num_classes': 4,\n",
       "  'class_names': ['Corn_(maize)___Cercospora_leaf_spot Gray_leaf_spot',\n",
       "   'Corn_(maize)___Common_rust_',\n",
       "   'Corn_(maize)___Northern_Leaf_Blight',\n",
       "   'Corn_(maize)___healthy'],\n",
       "  'created_date': '2020-02-02 23:11:39',\n",
       "  'file_counts': {'train': 2023, 'test': 253, 'eval': 253}},\n",
       " 'history': {'loss': [0.9585084972843048,\n",
       "   0.43047957266530684,\n",
       "   0.3844163562020948,\n",
       "   0.3465425665340116,\n",
       "   0.30663932859897614,\n",
       "   0.26569015989380496,\n",
       "   0.2020925384375357,\n",
       "   0.22196342026995075,\n",
       "   0.16854176790483535,\n",
       "   0.1073117712813039,\n",
       "   0.1612251535538704,\n",
       "   0.08954074386987955,\n",
       "   0.19101359899486264,\n",
       "   0.1523195783938131,\n",
       "   0.08143218792974949,\n",
       "   0.054018427865699895,\n",
       "   0.04801240956951534,\n",
       "   0.07409393967640016,\n",
       "   0.1361579730385734,\n",
       "   0.2260523845231341],\n",
       "  'accuracy': [0.585181474685669,\n",
       "   0.8109878897666931,\n",
       "   0.8190523982048035,\n",
       "   0.8487903475761414,\n",
       "   0.8639112710952759,\n",
       "   0.8936492204666138,\n",
       "   0.9198588728904724,\n",
       "   0.9213709831237793,\n",
       "   0.9344757795333862,\n",
       "   0.9576612710952759,\n",
       "   0.9415322542190552,\n",
       "   0.9652217626571655,\n",
       "   0.9294354915618896,\n",
       "   0.9415322542190552,\n",
       "   0.9692540168762207,\n",
       "   0.9798387289047241,\n",
       "   0.9813507795333862,\n",
       "   0.9753023982048035,\n",
       "   0.9586693644523621,\n",
       "   0.928931474685669],\n",
       "  'val_loss': [0.45009003082911175,\n",
       "   0.3710395296414693,\n",
       "   0.3864608705043793,\n",
       "   0.25001758337020874,\n",
       "   0.23655175666014353,\n",
       "   0.2207427149017652,\n",
       "   0.17110266784826914,\n",
       "   0.18230229119459787,\n",
       "   0.14820685237646103,\n",
       "   0.5135907779137293,\n",
       "   0.08232724418242772,\n",
       "   0.18459898978471756,\n",
       "   0.15293317039807638,\n",
       "   0.19156829019387564,\n",
       "   0.11635790579020977,\n",
       "   0.2526184394955635,\n",
       "   0.06677154203255971,\n",
       "   0.10873567685484886,\n",
       "   0.09564494465788205,\n",
       "   0.13818484048048654],\n",
       "  'val_accuracy': [0.8229166865348816,\n",
       "   0.859375,\n",
       "   0.8385416865348816,\n",
       "   0.9114583134651184,\n",
       "   0.921875,\n",
       "   0.9166666865348816,\n",
       "   0.9114583134651184,\n",
       "   0.9322916865348816,\n",
       "   0.9427083134651184,\n",
       "   0.9010416865348816,\n",
       "   0.9635416865348816,\n",
       "   0.96875,\n",
       "   0.9375,\n",
       "   0.9479166865348816,\n",
       "   0.96875,\n",
       "   0.9375,\n",
       "   0.96875,\n",
       "   0.9635416865348816,\n",
       "   0.9739583134651184,\n",
       "   0.9375]}}"
      ]
     },
     "execution_count": 22,
     "metadata": {},
     "output_type": "execute_result"
    }
   ],
   "source": [
    "dropout_model_metadata"
   ]
  },
  {
   "cell_type": "code",
   "execution_count": 23,
   "metadata": {},
   "outputs": [],
   "source": [
    "dropout_history = dropout_model_metadata[\"history\"]"
   ]
  },
  {
   "cell_type": "code",
   "execution_count": 24,
   "metadata": {},
   "outputs": [],
   "source": [
    "dropout_metrics_df = visualize.create_metrics_dataframe(dropout_history)"
   ]
  },
  {
   "cell_type": "code",
   "execution_count": 25,
   "metadata": {},
   "outputs": [
    {
     "data": {
      "image/png": "[encoded data removed]",
      "text/plain": [
       "<Figure size 432x288 with 1 Axes>"
      ]
     },
     "metadata": {
      "needs_background": "light"
     },
     "output_type": "display_data"
    }
   ],
   "source": [
    "dropout_loss_plot = visualize.learning_curves(\"loss\", dropout_metrics_df)"
   ]
  },
  {
   "cell_type": "code",
   "execution_count": 26,
   "metadata": {},
   "outputs": [],
   "source": [
    "visualize.save_plot(dropout_loss_plot, f\"../reports/figures/{species}-relu-dropout.loss.png\")"
   ]
  },
  {
   "cell_type": "code",
   "execution_count": 27,
   "metadata": {},
   "outputs": [
    {
     "data": {
      "image/png": "[encoded data removed]",
      "text/plain": [
       "<Figure size 432x288 with 1 Axes>"
      ]
     },
     "metadata": {
      "needs_background": "light"
     },
     "output_type": "display_data"
    }
   ],
   "source": [
    "dropout_accuracy_plot = visualize.learning_curves(\"accuracy\", dropout_metrics_df)"
   ]
  },
  {
   "cell_type": "code",
   "execution_count": 23,
   "metadata": {},
   "outputs": [],
   "source": [
    "visualize.save_plot(dropout_accuracy_plot, f\"../reports/figures/{species}-relu.accuracy.png\")"
   ]
  },
  {
   "cell_type": "code",
   "execution_count": null,
   "metadata": {},
   "outputs": [],
   "source": []
  }
 ],
 "metadata": {
  "kernelspec": {
   "display_name": "Python 3",
   "language": "python",
   "name": "python3"
  },
  "language_info": {
   "codemirror_mode": {
    "name": "ipython",
    "version": 3
   },
   "file_extension": ".py",
   "mimetype": "text/x-python",
   "name": "python",
   "nbconvert_exporter": "python",
   "pygments_lexer": "ipython3",
   "version": "3.7.6"
  }
 },
 "nbformat": 4,
 "nbformat_minor": 4
}
