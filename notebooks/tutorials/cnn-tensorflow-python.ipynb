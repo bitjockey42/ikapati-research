{
 "cells": [
  {
   "cell_type": "markdown",
   "metadata": {},
   "source": [
    "# Convolutional Neural Networks (CNN) with TensorFlow\n",
    "\n",
    "* [DataCamp Tutorial](https://www.datacamp.com/community/tutorials/cnn-tensorflow-python)\n",
    "* [DataCamp Keras Tutorial](https://www.datacamp.com/community/tutorials/convolutional-neural-networks-python)\n",
    "* [TensorFlow Keras Classification](https://www.tensorflow.org/tutorials/keras/classification)\n",
    "* [TensorFlow Keras API](https://www.tensorflow.org/guide/keras/functional)\n",
    "* [TensorFlow Keras Save and Load Models](https://www.tensorflow.org/tutorials/keras/save_and_load)\n",
    "* [Deploy trained Keras/TensorFlow models to SageMaker](https://aws.amazon.com/blogs/machine-learning/deploy-trained-keras-or-tensorflow-models-using-amazon-sagemaker/)\n",
    "* [Save and Serializes TensorFlow/Keras Models](https://www.tensorflow.org/guide/keras/save_and_serialize)"
   ]
  },
  {
   "cell_type": "code",
   "execution_count": 1,
   "metadata": {},
   "outputs": [
    {
     "name": "stdout",
     "output_type": "stream",
     "text": [
      "2.0.0\n"
     ]
    }
   ],
   "source": [
    "import tensorflow as tf\n",
    "from tensorflow import keras\n",
    "\n",
    "import os\n",
    "os.environ[\"CUDA_VISIBLE_DEVICES\"]=\"0\" #for training on gpu\n",
    "\n",
    "print(tf.__version__)"
   ]
  },
  {
   "cell_type": "markdown",
   "metadata": {},
   "source": [
    "## Explore Data"
   ]
  },
  {
   "cell_type": "code",
   "execution_count": 2,
   "metadata": {},
   "outputs": [],
   "source": [
    "# Download Fashion MNIST dataset\n",
    "fashion_mnist = keras.datasets.fashion_mnist"
   ]
  },
  {
   "cell_type": "code",
   "execution_count": 3,
   "metadata": {},
   "outputs": [],
   "source": [
    "(train_images, train_labels), (test_images, test_labels) = fashion_mnist.load_data()"
   ]
  },
  {
   "cell_type": "code",
   "execution_count": 4,
   "metadata": {},
   "outputs": [
    {
     "data": {
      "text/plain": [
       "<function tensorflow.python.keras.utils.np_utils.to_categorical(y, num_classes=None, dtype='float32')>"
      ]
     },
     "execution_count": 4,
     "metadata": {},
     "output_type": "execute_result"
    }
   ],
   "source": [
    "keras.utils.to_categorical"
   ]
  },
  {
   "cell_type": "code",
   "execution_count": 5,
   "metadata": {},
   "outputs": [
    {
     "name": "stdout",
     "output_type": "stream",
     "text": [
      "Training data shape: (60000, 28, 28) (60000,)\n",
      "Test data shape: (10000, 28, 28) (10000,)\n"
     ]
    }
   ],
   "source": [
    "import numpy as np\n",
    "import matplotlib.pyplot as plt\n",
    "%matplotlib inline\n",
    "\n",
    "print('Training data shape:', train_images.shape, train_labels.shape)\n",
    "print('Test data shape:', test_images.shape, test_labels.shape)"
   ]
  },
  {
   "cell_type": "code",
   "execution_count": 6,
   "metadata": {},
   "outputs": [
    {
     "name": "stdout",
     "output_type": "stream",
     "text": [
      "Total number of outputs: 10\n",
      "Output classes: [0 1 2 3 4 5 6 7 8 9]\n"
     ]
    }
   ],
   "source": [
    "classes = np.unique(train_labels)\n",
    "num_classes = len(classes)\n",
    "print('Total number of outputs:', num_classes)\n",
    "print('Output classes:', classes)"
   ]
  },
  {
   "cell_type": "code",
   "execution_count": 7,
   "metadata": {},
   "outputs": [],
   "source": [
    "def display_image(image, label, cmap=None):\n",
    "    plt.figure(figsize=(5,5))\n",
    "    plt.imshow(image, cmap=cmap)\n",
    "    plt.colorbar()\n",
    "    plt.grid(False)\n",
    "    plt.title(\"Ground truth: {}\".format(label))\n",
    "    plt.show()"
   ]
  },
  {
   "cell_type": "code",
   "execution_count": 8,
   "metadata": {},
   "outputs": [
    {
     "data": {
      "image/png": "[encoded data removed]",
      "text/plain": [
       "<Figure size 360x360 with 2 Axes>"
      ]
     },
     "metadata": {
      "needs_background": "light"
     },
     "output_type": "display_data"
    }
   ],
   "source": [
    "display_image(train_images[0], train_labels[0], cmap=\"gray\")"
   ]
  },
  {
   "cell_type": "code",
   "execution_count": 9,
   "metadata": {},
   "outputs": [
    {
     "data": {
      "image/png": "[encoded data removed]",
      "text/plain": [
       "<Figure size 360x360 with 2 Axes>"
      ]
     },
     "metadata": {
      "needs_background": "light"
     },
     "output_type": "display_data"
    }
   ],
   "source": [
    "display_image(train_images[1], train_labels[1], cmap=\"gray\")"
   ]
  },
  {
   "cell_type": "markdown",
   "metadata": {},
   "source": [
    "## Preprocess Images"
   ]
  },
  {
   "cell_type": "code",
   "execution_count": 10,
   "metadata": {},
   "outputs": [],
   "source": [
    "# Scale the values of the images to a range of 0 to 1 before feeding into CNN\n",
    "def preprocess_images(images):\n",
    "    # reshape each image from 28,28 to a 28,28,1\n",
    "    preprocessed_images = images.reshape(-1, 28,28, 1)\n",
    "    # convert type to float32\n",
    "    preprocessed_images = preprocessed_images.astype('float32')\n",
    "    return preprocessed_images / 255"
   ]
  },
  {
   "cell_type": "code",
   "execution_count": 11,
   "metadata": {
    "scrolled": true
   },
   "outputs": [],
   "source": [
    "train_X = preprocess_images(train_images)\n",
    "test_X = preprocess_images(test_images)"
   ]
  },
  {
   "cell_type": "code",
   "execution_count": 12,
   "metadata": {},
   "outputs": [],
   "source": [
    "# Convert labels to one hot encoding\n",
    "def convert_to_one_hot(labels):\n",
    "    return keras.utils.to_categorical(labels)"
   ]
  },
  {
   "cell_type": "code",
   "execution_count": 13,
   "metadata": {
    "scrolled": true
   },
   "outputs": [],
   "source": [
    "train_Y = convert_to_one_hot(train_labels)\n",
    "test_Y = convert_to_one_hot(test_labels)"
   ]
  },
  {
   "cell_type": "code",
   "execution_count": 14,
   "metadata": {},
   "outputs": [],
   "source": [
    "# Split dataset\n",
    "from sklearn.model_selection import train_test_split"
   ]
  },
  {
   "cell_type": "code",
   "execution_count": 15,
   "metadata": {},
   "outputs": [],
   "source": [
    "train_X, valid_X, train_Y, valid_Y = train_test_split(train_X, train_Y, test_size=0.2, random_state=13)"
   ]
  },
  {
   "cell_type": "code",
   "execution_count": 16,
   "metadata": {},
   "outputs": [
    {
     "data": {
      "text/plain": [
       "((48000, 28, 28, 1), (12000, 28, 28, 1), (48000, 10), (12000, 10))"
      ]
     },
     "execution_count": 16,
     "metadata": {},
     "output_type": "execute_result"
    }
   ],
   "source": [
    "train_X.shape, valid_X.shape, train_Y.shape, valid_Y.shape"
   ]
  },
  {
   "cell_type": "markdown",
   "metadata": {},
   "source": [
    "## Train Model"
   ]
  },
  {
   "cell_type": "code",
   "execution_count": 46,
   "metadata": {},
   "outputs": [],
   "source": [
    "from tensorflow.keras import (\n",
    "    layers,\n",
    "    models,\n",
    "    activations,\n",
    "    losses,\n",
    "    optimizers,\n",
    ")"
   ]
  },
  {
   "cell_type": "code",
   "execution_count": 47,
   "metadata": {},
   "outputs": [],
   "source": [
    "model = keras.Sequential([\n",
    "    layers.Conv2D(32, kernel_size=(3, 3),activation='linear',input_shape=(28,28,1),padding='same'),\n",
    "    layers.LeakyReLU(alpha=0.1),\n",
    "    layers.MaxPooling2D((2, 2),padding='same'),\n",
    "    layers.Conv2D(64, (3, 3), activation='linear',padding='same'),\n",
    "    layers.LeakyReLU(alpha=0.1),\n",
    "    layers.MaxPooling2D(pool_size=(2, 2),padding='same'),\n",
    "    layers.Conv2D(128, (3, 3), activation='linear',padding='same'),\n",
    "    layers.LeakyReLU(alpha=0.1),\n",
    "    layers.MaxPooling2D(pool_size=(2, 2),padding='same'),\n",
    "    layers.Flatten(),\n",
    "    layers.Dense(128, activation='linear'),\n",
    "    layers.LeakyReLU(alpha=0.1),        \n",
    "    layers.Dense(num_classes, activation='softmax'),\n",
    "])"
   ]
  },
  {
   "cell_type": "code",
   "execution_count": 48,
   "metadata": {},
   "outputs": [],
   "source": [
    "model.compile(loss=losses.categorical_crossentropy, optimizer=optimizers.Adam(), metrics=['accuracy'])"
   ]
  },
  {
   "cell_type": "code",
   "execution_count": 49,
   "metadata": {},
   "outputs": [
    {
     "name": "stdout",
     "output_type": "stream",
     "text": [
      "Model: \"sequential_2\"\n",
      "_________________________________________________________________\n",
      "Layer (type)                 Output Shape              Param #   \n",
      "=================================================================\n",
      "conv2d_8 (Conv2D)            (None, 28, 28, 32)        320       \n",
      "_________________________________________________________________\n",
      "leaky_re_lu_4 (LeakyReLU)    (None, 28, 28, 32)        0         \n",
      "_________________________________________________________________\n",
      "max_pooling2d_3 (MaxPooling2 (None, 14, 14, 32)        0         \n",
      "_________________________________________________________________\n",
      "conv2d_9 (Conv2D)            (None, 14, 14, 64)        18496     \n",
      "_________________________________________________________________\n",
      "leaky_re_lu_5 (LeakyReLU)    (None, 14, 14, 64)        0         \n",
      "_________________________________________________________________\n",
      "max_pooling2d_4 (MaxPooling2 (None, 7, 7, 64)          0         \n",
      "_________________________________________________________________\n",
      "conv2d_10 (Conv2D)           (None, 7, 7, 128)         73856     \n",
      "_________________________________________________________________\n",
      "leaky_re_lu_6 (LeakyReLU)    (None, 7, 7, 128)         0         \n",
      "_________________________________________________________________\n",
      "max_pooling2d_5 (MaxPooling2 (None, 4, 4, 128)         0         \n",
      "_________________________________________________________________\n",
      "flatten_2 (Flatten)          (None, 2048)              0         \n",
      "_________________________________________________________________\n",
      "dense_4 (Dense)              (None, 128)               262272    \n",
      "_________________________________________________________________\n",
      "leaky_re_lu_7 (LeakyReLU)    (None, 128)               0         \n",
      "_________________________________________________________________\n",
      "dense_5 (Dense)              (None, 10)                1290      \n",
      "=================================================================\n",
      "Total params: 356,234\n",
      "Trainable params: 356,234\n",
      "Non-trainable params: 0\n",
      "_________________________________________________________________\n"
     ]
    }
   ],
   "source": [
    "model.summary()"
   ]
  },
  {
   "cell_type": "code",
   "execution_count": 51,
   "metadata": {},
   "outputs": [],
   "source": [
    "batch_size = 64\n",
    "epochs = 20"
   ]
  },
  {
   "cell_type": "code",
   "execution_count": 52,
   "metadata": {},
   "outputs": [
    {
     "name": "stdout",
     "output_type": "stream",
     "text": [
      "Train on 48000 samples, validate on 12000 samples\n",
      "Epoch 1/20\n",
      "48000/48000 [==============================] - 28s 586us/sample - loss: 0.4629 - accuracy: 0.8329 - val_loss: 0.3202 - val_accuracy: 0.8824\n",
      "Epoch 2/20\n",
      "48000/48000 [==============================] - 27s 561us/sample - loss: 0.2871 - accuracy: 0.8954 - val_loss: 0.3036 - val_accuracy: 0.8851\n",
      "Epoch 3/20\n",
      "48000/48000 [==============================] - 28s 581us/sample - loss: 0.2416 - accuracy: 0.9098 - val_loss: 0.2394 - val_accuracy: 0.9146\n",
      "Epoch 4/20\n",
      "48000/48000 [==============================] - 26s 549us/sample - loss: 0.2086 - accuracy: 0.9225 - val_loss: 0.2374 - val_accuracy: 0.9143\n",
      "Epoch 5/20\n",
      "48000/48000 [==============================] - 28s 580us/sample - loss: 0.1833 - accuracy: 0.9331 - val_loss: 0.2424 - val_accuracy: 0.9128\n",
      "Epoch 6/20\n",
      "48000/48000 [==============================] - 27s 555us/sample - loss: 0.1609 - accuracy: 0.9396 - val_loss: 0.2255 - val_accuracy: 0.9178\n",
      "Epoch 7/20\n",
      "48000/48000 [==============================] - 27s 565us/sample - loss: 0.1394 - accuracy: 0.9473 - val_loss: 0.2261 - val_accuracy: 0.9222\n",
      "Epoch 8/20\n",
      "48000/48000 [==============================] - 28s 574us/sample - loss: 0.1180 - accuracy: 0.9560 - val_loss: 0.2725 - val_accuracy: 0.9107\n",
      "Epoch 9/20\n",
      "48000/48000 [==============================] - 28s 594us/sample - loss: 0.1019 - accuracy: 0.9615 - val_loss: 0.2560 - val_accuracy: 0.9218\n",
      "Epoch 10/20\n",
      "48000/48000 [==============================] - 28s 578us/sample - loss: 0.0888 - accuracy: 0.9668 - val_loss: 0.2713 - val_accuracy: 0.9209\n",
      "Epoch 11/20\n",
      "48000/48000 [==============================] - 27s 569us/sample - loss: 0.0734 - accuracy: 0.9721 - val_loss: 0.2820 - val_accuracy: 0.9187\n",
      "Epoch 12/20\n",
      "48000/48000 [==============================] - 27s 573us/sample - loss: 0.0659 - accuracy: 0.9761 - val_loss: 0.3192 - val_accuracy: 0.9183\n",
      "Epoch 13/20\n",
      "48000/48000 [==============================] - 28s 586us/sample - loss: 0.0568 - accuracy: 0.9788 - val_loss: 0.3231 - val_accuracy: 0.9114\n",
      "Epoch 14/20\n",
      "48000/48000 [==============================] - 25s 531us/sample - loss: 0.0481 - accuracy: 0.9816 - val_loss: 0.3333 - val_accuracy: 0.9172\n",
      "Epoch 15/20\n",
      "48000/48000 [==============================] - 24s 508us/sample - loss: 0.0424 - accuracy: 0.9844 - val_loss: 0.3571 - val_accuracy: 0.9212\n",
      "Epoch 16/20\n",
      "48000/48000 [==============================] - 23s 484us/sample - loss: 0.0402 - accuracy: 0.9850 - val_loss: 0.3879 - val_accuracy: 0.9202\n",
      "Epoch 17/20\n",
      "48000/48000 [==============================] - 25s 528us/sample - loss: 0.0336 - accuracy: 0.9875 - val_loss: 0.4102 - val_accuracy: 0.9221\n",
      "Epoch 18/20\n",
      "48000/48000 [==============================] - 26s 534us/sample - loss: 0.0360 - accuracy: 0.9867 - val_loss: 0.4172 - val_accuracy: 0.9187\n",
      "Epoch 19/20\n",
      "48000/48000 [==============================] - 25s 525us/sample - loss: 0.0290 - accuracy: 0.9893 - val_loss: 0.4306 - val_accuracy: 0.9187\n",
      "Epoch 20/20\n",
      "48000/48000 [==============================] - 25s 520us/sample - loss: 0.0320 - accuracy: 0.9885 - val_loss: 0.4463 - val_accuracy: 0.9212\n"
     ]
    }
   ],
   "source": [
    "model_train = model.fit(train_X, train_Y, batch_size=batch_size, epochs=epochs, verbose=1, validation_data=(valid_X, valid_Y))"
   ]
  },
  {
   "cell_type": "markdown",
   "metadata": {},
   "source": [
    "## Model Evaluation\n",
    "\n",
    "Here the model's performance is evaluated further by using the test datasets."
   ]
  },
  {
   "cell_type": "code",
   "execution_count": 67,
   "metadata": {},
   "outputs": [],
   "source": [
    "def evaluate_model(model, test_X, test_Y):\n",
    "    test_eval = model.evaluate(test_X, test_Y, verbose=0)\n",
    "    print(\"Accuracy: {0} | Loss: {1}\".format(test_eval[1], test_eval[0]))\n",
    "    return test_eval\n",
    "\n",
    "\n",
    "def plot_evaluation(model_train):\n",
    "    accuracy = model_train.history['accuracy']\n",
    "    val_accuracy = model_train.history['val_accuracy']\n",
    "    loss = model_train.history['loss']\n",
    "    val_loss = model_train.history['val_loss']\n",
    "    epochs = range(len(accuracy))\n",
    "    plt.plot(epochs, accuracy, 'bo', label='Training accuracy')\n",
    "    plt.plot(epochs, val_accuracy, 'b', label='Validation accuracy')\n",
    "    plt.title('Training and validation accuracy')\n",
    "    plt.legend()\n",
    "    plt.figure()\n",
    "    plt.plot(epochs, loss, 'bo', label='Training loss')\n",
    "    plt.plot(epochs, val_loss, 'b', label='Validation loss')\n",
    "    plt.title('Training and validation loss')\n",
    "    plt.legend()\n",
    "    plt.show()\n",
    "    "
   ]
  },
  {
   "cell_type": "code",
   "execution_count": 69,
   "metadata": {},
   "outputs": [
    {
     "name": "stdout",
     "output_type": "stream",
     "text": [
      "Accuracy: 0.9157999753952026 | Loss: 0.4816405092969537\n"
     ]
    },
    {
     "data": {
      "image/png": "[encoded data removed]",
      "text/plain": [
       "<Figure size 432x288 with 1 Axes>"
      ]
     },
     "metadata": {
      "needs_background": "light"
     },
     "output_type": "display_data"
    },
    {
     "data": {
      "image/png": "[encoded data removed]",
      "text/plain": [
       "<Figure size 432x288 with 1 Axes>"
      ]
     },
     "metadata": {
      "needs_background": "light"
     },
     "output_type": "display_data"
    }
   ],
   "source": [
    "evaluate_model(model, test_X, test_Y)\n",
    "\n",
    "plot_evaluation(model_train)"
   ]
  },
  {
   "cell_type": "markdown",
   "metadata": {},
   "source": [
    "## Adding Dropout Layer"
   ]
  },
  {
   "cell_type": "code",
   "execution_count": 70,
   "metadata": {},
   "outputs": [],
   "source": [
    "model = keras.Sequential([\n",
    "    layers.Conv2D(32, kernel_size=(3, 3),activation='linear',input_shape=(28,28,1),padding='same'),\n",
    "    layers.LeakyReLU(alpha=0.1),\n",
    "    layers.MaxPooling2D((2, 2),padding='same'),\n",
    "    layers.Dropout(0.25),\n",
    "    layers.Conv2D(64, (3, 3), activation='linear',padding='same'),\n",
    "    layers.LeakyReLU(alpha=0.1),\n",
    "    layers.MaxPooling2D(pool_size=(2, 2),padding='same'),\n",
    "    layers.Dropout(0.25),\n",
    "    layers.Conv2D(128, (3, 3), activation='linear',padding='same'),\n",
    "    layers.LeakyReLU(alpha=0.1),\n",
    "    layers.MaxPooling2D(pool_size=(2, 2),padding='same'),\n",
    "    layers.Dropout(0.4),\n",
    "    layers.Flatten(),\n",
    "    layers.Dense(128, activation='linear'),\n",
    "    layers.LeakyReLU(alpha=0.1),\n",
    "    layers.Dropout(0.3),\n",
    "    layers.Dense(num_classes, activation='softmax'),\n",
    "])"
   ]
  },
  {
   "cell_type": "code",
   "execution_count": 71,
   "metadata": {},
   "outputs": [
    {
     "name": "stdout",
     "output_type": "stream",
     "text": [
      "Model: \"sequential_3\"\n",
      "_________________________________________________________________\n",
      "Layer (type)                 Output Shape              Param #   \n",
      "=================================================================\n",
      "conv2d_11 (Conv2D)           (None, 28, 28, 32)        320       \n",
      "_________________________________________________________________\n",
      "leaky_re_lu_8 (LeakyReLU)    (None, 28, 28, 32)        0         \n",
      "_________________________________________________________________\n",
      "max_pooling2d_6 (MaxPooling2 (None, 14, 14, 32)        0         \n",
      "_________________________________________________________________\n",
      "dropout (Dropout)            (None, 14, 14, 32)        0         \n",
      "_________________________________________________________________\n",
      "conv2d_12 (Conv2D)           (None, 14, 14, 64)        18496     \n",
      "_________________________________________________________________\n",
      "leaky_re_lu_9 (LeakyReLU)    (None, 14, 14, 64)        0         \n",
      "_________________________________________________________________\n",
      "max_pooling2d_7 (MaxPooling2 (None, 7, 7, 64)          0         \n",
      "_________________________________________________________________\n",
      "dropout_1 (Dropout)          (None, 7, 7, 64)          0         \n",
      "_________________________________________________________________\n",
      "conv2d_13 (Conv2D)           (None, 7, 7, 128)         73856     \n",
      "_________________________________________________________________\n",
      "leaky_re_lu_10 (LeakyReLU)   (None, 7, 7, 128)         0         \n",
      "_________________________________________________________________\n",
      "max_pooling2d_8 (MaxPooling2 (None, 4, 4, 128)         0         \n",
      "_________________________________________________________________\n",
      "dropout_2 (Dropout)          (None, 4, 4, 128)         0         \n",
      "_________________________________________________________________\n",
      "flatten_3 (Flatten)          (None, 2048)              0         \n",
      "_________________________________________________________________\n",
      "dense_6 (Dense)              (None, 128)               262272    \n",
      "_________________________________________________________________\n",
      "leaky_re_lu_11 (LeakyReLU)   (None, 128)               0         \n",
      "_________________________________________________________________\n",
      "dropout_3 (Dropout)          (None, 128)               0         \n",
      "_________________________________________________________________\n",
      "dense_7 (Dense)              (None, 10)                1290      \n",
      "=================================================================\n",
      "Total params: 356,234\n",
      "Trainable params: 356,234\n",
      "Non-trainable params: 0\n",
      "_________________________________________________________________\n"
     ]
    }
   ],
   "source": [
    "model.summary()"
   ]
  },
  {
   "cell_type": "code",
   "execution_count": 72,
   "metadata": {},
   "outputs": [],
   "source": [
    "model.compile(loss=losses.categorical_crossentropy, optimizer=optimizers.Adam(), metrics=['accuracy'])"
   ]
  },
  {
   "cell_type": "code",
   "execution_count": 73,
   "metadata": {},
   "outputs": [
    {
     "name": "stdout",
     "output_type": "stream",
     "text": [
      "Train on 48000 samples, validate on 12000 samples\n",
      "Epoch 1/20\n",
      "48000/48000 [==============================] - 35s 731us/sample - loss: 0.5973 - accuracy: 0.7773 - val_loss: 0.3740 - val_accuracy: 0.8637\n",
      "Epoch 2/20\n",
      "48000/48000 [==============================] - 36s 757us/sample - loss: 0.3768 - accuracy: 0.8606 - val_loss: 0.3083 - val_accuracy: 0.8877\n",
      "Epoch 3/20\n",
      "48000/48000 [==============================] - 34s 701us/sample - loss: 0.3279 - accuracy: 0.8790 - val_loss: 0.2932 - val_accuracy: 0.8925\n",
      "Epoch 4/20\n",
      "48000/48000 [==============================] - 35s 724us/sample - loss: 0.3012 - accuracy: 0.8880 - val_loss: 0.2674 - val_accuracy: 0.9049\n",
      "Epoch 5/20\n",
      "48000/48000 [==============================] - 33s 677us/sample - loss: 0.2835 - accuracy: 0.8958 - val_loss: 0.2541 - val_accuracy: 0.9072\n",
      "Epoch 6/20\n",
      "48000/48000 [==============================] - 41s 857us/sample - loss: 0.2705 - accuracy: 0.8996 - val_loss: 0.2419 - val_accuracy: 0.9112\n",
      "Epoch 7/20\n",
      "48000/48000 [==============================] - 36s 747us/sample - loss: 0.2563 - accuracy: 0.9040 - val_loss: 0.2368 - val_accuracy: 0.9162\n",
      "Epoch 8/20\n",
      "48000/48000 [==============================] - 34s 712us/sample - loss: 0.2507 - accuracy: 0.9054 - val_loss: 0.2327 - val_accuracy: 0.9150\n",
      "Epoch 9/20\n",
      "48000/48000 [==============================] - 35s 733us/sample - loss: 0.2406 - accuracy: 0.9106 - val_loss: 0.2247 - val_accuracy: 0.9149\n",
      "Epoch 10/20\n",
      "48000/48000 [==============================] - 39s 819us/sample - loss: 0.2333 - accuracy: 0.9125 - val_loss: 0.2397 - val_accuracy: 0.9110\n",
      "Epoch 11/20\n",
      "48000/48000 [==============================] - 35s 732us/sample - loss: 0.2304 - accuracy: 0.9134 - val_loss: 0.2193 - val_accuracy: 0.9223\n",
      "Epoch 12/20\n",
      "48000/48000 [==============================] - 36s 740us/sample - loss: 0.2247 - accuracy: 0.9152 - val_loss: 0.2198 - val_accuracy: 0.9193\n",
      "Epoch 13/20\n",
      "48000/48000 [==============================] - 39s 816us/sample - loss: 0.2185 - accuracy: 0.9174 - val_loss: 0.2179 - val_accuracy: 0.9222\n",
      "Epoch 14/20\n",
      "48000/48000 [==============================] - 35s 731us/sample - loss: 0.2154 - accuracy: 0.9199 - val_loss: 0.2131 - val_accuracy: 0.9232\n",
      "Epoch 15/20\n",
      "48000/48000 [==============================] - 36s 755us/sample - loss: 0.2156 - accuracy: 0.9191 - val_loss: 0.2229 - val_accuracy: 0.9219\n",
      "Epoch 16/20\n",
      "48000/48000 [==============================] - 37s 777us/sample - loss: 0.2115 - accuracy: 0.9201 - val_loss: 0.2205 - val_accuracy: 0.9217\n",
      "Epoch 17/20\n",
      "48000/48000 [==============================] - 40s 841us/sample - loss: 0.2060 - accuracy: 0.9222 - val_loss: 0.2125 - val_accuracy: 0.9251\n",
      "Epoch 18/20\n",
      "48000/48000 [==============================] - 35s 736us/sample - loss: 0.2045 - accuracy: 0.9231 - val_loss: 0.2300 - val_accuracy: 0.9208\n",
      "Epoch 19/20\n",
      "48000/48000 [==============================] - 35s 735us/sample - loss: 0.2033 - accuracy: 0.9229 - val_loss: 0.2041 - val_accuracy: 0.9276\n",
      "Epoch 20/20\n",
      "48000/48000 [==============================] - 41s 849us/sample - loss: 0.2004 - accuracy: 0.9240 - val_loss: 0.2247 - val_accuracy: 0.9222\n"
     ]
    }
   ],
   "source": [
    "model_train_dropout = model.fit(train_X, train_Y, batch_size=batch_size, epochs=epochs, verbose=1, validation_data=(valid_X, valid_Y))"
   ]
  },
  {
   "cell_type": "code",
   "execution_count": 75,
   "metadata": {},
   "outputs": [
    {
     "name": "stdout",
     "output_type": "stream",
     "text": [
      "Accuracy: 0.9154999852180481 | Loss: 0.23774151344895364\n"
     ]
    },
    {
     "data": {
      "image/png": "[encoded data removed]",
      "text/plain": [
       "<Figure size 432x288 with 1 Axes>"
      ]
     },
     "metadata": {
      "needs_background": "light"
     },
     "output_type": "display_data"
    },
    {
     "data": {
      "image/png": "[encoded data removed]",
      "text/plain": [
       "<Figure size 432x288 with 1 Axes>"
      ]
     },
     "metadata": {
      "needs_background": "light"
     },
     "output_type": "display_data"
    }
   ],
   "source": [
    "evaluate_model(model, test_X, test_Y)\n",
    "\n",
    "plot_evaluation(model_train_dropout)"
   ]
  },
  {
   "cell_type": "code",
   "execution_count": 77,
   "metadata": {},
   "outputs": [],
   "source": [
    "# https://www.tensorflow.org/guide/keras/save_and_serialize\n",
    "model_filename = \"../../models/fashion_model.h5\"\n",
    "model.save(model_filename)"
   ]
  },
  {
   "cell_type": "code",
   "execution_count": 85,
   "metadata": {},
   "outputs": [],
   "source": [
    "# Serialized Keras Model Saving\n",
    "import json\n",
    "model_json = json.loads(model.to_json())"
   ]
  },
  {
   "cell_type": "code",
   "execution_count": 80,
   "metadata": {},
   "outputs": [],
   "source": [
    "config = model.get_config()\n",
    "weights = model.get_weights()"
   ]
  },
  {
   "cell_type": "code",
   "execution_count": 81,
   "metadata": {
    "scrolled": true
   },
   "outputs": [
    {
     "data": {
      "text/plain": [
       "{'name': 'sequential_3',\n",
       " 'layers': [{'class_name': 'Conv2D',\n",
       "   'config': {'name': 'conv2d_11',\n",
       "    'trainable': True,\n",
       "    'batch_input_shape': (None, 28, 28, 1),\n",
       "    'dtype': 'float32',\n",
       "    'filters': 32,\n",
       "    'kernel_size': (3, 3),\n",
       "    'strides': (1, 1),\n",
       "    'padding': 'same',\n",
       "    'data_format': 'channels_last',\n",
       "    'dilation_rate': (1, 1),\n",
       "    'activation': 'linear',\n",
       "    'use_bias': True,\n",
       "    'kernel_initializer': {'class_name': 'GlorotUniform',\n",
       "     'config': {'seed': None}},\n",
       "    'bias_initializer': {'class_name': 'Zeros', 'config': {}},\n",
       "    'kernel_regularizer': None,\n",
       "    'bias_regularizer': None,\n",
       "    'activity_regularizer': None,\n",
       "    'kernel_constraint': None,\n",
       "    'bias_constraint': None}},\n",
       "  {'class_name': 'LeakyReLU',\n",
       "   'config': {'name': 'leaky_re_lu_8',\n",
       "    'trainable': True,\n",
       "    'dtype': 'float32',\n",
       "    'alpha': 0.10000000149011612}},\n",
       "  {'class_name': 'MaxPooling2D',\n",
       "   'config': {'name': 'max_pooling2d_6',\n",
       "    'trainable': True,\n",
       "    'dtype': 'float32',\n",
       "    'pool_size': (2, 2),\n",
       "    'padding': 'same',\n",
       "    'strides': (2, 2),\n",
       "    'data_format': 'channels_last'}},\n",
       "  {'class_name': 'Dropout',\n",
       "   'config': {'name': 'dropout',\n",
       "    'trainable': True,\n",
       "    'dtype': 'float32',\n",
       "    'rate': 0.25,\n",
       "    'noise_shape': None,\n",
       "    'seed': None}},\n",
       "  {'class_name': 'Conv2D',\n",
       "   'config': {'name': 'conv2d_12',\n",
       "    'trainable': True,\n",
       "    'dtype': 'float32',\n",
       "    'filters': 64,\n",
       "    'kernel_size': (3, 3),\n",
       "    'strides': (1, 1),\n",
       "    'padding': 'same',\n",
       "    'data_format': 'channels_last',\n",
       "    'dilation_rate': (1, 1),\n",
       "    'activation': 'linear',\n",
       "    'use_bias': True,\n",
       "    'kernel_initializer': {'class_name': 'GlorotUniform',\n",
       "     'config': {'seed': None}},\n",
       "    'bias_initializer': {'class_name': 'Zeros', 'config': {}},\n",
       "    'kernel_regularizer': None,\n",
       "    'bias_regularizer': None,\n",
       "    'activity_regularizer': None,\n",
       "    'kernel_constraint': None,\n",
       "    'bias_constraint': None}},\n",
       "  {'class_name': 'LeakyReLU',\n",
       "   'config': {'name': 'leaky_re_lu_9',\n",
       "    'trainable': True,\n",
       "    'dtype': 'float32',\n",
       "    'alpha': 0.10000000149011612}},\n",
       "  {'class_name': 'MaxPooling2D',\n",
       "   'config': {'name': 'max_pooling2d_7',\n",
       "    'trainable': True,\n",
       "    'dtype': 'float32',\n",
       "    'pool_size': (2, 2),\n",
       "    'padding': 'same',\n",
       "    'strides': (2, 2),\n",
       "    'data_format': 'channels_last'}},\n",
       "  {'class_name': 'Dropout',\n",
       "   'config': {'name': 'dropout_1',\n",
       "    'trainable': True,\n",
       "    'dtype': 'float32',\n",
       "    'rate': 0.25,\n",
       "    'noise_shape': None,\n",
       "    'seed': None}},\n",
       "  {'class_name': 'Conv2D',\n",
       "   'config': {'name': 'conv2d_13',\n",
       "    'trainable': True,\n",
       "    'dtype': 'float32',\n",
       "    'filters': 128,\n",
       "    'kernel_size': (3, 3),\n",
       "    'strides': (1, 1),\n",
       "    'padding': 'same',\n",
       "    'data_format': 'channels_last',\n",
       "    'dilation_rate': (1, 1),\n",
       "    'activation': 'linear',\n",
       "    'use_bias': True,\n",
       "    'kernel_initializer': {'class_name': 'GlorotUniform',\n",
       "     'config': {'seed': None}},\n",
       "    'bias_initializer': {'class_name': 'Zeros', 'config': {}},\n",
       "    'kernel_regularizer': None,\n",
       "    'bias_regularizer': None,\n",
       "    'activity_regularizer': None,\n",
       "    'kernel_constraint': None,\n",
       "    'bias_constraint': None}},\n",
       "  {'class_name': 'LeakyReLU',\n",
       "   'config': {'name': 'leaky_re_lu_10',\n",
       "    'trainable': True,\n",
       "    'dtype': 'float32',\n",
       "    'alpha': 0.10000000149011612}},\n",
       "  {'class_name': 'MaxPooling2D',\n",
       "   'config': {'name': 'max_pooling2d_8',\n",
       "    'trainable': True,\n",
       "    'dtype': 'float32',\n",
       "    'pool_size': (2, 2),\n",
       "    'padding': 'same',\n",
       "    'strides': (2, 2),\n",
       "    'data_format': 'channels_last'}},\n",
       "  {'class_name': 'Dropout',\n",
       "   'config': {'name': 'dropout_2',\n",
       "    'trainable': True,\n",
       "    'dtype': 'float32',\n",
       "    'rate': 0.4,\n",
       "    'noise_shape': None,\n",
       "    'seed': None}},\n",
       "  {'class_name': 'Flatten',\n",
       "   'config': {'name': 'flatten_3',\n",
       "    'trainable': True,\n",
       "    'dtype': 'float32',\n",
       "    'data_format': 'channels_last'}},\n",
       "  {'class_name': 'Dense',\n",
       "   'config': {'name': 'dense_6',\n",
       "    'trainable': True,\n",
       "    'dtype': 'float32',\n",
       "    'units': 128,\n",
       "    'activation': 'linear',\n",
       "    'use_bias': True,\n",
       "    'kernel_initializer': {'class_name': 'GlorotUniform',\n",
       "     'config': {'seed': None}},\n",
       "    'bias_initializer': {'class_name': 'Zeros', 'config': {}},\n",
       "    'kernel_regularizer': None,\n",
       "    'bias_regularizer': None,\n",
       "    'activity_regularizer': None,\n",
       "    'kernel_constraint': None,\n",
       "    'bias_constraint': None}},\n",
       "  {'class_name': 'LeakyReLU',\n",
       "   'config': {'name': 'leaky_re_lu_11',\n",
       "    'trainable': True,\n",
       "    'dtype': 'float32',\n",
       "    'alpha': 0.10000000149011612}},\n",
       "  {'class_name': 'Dropout',\n",
       "   'config': {'name': 'dropout_3',\n",
       "    'trainable': True,\n",
       "    'dtype': 'float32',\n",
       "    'rate': 0.3,\n",
       "    'noise_shape': None,\n",
       "    'seed': None}},\n",
       "  {'class_name': 'Dense',\n",
       "   'config': {'name': 'dense_7',\n",
       "    'trainable': True,\n",
       "    'dtype': 'float32',\n",
       "    'units': 10,\n",
       "    'activation': 'softmax',\n",
       "    'use_bias': True,\n",
       "    'kernel_initializer': {'class_name': 'GlorotUniform',\n",
       "     'config': {'seed': None}},\n",
       "    'bias_initializer': {'class_name': 'Zeros', 'config': {}},\n",
       "    'kernel_regularizer': None,\n",
       "    'bias_regularizer': None,\n",
       "    'activity_regularizer': None,\n",
       "    'kernel_constraint': None,\n",
       "    'bias_constraint': None}}]}"
      ]
     },
     "execution_count": 81,
     "metadata": {},
     "output_type": "execute_result"
    }
   ],
   "source": [
    "config"
   ]
  },
  {
   "cell_type": "code",
   "execution_count": 83,
   "metadata": {
    "scrolled": true
   },
   "outputs": [
    {
     "data": {
      "text/plain": [
       "[array([[[[-4.61121975e-03,  2.80256152e-01, -1.17242903e-01,\n",
       "           -1.28036886e-01, -1.64113209e-01, -5.54111749e-02,\n",
       "            3.99334654e-02, -5.81454746e-02,  1.66337505e-01,\n",
       "           -1.47501037e-01, -6.39857948e-02, -7.51880510e-03,\n",
       "           -2.36690357e-01,  1.68883339e-01,  1.01628117e-01,\n",
       "           -6.89671421e-03,  3.84482443e-02,  1.56084552e-01,\n",
       "            5.10902181e-02,  1.53722361e-01, -1.04694359e-01,\n",
       "           -3.21758538e-02,  1.54036865e-01,  4.50416617e-02,\n",
       "           -3.03038768e-02,  4.26449999e-02,  4.98657636e-02,\n",
       "            9.86628234e-02,  1.96860991e-02, -1.28218874e-01,\n",
       "            2.20714193e-02, -9.81203243e-02]],\n",
       " \n",
       "         [[ 2.42492016e-02,  7.98367336e-02, -1.97458714e-01,\n",
       "           -5.96507974e-02, -1.99962631e-01,  2.66803443e-01,\n",
       "           -2.98854592e-03,  8.93784016e-02, -7.38619640e-02,\n",
       "           -1.98092774e-01, -1.22346058e-01,  6.58888072e-02,\n",
       "            1.18238404e-01, -1.72013476e-01, -1.49677498e-02,\n",
       "            1.71855047e-01, -1.06151924e-01, -1.02108337e-01,\n",
       "            1.19116478e-01, -1.15484484e-02,  1.63353845e-01,\n",
       "            5.65417893e-02, -1.99887559e-01,  1.61893263e-01,\n",
       "           -3.34462702e-01,  7.93992952e-02,  1.22208893e-02,\n",
       "           -1.29650295e-01, -9.54063889e-03, -2.57585347e-01,\n",
       "           -2.08045512e-01,  1.95639908e-01]],\n",
       " \n",
       "         [[-5.23670763e-02, -7.79267177e-02, -2.32107133e-01,\n",
       "            1.85287803e-01, -1.79526478e-01, -1.89694360e-01,\n",
       "           -1.94356050e-02,  5.25796004e-02,  1.54129982e-01,\n",
       "            5.18803000e-02,  1.90951556e-01, -1.21448608e-02,\n",
       "            1.17109038e-01, -2.34137680e-02, -7.58608654e-02,\n",
       "           -3.30442727e-01,  8.52468014e-02, -1.22224845e-01,\n",
       "           -5.69311678e-02, -1.57496989e-01, -5.48420437e-02,\n",
       "            1.42723233e-01,  1.27619319e-02,  9.38627273e-02,\n",
       "           -8.32912177e-02, -1.04108244e-01, -2.19276652e-01,\n",
       "            8.57018381e-02,  3.26796621e-02, -1.81873992e-01,\n",
       "           -1.24099486e-01,  1.80412587e-02]]],\n",
       " \n",
       " \n",
       "        [[[ 5.70900775e-02, -2.17817426e-01,  1.54448226e-01,\n",
       "           -2.85732895e-01,  1.93323284e-01, -7.95992538e-02,\n",
       "            1.61255091e-01, -4.23671305e-01, -3.27293128e-01,\n",
       "           -1.14783145e-01,  2.36012526e-02,  2.82198578e-01,\n",
       "           -2.74663955e-01, -3.22792050e-03,  2.40785718e-01,\n",
       "            5.92362434e-02,  1.03107668e-01, -1.75014704e-01,\n",
       "           -1.11954048e-01,  4.54490893e-02, -2.62846172e-01,\n",
       "            1.47156581e-01,  2.53256857e-02,  2.82599069e-02,\n",
       "           -1.35585994e-01, -8.58024806e-02, -6.01988658e-03,\n",
       "            3.55749875e-02,  2.26309761e-01,  2.25905418e-01,\n",
       "           -1.14207812e-01,  8.61735269e-02]],\n",
       " \n",
       "         [[ 2.09340543e-01, -3.74041758e-02,  1.16371207e-01,\n",
       "            1.87985897e-01, -2.40985304e-01,  1.66046172e-01,\n",
       "            1.23987682e-01, -1.59022972e-01, -1.47687301e-01,\n",
       "           -6.04716502e-02, -1.31448388e-01,  2.20381711e-02,\n",
       "            2.50255793e-01, -2.65365154e-01, -2.83002436e-01,\n",
       "            2.04232577e-02, -2.12529913e-01,  4.26179394e-02,\n",
       "           -3.78415048e-01,  2.04466507e-01,  1.02100439e-01,\n",
       "            9.05654877e-02, -2.95881659e-01,  6.80078240e-03,\n",
       "           -2.08956704e-01,  2.82746255e-01, -1.07312068e-01,\n",
       "           -2.30004445e-01, -3.23346615e-01,  1.58888876e-01,\n",
       "           -3.08185101e-01,  1.24520317e-01]],\n",
       " \n",
       "         [[ 8.15989226e-02, -2.19220653e-01, -7.77821988e-02,\n",
       "            9.89736840e-02, -6.99284002e-02, -5.84913194e-02,\n",
       "           -2.87752509e-01,  1.49361253e-01, -1.41170591e-01,\n",
       "            1.88490540e-01,  9.09599364e-02, -3.54997307e-01,\n",
       "            2.13722680e-02, -1.11569420e-01,  5.61069846e-02,\n",
       "            5.05514629e-02, -3.87545347e-01, -2.87732214e-01,\n",
       "           -2.03004759e-02,  8.82691443e-02,  1.52864218e-01,\n",
       "           -8.56440589e-02, -2.88059741e-01, -3.27361375e-02,\n",
       "           -6.82973042e-02, -1.90317646e-01, -2.13592738e-01,\n",
       "            2.08432287e-01,  1.05804197e-01,  1.35016888e-01,\n",
       "           -2.01944351e-01, -1.58250526e-01]]],\n",
       " \n",
       " \n",
       "        [[[-2.19492584e-01, -7.22950473e-02,  4.89402711e-02,\n",
       "           -9.71534401e-02, -6.66198954e-02,  3.30812559e-02,\n",
       "            4.97479439e-02, -1.21206969e-01, -1.08162366e-01,\n",
       "           -8.53168964e-03,  2.72553176e-01, -2.01013222e-01,\n",
       "            6.19468614e-02, -1.60013422e-01,  1.71145275e-01,\n",
       "            1.03223119e-02, -1.14044622e-01, -2.48474870e-02,\n",
       "           -8.91039297e-02, -7.56483153e-02, -1.11768924e-01,\n",
       "           -1.03771798e-01, -9.20530632e-02,  3.19491662e-02,\n",
       "            1.52275473e-01, -2.67484218e-01,  1.54783309e-01,\n",
       "           -2.40304381e-01,  1.19836450e-01, -8.27385038e-02,\n",
       "            9.45209488e-02,  1.28719434e-01]],\n",
       " \n",
       "         [[-2.49211892e-01,  1.15630820e-01,  4.42539901e-02,\n",
       "            2.27300957e-01,  8.44566971e-02,  1.94250360e-01,\n",
       "            2.26282254e-01, -1.34379134e-01, -2.36359462e-01,\n",
       "            4.34799418e-02, -2.37798080e-01, -2.27343678e-01,\n",
       "           -1.16182566e-01, -2.72407651e-01, -1.34506136e-01,\n",
       "           -2.09757462e-01,  2.94022202e-01, -2.21696533e-02,\n",
       "           -1.52542695e-01, -6.37184605e-02, -1.22784458e-01,\n",
       "           -2.45932668e-01,  9.31782275e-02, -2.15397656e-01,\n",
       "            4.30841334e-02,  1.79159597e-01, -1.54498871e-02,\n",
       "            7.12202862e-02, -1.25990435e-01,  8.03085119e-02,\n",
       "            2.76567824e-02, -2.66861558e-01]],\n",
       " \n",
       "         [[ 1.59123950e-02,  2.35991418e-01, -1.68506075e-02,\n",
       "           -1.33142501e-01,  7.36996718e-03, -2.17335880e-01,\n",
       "           -2.85680801e-01,  8.93092901e-02,  6.53896406e-02,\n",
       "            2.92702876e-02, -6.04137555e-02, -3.47129516e-02,\n",
       "            5.20364456e-02, -1.10317901e-01, -4.50607836e-02,\n",
       "           -5.17794117e-02,  2.32583983e-03, -1.72249153e-01,\n",
       "           -8.03781748e-02,  8.94671455e-02,  2.21074775e-01,\n",
       "           -7.99194574e-02, -7.73235559e-02, -1.30179644e-01,\n",
       "            4.52162437e-02,  8.77194330e-02, -1.10008828e-01,\n",
       "            1.54498130e-01,  5.82538196e-05, -7.26900026e-02,\n",
       "            3.34069356e-02,  1.53643250e-01]]]], dtype=float32),\n",
       " array([-0.01609466, -0.09404292, -0.01575049, -0.00543655,  0.03179488,\n",
       "        -0.0528167 , -0.01784847,  0.0340485 ,  0.03995516, -0.00164458,\n",
       "        -0.02430309,  0.02635385, -0.00640177,  0.04464126, -0.00855668,\n",
       "        -0.01112577,  0.01023616, -0.01063646,  0.04569331, -0.15234646,\n",
       "        -0.00428659, -0.00686523,  0.04322509, -0.02592798,  0.02521149,\n",
       "        -0.02068828,  0.01887727, -0.05490421, -0.05089062, -0.00435001,\n",
       "         0.03007268, -0.12433819], dtype=float32),\n",
       " array([[[[-2.47293897e-03,  1.45387396e-01, -3.84975106e-01, ...,\n",
       "           -6.85209408e-02, -2.58472949e-01, -2.82446325e-01],\n",
       "          [-1.61035568e-01, -1.02543704e-01, -1.92743406e-01, ...,\n",
       "            6.43195882e-02, -2.46343479e-01,  1.22174174e-01],\n",
       "          [-6.27134740e-02,  1.32681485e-02, -2.49484047e-01, ...,\n",
       "           -4.17810632e-03, -8.49723592e-02, -5.37116043e-02],\n",
       "          ...,\n",
       "          [-1.19451053e-01,  6.95742713e-03, -3.50981921e-01, ...,\n",
       "            3.04415300e-02,  1.42717436e-01,  1.42711950e-02],\n",
       "          [-1.08824566e-01,  4.87713143e-02, -1.21967472e-01, ...,\n",
       "           -5.34950271e-02,  8.50285310e-03,  3.53466600e-01],\n",
       "          [ 3.45025510e-02,  2.51052622e-03, -1.52921811e-01, ...,\n",
       "           -5.14554344e-02, -1.47428110e-01, -1.80386931e-01]],\n",
       " \n",
       "         [[ 1.63889945e-01,  3.86799395e-01, -3.26698065e-01, ...,\n",
       "           -1.81436151e-01, -2.76975334e-03, -4.31110635e-02],\n",
       "          [-4.92362259e-03,  1.72904551e-01, -1.71380728e-01, ...,\n",
       "           -9.92386267e-02, -2.93539852e-01, -8.64579063e-03],\n",
       "          [ 1.67035237e-01,  5.28077707e-02, -8.46726969e-02, ...,\n",
       "            3.04747764e-02, -1.85547188e-01,  5.18743135e-02],\n",
       "          ...,\n",
       "          [ 6.29571229e-02,  7.27726519e-02, -3.06965802e-02, ...,\n",
       "           -1.27920747e-01,  9.89889950e-02,  9.05071944e-02],\n",
       "          [ 5.12872301e-02,  1.44936189e-01,  9.15697068e-02, ...,\n",
       "            1.43189520e-01, -3.38670015e-01,  1.26288697e-01],\n",
       "          [ 4.24990468e-02,  1.37006521e-01,  5.40850312e-03, ...,\n",
       "            9.41505730e-02,  7.09606986e-03,  3.00624538e-02]],\n",
       " \n",
       "         [[ 4.21966799e-02, -3.33058052e-02,  1.12693291e-02, ...,\n",
       "            1.62657812e-01,  3.76867689e-02,  1.54435083e-01],\n",
       "          [ 2.25684464e-01, -1.37856295e-02, -8.96362215e-02, ...,\n",
       "            1.50003657e-01, -1.04423769e-01, -4.58097011e-02],\n",
       "          [ 1.51828915e-01,  8.55019689e-02,  2.96200607e-02, ...,\n",
       "           -3.44346426e-02, -4.13797759e-02,  1.43674645e-03],\n",
       "          ...,\n",
       "          [ 2.96126127e-01,  1.01123482e-01, -1.40750870e-01, ...,\n",
       "           -1.04348674e-01, -1.23484939e-01,  4.58117947e-02],\n",
       "          [ 1.85957134e-01, -5.15248664e-02, -5.59284054e-02, ...,\n",
       "            7.13355914e-02, -1.74416393e-01,  1.45483464e-01],\n",
       "          [ 5.16802780e-02, -1.05447784e-01,  9.83024910e-02, ...,\n",
       "            7.25785419e-02,  3.81232500e-01,  1.45623803e-01]]],\n",
       " \n",
       " \n",
       "        [[[-2.69769520e-01, -1.17313914e-01, -2.84988225e-01, ...,\n",
       "           -5.72191663e-02, -7.28699192e-02, -4.11363058e-02],\n",
       "          [ 9.87913460e-02, -1.97737023e-01,  8.08214918e-02, ...,\n",
       "           -1.70158163e-01, -1.75018348e-02, -2.86625564e-01],\n",
       "          [-1.48798032e-02,  1.85747385e-01, -1.12451032e-01, ...,\n",
       "           -2.22798367e-03, -8.01527724e-02,  1.25461400e-01],\n",
       "          ...,\n",
       "          [-4.12610509e-02,  1.56058088e-01, -5.05054370e-02, ...,\n",
       "            6.05420629e-03, -1.00195818e-01,  9.45351422e-02],\n",
       "          [ 4.93892245e-02,  1.38800234e-01,  1.15592264e-01, ...,\n",
       "           -8.85098726e-02, -1.23699330e-01,  1.17775323e-02],\n",
       "          [ 1.02230057e-01,  8.65596160e-02, -1.70825049e-01, ...,\n",
       "           -1.25542909e-01,  8.36007148e-02, -1.97068259e-01]],\n",
       " \n",
       "         [[-7.73217902e-02,  1.71879470e-01,  9.55724865e-02, ...,\n",
       "           -9.81622264e-02, -5.87047935e-02,  8.28982294e-02],\n",
       "          [-1.38680920e-01, -1.40634567e-01, -1.40978605e-01, ...,\n",
       "            6.97727203e-02,  7.46020302e-02, -1.22118041e-01],\n",
       "          [-3.20848525e-02, -5.18401787e-02,  8.03930983e-02, ...,\n",
       "           -5.09157069e-02, -1.41520500e-01, -1.34468168e-01],\n",
       "          ...,\n",
       "          [-3.13723944e-02,  1.43570065e-01,  8.58340859e-02, ...,\n",
       "           -2.26362124e-02, -3.63971114e-01,  1.80342495e-02],\n",
       "          [ 3.24969471e-01,  9.66757312e-02,  2.93187778e-02, ...,\n",
       "           -1.19993128e-02,  4.08213645e-01,  1.40438266e-02],\n",
       "          [-5.67011200e-02,  1.18015938e-01,  6.22137822e-02, ...,\n",
       "            2.31853612e-02,  1.57390684e-01,  2.10026633e-02]],\n",
       " \n",
       "         [[ 1.44772068e-01,  9.60411206e-02,  1.30656555e-01, ...,\n",
       "            1.32233083e-01,  8.69080275e-02, -3.90101559e-02],\n",
       "          [ 1.02869622e-01,  5.80371358e-02, -2.33587518e-01, ...,\n",
       "           -1.40998483e-01, -1.96972668e-01,  1.18193217e-01],\n",
       "          [-6.96965382e-02, -5.67583591e-02,  2.16576960e-02, ...,\n",
       "           -2.08836086e-02, -3.39916736e-01, -3.43659311e-03],\n",
       "          ...,\n",
       "          [ 1.89334542e-01,  5.98416440e-02,  1.91423893e-02, ...,\n",
       "            1.05218694e-01, -3.11621130e-01,  1.14704266e-01],\n",
       "          [-1.04403766e-02, -2.36543804e-01,  6.93238974e-02, ...,\n",
       "            5.06690238e-04,  1.68337926e-01, -4.88856509e-02],\n",
       "          [ 8.54300261e-02, -1.15163840e-01, -1.48797855e-01, ...,\n",
       "            4.46865372e-02,  9.75475982e-02, -1.76985756e-01]]],\n",
       " \n",
       " \n",
       "        [[[-1.63734660e-01, -1.13265119e-01,  3.42948623e-02, ...,\n",
       "           -4.31964070e-01, -1.17255136e-01, -7.06665143e-02],\n",
       "          [-1.18095666e-01, -1.24636769e-01, -2.14701891e-02, ...,\n",
       "           -2.47965962e-01, -2.40708709e-01, -3.67446318e-02],\n",
       "          [ 2.24188995e-02, -7.93414339e-02,  7.02797398e-02, ...,\n",
       "            1.68231446e-02, -3.46574262e-02, -4.67096344e-02],\n",
       "          ...,\n",
       "          [-5.26013672e-02, -2.02835605e-01,  4.35379781e-02, ...,\n",
       "           -2.06459612e-01,  6.37123287e-02, -4.79115665e-01],\n",
       "          [ 8.96717831e-02,  1.30583763e-01, -1.64074078e-01, ...,\n",
       "           -2.89633330e-02, -8.21610391e-02, -1.90386304e-03],\n",
       "          [-8.77549499e-02,  3.06538790e-02, -7.08464384e-02, ...,\n",
       "           -2.34880865e-01,  8.54198262e-03, -7.42504448e-02]],\n",
       " \n",
       "         [[-1.86763182e-01, -2.99798511e-02,  8.67359936e-02, ...,\n",
       "            1.14491478e-01, -1.54726237e-01, -5.87032065e-02],\n",
       "          [-5.24777807e-02, -8.04704279e-02, -5.55213867e-03, ...,\n",
       "           -1.13193758e-01, -2.07197294e-01, -2.90915053e-02],\n",
       "          [ 2.83311605e-02, -8.61130729e-02, -7.28179142e-02, ...,\n",
       "           -3.90931308e-01,  2.58610006e-02,  2.79115848e-02],\n",
       "          ...,\n",
       "          [ 1.01140544e-01,  8.52051675e-02, -8.96424875e-02, ...,\n",
       "           -5.87879300e-01, -2.18764879e-02, -4.95216921e-02],\n",
       "          [ 1.79368094e-01,  1.17168851e-01, -2.76357442e-01, ...,\n",
       "           -3.95492353e-02,  5.86505979e-02, -2.20622987e-01],\n",
       "          [-1.14199050e-01, -5.68374097e-02,  3.90609577e-02, ...,\n",
       "            1.79499015e-02, -1.49740940e-02, -2.91576870e-02]],\n",
       " \n",
       "         [[-1.64551854e-01, -1.10643685e-01,  9.88268107e-02, ...,\n",
       "           -4.17961180e-02, -1.46780178e-01, -8.91210064e-02],\n",
       "          [ 1.65002078e-01, -5.70992604e-02, -1.21108629e-01, ...,\n",
       "           -7.89675042e-02, -9.79704857e-02,  2.80974545e-02],\n",
       "          [ 2.07712293e-01, -1.30353495e-01, -4.24528904e-02, ...,\n",
       "           -2.19106257e-01,  1.85800299e-01, -1.04712762e-01],\n",
       "          ...,\n",
       "          [ 1.04294628e-01, -2.65581161e-01,  9.44779888e-02, ...,\n",
       "           -6.87090307e-02,  9.05138552e-02, -1.44094795e-01],\n",
       "          [ 3.38053346e-01, -7.54235983e-02, -1.20546331e-03, ...,\n",
       "           -1.20222559e-02,  2.01266199e-01,  6.83407113e-02],\n",
       "          [-5.00976555e-02, -1.42394006e-01, -1.54704750e-01, ...,\n",
       "           -1.77212968e-01,  8.96608829e-02, -8.96288827e-02]]]],\n",
       "       dtype=float32),\n",
       " array([-0.10392439, -0.13405319,  0.03876572, -0.05843541, -0.02312594,\n",
       "        -0.10016708, -0.09612141, -0.11993182, -0.05743666, -0.11423419,\n",
       "        -0.0146237 ,  0.05673849, -0.08464413, -0.00326989, -0.08297053,\n",
       "         0.01580097, -0.05839477, -0.05314743, -0.01358965, -0.08757617,\n",
       "        -0.00869855,  0.00537651, -0.14359426, -0.1152654 ,  0.01654742,\n",
       "        -0.03567607, -0.16904393, -0.01531294, -0.18073599, -0.10014855,\n",
       "        -0.0349383 , -0.12788267, -0.14580144, -0.11649304, -0.01884036,\n",
       "        -0.0485976 , -0.11934683, -0.1516063 ,  0.00485359, -0.05814406,\n",
       "        -0.14293812, -0.04343187,  0.05946168,  0.04341377, -0.00351804,\n",
       "        -0.09803969,  0.0311457 , -0.08780661, -0.0012939 , -0.24564587,\n",
       "        -0.00992069, -0.07523623, -0.07303555,  0.08335138, -0.04439303,\n",
       "        -0.02041153,  0.02519323, -0.1696051 , -0.09633888,  0.03265115,\n",
       "        -0.2025196 , -0.10614817, -0.1095353 , -0.06092128], dtype=float32),\n",
       " array([[[[ 0.12779036, -0.02229099, -0.1390382 , ...,  0.12719747,\n",
       "           -0.16624112, -0.2521923 ],\n",
       "          [-0.12285089, -0.0925934 ,  0.12516807, ..., -0.06467736,\n",
       "           -0.25533903, -0.24054562],\n",
       "          [ 0.14354226,  0.27865165, -0.2523409 , ...,  0.00430597,\n",
       "            0.13755095,  0.110571  ],\n",
       "          ...,\n",
       "          [ 0.09819965,  0.01100532, -0.10434426, ..., -0.18369398,\n",
       "            0.06639916, -0.1102329 ],\n",
       "          [ 0.12421096,  0.18429899,  0.10371812, ...,  0.12685451,\n",
       "           -0.1314257 ,  0.05978219],\n",
       "          [-0.10039731,  0.09644693, -0.41721654, ...,  0.00715693,\n",
       "           -0.07712711,  0.10182973]],\n",
       " \n",
       "         [[-0.150938  ,  0.03312296,  0.14579085, ..., -0.04391095,\n",
       "           -0.25773984,  0.19154906],\n",
       "          [-0.27881217,  0.0981264 , -0.06779175, ...,  0.02638484,\n",
       "           -0.0977111 ,  0.05366509],\n",
       "          [-0.06589668,  0.03471048, -0.13349822, ...,  0.11147276,\n",
       "           -0.04815165, -0.05615208],\n",
       "          ...,\n",
       "          [-0.03566778,  0.0074253 , -0.21439542, ...,  0.02921228,\n",
       "           -0.07450858, -0.1754537 ],\n",
       "          [-0.25033143,  0.10054006,  0.06103281, ..., -0.00310097,\n",
       "           -0.19313614,  0.11153567],\n",
       "          [-0.12368622,  0.0062296 , -0.17888606, ..., -0.10523175,\n",
       "           -0.04409983, -0.15560693]],\n",
       " \n",
       "         [[-0.13982156, -0.07883453, -0.00211505, ...,  0.1738512 ,\n",
       "           -0.06342351,  0.01893735],\n",
       "          [-0.14037395, -0.2624927 , -0.16071294, ..., -0.1107369 ,\n",
       "           -0.2076866 ,  0.16019732],\n",
       "          [ 0.23215586, -0.14621869,  0.18984236, ..., -0.00051931,\n",
       "            0.1515698 , -0.13191083],\n",
       "          ...,\n",
       "          [-0.01248444, -0.05725476,  0.19610229, ..., -0.25253317,\n",
       "           -0.02550899,  0.03760262],\n",
       "          [ 0.00357626, -0.10195399, -0.18749641, ...,  0.21226415,\n",
       "           -0.00994361, -0.1699225 ],\n",
       "          [ 0.06068022, -0.08251259,  0.16201414, ..., -0.15085597,\n",
       "            0.12442776, -0.13429505]]],\n",
       " \n",
       " \n",
       "        [[[ 0.01129116,  0.27588746,  0.14670648, ...,  0.05597789,\n",
       "           -0.2774002 , -0.090982  ],\n",
       "          [-0.1191724 ,  0.12659302,  0.2142169 , ..., -0.17753744,\n",
       "           -0.00983492, -0.03904876],\n",
       "          [ 0.08338397,  0.01916728, -0.07412848, ..., -0.07552849,\n",
       "            0.08364829, -0.16579127],\n",
       "          ...,\n",
       "          [-0.10408697, -0.18876645, -0.0492406 , ..., -0.1261147 ,\n",
       "            0.19100969, -0.03068533],\n",
       "          [-0.1365963 , -0.05099161, -0.00430052, ...,  0.13167639,\n",
       "           -0.06580208,  0.16076182],\n",
       "          [-0.09694622,  0.20891778, -0.18531306, ...,  0.01138495,\n",
       "           -0.11161086,  0.14660746]],\n",
       " \n",
       "         [[ 0.0546762 , -0.10242099, -0.05014051, ...,  0.05820799,\n",
       "           -0.06732761, -0.08934601],\n",
       "          [-0.009018  ,  0.11618014, -0.05560671, ...,  0.068911  ,\n",
       "            0.1308839 , -0.02800697],\n",
       "          [ 0.07943176,  0.00755387,  0.31123486, ...,  0.09605166,\n",
       "           -0.08874044, -0.11325039],\n",
       "          ...,\n",
       "          [-0.00248219, -0.04026901,  0.06768331, ..., -0.05693287,\n",
       "           -0.14277557, -0.18857452],\n",
       "          [-0.1100964 ,  0.14734833, -0.22972566, ..., -0.01128798,\n",
       "            0.14922181,  0.00508503],\n",
       "          [ 0.06549089,  0.06643705,  0.00271185, ..., -0.162203  ,\n",
       "            0.10655373, -0.05258084]],\n",
       " \n",
       "         [[-0.05402841, -0.23808593,  0.0161279 , ...,  0.1288034 ,\n",
       "            0.16044931,  0.14042595],\n",
       "          [-0.13598023, -0.46539152, -0.01712556, ..., -0.03155062,\n",
       "           -0.02940237,  0.1150458 ],\n",
       "          [ 0.05919792,  0.11720506, -0.01569106, ...,  0.10565963,\n",
       "            0.11673863,  0.02326473],\n",
       "          ...,\n",
       "          [-0.05335795, -0.0060106 ,  0.06246848, ..., -0.31774625,\n",
       "            0.15132867,  0.14672309],\n",
       "          [-0.08846287,  0.01038339,  0.09815484, ...,  0.06937517,\n",
       "           -0.22257806, -0.31111288],\n",
       "          [-0.13825852, -0.08114413, -0.0661472 , ...,  0.1068686 ,\n",
       "           -0.04304393,  0.16638659]]],\n",
       " \n",
       " \n",
       "        [[[-0.08349053,  0.04914069, -0.02413192, ..., -0.2425798 ,\n",
       "           -0.02871796, -0.16309622],\n",
       "          [ 0.04810803,  0.03392295,  0.06559268, ...,  0.05441493,\n",
       "           -0.00832794,  0.08473884],\n",
       "          [ 0.18261668,  0.04621359,  0.02148257, ...,  0.00065134,\n",
       "           -0.0058618 , -0.00121276],\n",
       "          ...,\n",
       "          [-0.11781774, -0.29890102, -0.2068792 , ..., -0.06891397,\n",
       "           -0.18382931, -0.01444756],\n",
       "          [ 0.12926656, -0.00322478, -0.06593729, ..., -0.17468384,\n",
       "            0.00365515,  0.06362116],\n",
       "          [-0.00621285, -0.10424551,  0.04353027, ...,  0.02988417,\n",
       "           -0.17443784, -0.04877578]],\n",
       " \n",
       "         [[ 0.1006649 , -0.05376913, -0.02969322, ..., -0.13590537,\n",
       "            0.03189775, -0.08817101],\n",
       "          [ 0.03116949,  0.12825857,  0.04830543, ..., -0.06534443,\n",
       "            0.03179982,  0.03649162],\n",
       "          [ 0.07252765, -0.04302894,  0.02962981, ...,  0.02529085,\n",
       "            0.00231952,  0.14186907],\n",
       "          ...,\n",
       "          [ 0.02210037, -0.08119121,  0.0238578 , ...,  0.13667308,\n",
       "            0.03294241,  0.05458247],\n",
       "          [ 0.2734382 ,  0.04036503,  0.0768034 , ...,  0.02694769,\n",
       "            0.22096547,  0.18813014],\n",
       "          [ 0.00598317,  0.10535555,  0.0069034 , ..., -0.08644659,\n",
       "            0.04796823,  0.16651455]],\n",
       " \n",
       "         [[ 0.18068352,  0.0779941 ,  0.0531349 , ..., -0.13058643,\n",
       "           -0.27056316, -0.15222172],\n",
       "          [ 0.12935746, -0.26805404, -0.02053073, ...,  0.06033833,\n",
       "           -0.18954627, -0.05259412],\n",
       "          [-0.07961683, -0.12466396, -0.1973443 , ..., -0.00068884,\n",
       "            0.05661597,  0.10214055],\n",
       "          ...,\n",
       "          [-0.12542546, -0.03155901, -0.24752079, ..., -0.17840719,\n",
       "           -0.2032532 ,  0.0913066 ],\n",
       "          [-0.12161527, -0.03121674,  0.21248145, ..., -0.17185356,\n",
       "            0.01306756, -0.07979459],\n",
       "          [ 0.02191105, -0.2852805 , -0.07074518, ...,  0.0649448 ,\n",
       "            0.0330368 ,  0.02053006]]]], dtype=float32),\n",
       " array([-0.049945  , -0.00268747, -0.1561029 , -0.15321106, -0.00364002,\n",
       "        -0.06668718, -0.07808274, -0.10644879, -0.14550188, -0.05502216,\n",
       "         0.04473257, -0.11724733,  0.03608239, -0.05215121, -0.1714273 ,\n",
       "        -0.07217728, -0.01801444, -0.03960145, -0.01710433, -0.12847553,\n",
       "        -0.12005223, -0.14785053, -0.03324406, -0.15476787, -0.00033551,\n",
       "        -0.15136461, -0.05498246, -0.09727462, -0.23345919, -0.12935908,\n",
       "        -0.13570519, -0.14255866, -0.04898535, -0.0009885 , -0.07485531,\n",
       "        -0.06734592, -0.0598821 , -0.04396614, -0.15448032,  0.03071194,\n",
       "        -0.12378532, -0.07568344, -0.11858769, -0.06588063, -0.10370264,\n",
       "         0.10511667, -0.00504825,  0.05243224, -0.02967403, -0.18082227,\n",
       "         0.03454407, -0.13501844, -0.16054355, -0.10345877,  0.02113785,\n",
       "        -0.00859609,  0.00198703, -0.07558231,  0.06939365, -0.03763182,\n",
       "        -0.11682025, -0.03638209, -0.1188399 , -0.04733012, -0.05595007,\n",
       "        -0.09657678, -0.09033184, -0.03767265, -0.08086029, -0.10919058,\n",
       "        -0.13359556, -0.00254996, -0.11864641, -0.2186711 , -0.235246  ,\n",
       "        -0.1233812 , -0.2607513 , -0.06489079, -0.1821845 , -0.0459105 ,\n",
       "        -0.01172047, -0.07727412, -0.16268705, -0.16099195, -0.15205377,\n",
       "        -0.11270057, -0.02827419, -0.13271886, -0.01881374, -0.04778216,\n",
       "        -0.05654011, -0.04896563, -0.06998087, -0.03278648, -0.00170485,\n",
       "        -0.10238023, -0.07882377, -0.09777527, -0.14418839, -0.09363593,\n",
       "        -0.09569412, -0.12395152, -0.08848946, -0.10292927, -0.17348391,\n",
       "        -0.11214225, -0.13192977, -0.09716001, -0.08796433, -0.02073804,\n",
       "        -0.03526673, -0.10498023, -0.20120785, -0.09322445, -0.03395605,\n",
       "        -0.06230097, -0.05162655, -0.18909717, -0.15047936,  0.06446365,\n",
       "         0.00825145, -0.06472248,  0.03435668, -0.05241518, -0.07439828,\n",
       "        -0.12379967, -0.04415899, -0.09300188], dtype=float32),\n",
       " array([[-0.04633741, -0.23069468, -0.01366939, ...,  0.19194652,\n",
       "          0.03050092, -0.06397044],\n",
       "        [-0.2178432 , -0.08950628,  0.08459329, ..., -0.0039365 ,\n",
       "          0.17768678, -0.00061333],\n",
       "        [-0.1440598 , -0.04454292, -0.09684525, ...,  0.05617245,\n",
       "          0.08917102, -0.13743532],\n",
       "        ...,\n",
       "        [ 0.11757709, -0.04912078,  0.21006182, ...,  0.0477534 ,\n",
       "         -0.1411388 , -0.06520038],\n",
       "        [ 0.05341128, -0.03906893, -0.06149312, ..., -0.19836597,\n",
       "          0.03592543,  0.03638531],\n",
       "        [-0.03520365,  0.14683141, -0.3378841 , ..., -0.11035053,\n",
       "          0.04219625, -0.03575514]], dtype=float32),\n",
       " array([-0.08633788, -0.01559426, -0.10720513,  0.06955167, -0.08196659,\n",
       "        -0.00896164,  0.08497556, -0.00472203,  0.09768343, -0.1310841 ,\n",
       "         0.03120833, -0.04900016,  0.00543325, -0.02961645,  0.082371  ,\n",
       "         0.03473748,  0.04622104, -0.00458682,  0.01392613, -0.08766509,\n",
       "        -0.11153907,  0.02471165,  0.02046797, -0.00342201, -0.04487808,\n",
       "        -0.16265477, -0.00792363,  0.078292  , -0.09439989,  0.04850698,\n",
       "        -0.0511417 ,  0.05132424, -0.11387257,  0.05867923, -0.09650379,\n",
       "        -0.04534436, -0.07263412, -0.01084084, -0.02889116, -0.09782971,\n",
       "        -0.05580813, -0.06284041, -0.02338375, -0.05590621,  0.02697629,\n",
       "        -0.00367107, -0.06179817, -0.10556711,  0.01646834, -0.032625  ,\n",
       "         0.05823186, -0.01756801, -0.0438301 , -0.08648079, -0.17276722,\n",
       "        -0.06613524, -0.02489058, -0.16711801, -0.0045395 ,  0.02447948,\n",
       "         0.0545765 , -0.04067619, -0.08008549,  0.06813669,  0.01241024,\n",
       "         0.10214182,  0.06872213,  0.07433284, -0.02293424,  0.01203666,\n",
       "         0.03882119, -0.01427075,  0.06977271,  0.05671655,  0.0009037 ,\n",
       "         0.07423247,  0.04016578,  0.06121192, -0.13526614, -0.0049552 ,\n",
       "        -0.00787742, -0.09859227, -0.06277747, -0.0958418 , -0.05510194,\n",
       "         0.01423232,  0.1070944 , -0.09255026, -0.06801841, -0.00949662,\n",
       "         0.00637545, -0.06350584,  0.05731368,  0.05601791, -0.0558311 ,\n",
       "         0.02528021, -0.03083251,  0.08580899, -0.04631932,  0.03885813,\n",
       "         0.03263545, -0.02372106, -0.04810798, -0.06377316, -0.11499058,\n",
       "        -0.10176036, -0.03380151,  0.01545501, -0.07834354,  0.01658777,\n",
       "         0.06901482, -0.04211789, -0.02451642, -0.02912034, -0.03837078,\n",
       "         0.08454889, -0.11761079,  0.10618731, -0.00944071,  0.04396177,\n",
       "         0.00647325, -0.05846919, -0.04770726, -0.03814807,  0.10842141,\n",
       "         0.02797051, -0.02308333, -0.05310762], dtype=float32),\n",
       " array([[-0.05634534, -0.21329859, -0.08103993, ..., -0.01811806,\n",
       "         -0.2297906 , -0.07115294],\n",
       "        [-0.05499116,  0.0534483 , -0.11400518, ..., -0.13613212,\n",
       "         -0.04515119,  0.08517813],\n",
       "        [-0.26571992, -0.06847705, -0.1225255 , ..., -0.01808324,\n",
       "         -0.2384968 , -0.05532988],\n",
       "        ...,\n",
       "        [-0.11905162, -0.3027549 ,  0.15254207, ..., -0.134261  ,\n",
       "         -0.2976932 , -0.1971726 ],\n",
       "        [-0.16684653,  0.05669855, -0.14352813, ..., -0.20935231,\n",
       "          0.0160947 , -0.27915064],\n",
       "        [-0.10072723,  0.0459974 , -0.11735807, ...,  0.15044124,\n",
       "          0.26248282,  0.05691693]], dtype=float32),\n",
       " array([ 0.0310783 , -0.3764231 ,  0.00529665,  0.05500114, -0.0279549 ,\n",
       "        -0.18569511,  0.18997948, -0.00775913, -0.01981669, -0.15155753],\n",
       "       dtype=float32)]"
      ]
     },
     "execution_count": 83,
     "metadata": {},
     "output_type": "execute_result"
    }
   ],
   "source": [
    "weights"
   ]
  },
  {
   "cell_type": "code",
   "execution_count": 86,
   "metadata": {
    "scrolled": true
   },
   "outputs": [
    {
     "data": {
      "text/plain": [
       "{'class_name': 'Sequential',\n",
       " 'config': {'name': 'sequential_3',\n",
       "  'layers': [{'class_name': 'Conv2D',\n",
       "    'config': {'name': 'conv2d_11',\n",
       "     'trainable': True,\n",
       "     'batch_input_shape': [None, 28, 28, 1],\n",
       "     'dtype': 'float32',\n",
       "     'filters': 32,\n",
       "     'kernel_size': [3, 3],\n",
       "     'strides': [1, 1],\n",
       "     'padding': 'same',\n",
       "     'data_format': 'channels_last',\n",
       "     'dilation_rate': [1, 1],\n",
       "     'activation': 'linear',\n",
       "     'use_bias': True,\n",
       "     'kernel_initializer': {'class_name': 'GlorotUniform',\n",
       "      'config': {'seed': None}},\n",
       "     'bias_initializer': {'class_name': 'Zeros', 'config': {}},\n",
       "     'kernel_regularizer': None,\n",
       "     'bias_regularizer': None,\n",
       "     'activity_regularizer': None,\n",
       "     'kernel_constraint': None,\n",
       "     'bias_constraint': None}},\n",
       "   {'class_name': 'LeakyReLU',\n",
       "    'config': {'name': 'leaky_re_lu_8',\n",
       "     'trainable': True,\n",
       "     'dtype': 'float32',\n",
       "     'alpha': 0.10000000149011612}},\n",
       "   {'class_name': 'MaxPooling2D',\n",
       "    'config': {'name': 'max_pooling2d_6',\n",
       "     'trainable': True,\n",
       "     'dtype': 'float32',\n",
       "     'pool_size': [2, 2],\n",
       "     'padding': 'same',\n",
       "     'strides': [2, 2],\n",
       "     'data_format': 'channels_last'}},\n",
       "   {'class_name': 'Dropout',\n",
       "    'config': {'name': 'dropout',\n",
       "     'trainable': True,\n",
       "     'dtype': 'float32',\n",
       "     'rate': 0.25,\n",
       "     'noise_shape': None,\n",
       "     'seed': None}},\n",
       "   {'class_name': 'Conv2D',\n",
       "    'config': {'name': 'conv2d_12',\n",
       "     'trainable': True,\n",
       "     'dtype': 'float32',\n",
       "     'filters': 64,\n",
       "     'kernel_size': [3, 3],\n",
       "     'strides': [1, 1],\n",
       "     'padding': 'same',\n",
       "     'data_format': 'channels_last',\n",
       "     'dilation_rate': [1, 1],\n",
       "     'activation': 'linear',\n",
       "     'use_bias': True,\n",
       "     'kernel_initializer': {'class_name': 'GlorotUniform',\n",
       "      'config': {'seed': None}},\n",
       "     'bias_initializer': {'class_name': 'Zeros', 'config': {}},\n",
       "     'kernel_regularizer': None,\n",
       "     'bias_regularizer': None,\n",
       "     'activity_regularizer': None,\n",
       "     'kernel_constraint': None,\n",
       "     'bias_constraint': None}},\n",
       "   {'class_name': 'LeakyReLU',\n",
       "    'config': {'name': 'leaky_re_lu_9',\n",
       "     'trainable': True,\n",
       "     'dtype': 'float32',\n",
       "     'alpha': 0.10000000149011612}},\n",
       "   {'class_name': 'MaxPooling2D',\n",
       "    'config': {'name': 'max_pooling2d_7',\n",
       "     'trainable': True,\n",
       "     'dtype': 'float32',\n",
       "     'pool_size': [2, 2],\n",
       "     'padding': 'same',\n",
       "     'strides': [2, 2],\n",
       "     'data_format': 'channels_last'}},\n",
       "   {'class_name': 'Dropout',\n",
       "    'config': {'name': 'dropout_1',\n",
       "     'trainable': True,\n",
       "     'dtype': 'float32',\n",
       "     'rate': 0.25,\n",
       "     'noise_shape': None,\n",
       "     'seed': None}},\n",
       "   {'class_name': 'Conv2D',\n",
       "    'config': {'name': 'conv2d_13',\n",
       "     'trainable': True,\n",
       "     'dtype': 'float32',\n",
       "     'filters': 128,\n",
       "     'kernel_size': [3, 3],\n",
       "     'strides': [1, 1],\n",
       "     'padding': 'same',\n",
       "     'data_format': 'channels_last',\n",
       "     'dilation_rate': [1, 1],\n",
       "     'activation': 'linear',\n",
       "     'use_bias': True,\n",
       "     'kernel_initializer': {'class_name': 'GlorotUniform',\n",
       "      'config': {'seed': None}},\n",
       "     'bias_initializer': {'class_name': 'Zeros', 'config': {}},\n",
       "     'kernel_regularizer': None,\n",
       "     'bias_regularizer': None,\n",
       "     'activity_regularizer': None,\n",
       "     'kernel_constraint': None,\n",
       "     'bias_constraint': None}},\n",
       "   {'class_name': 'LeakyReLU',\n",
       "    'config': {'name': 'leaky_re_lu_10',\n",
       "     'trainable': True,\n",
       "     'dtype': 'float32',\n",
       "     'alpha': 0.10000000149011612}},\n",
       "   {'class_name': 'MaxPooling2D',\n",
       "    'config': {'name': 'max_pooling2d_8',\n",
       "     'trainable': True,\n",
       "     'dtype': 'float32',\n",
       "     'pool_size': [2, 2],\n",
       "     'padding': 'same',\n",
       "     'strides': [2, 2],\n",
       "     'data_format': 'channels_last'}},\n",
       "   {'class_name': 'Dropout',\n",
       "    'config': {'name': 'dropout_2',\n",
       "     'trainable': True,\n",
       "     'dtype': 'float32',\n",
       "     'rate': 0.4,\n",
       "     'noise_shape': None,\n",
       "     'seed': None}},\n",
       "   {'class_name': 'Flatten',\n",
       "    'config': {'name': 'flatten_3',\n",
       "     'trainable': True,\n",
       "     'dtype': 'float32',\n",
       "     'data_format': 'channels_last'}},\n",
       "   {'class_name': 'Dense',\n",
       "    'config': {'name': 'dense_6',\n",
       "     'trainable': True,\n",
       "     'dtype': 'float32',\n",
       "     'units': 128,\n",
       "     'activation': 'linear',\n",
       "     'use_bias': True,\n",
       "     'kernel_initializer': {'class_name': 'GlorotUniform',\n",
       "      'config': {'seed': None}},\n",
       "     'bias_initializer': {'class_name': 'Zeros', 'config': {}},\n",
       "     'kernel_regularizer': None,\n",
       "     'bias_regularizer': None,\n",
       "     'activity_regularizer': None,\n",
       "     'kernel_constraint': None,\n",
       "     'bias_constraint': None}},\n",
       "   {'class_name': 'LeakyReLU',\n",
       "    'config': {'name': 'leaky_re_lu_11',\n",
       "     'trainable': True,\n",
       "     'dtype': 'float32',\n",
       "     'alpha': 0.10000000149011612}},\n",
       "   {'class_name': 'Dropout',\n",
       "    'config': {'name': 'dropout_3',\n",
       "     'trainable': True,\n",
       "     'dtype': 'float32',\n",
       "     'rate': 0.3,\n",
       "     'noise_shape': None,\n",
       "     'seed': None}},\n",
       "   {'class_name': 'Dense',\n",
       "    'config': {'name': 'dense_7',\n",
       "     'trainable': True,\n",
       "     'dtype': 'float32',\n",
       "     'units': 10,\n",
       "     'activation': 'softmax',\n",
       "     'use_bias': True,\n",
       "     'kernel_initializer': {'class_name': 'GlorotUniform',\n",
       "      'config': {'seed': None}},\n",
       "     'bias_initializer': {'class_name': 'Zeros', 'config': {}},\n",
       "     'kernel_regularizer': None,\n",
       "     'bias_regularizer': None,\n",
       "     'activity_regularizer': None,\n",
       "     'kernel_constraint': None,\n",
       "     'bias_constraint': None}}]},\n",
       " 'keras_version': '2.2.4-tf',\n",
       " 'backend': 'tensorflow'}"
      ]
     },
     "execution_count": 86,
     "metadata": {},
     "output_type": "execute_result"
    }
   ],
   "source": [
    "model_json"
   ]
  },
  {
   "cell_type": "code",
   "execution_count": 90,
   "metadata": {},
   "outputs": [],
   "source": [
    "import json\n",
    "import os\n",
    "\n",
    "def save_model(model, directory, save_weights=True):\n",
    "    \"\"\" Save model as JSON and its weights as H5 \"\"\"\n",
    "    if not os.path.isdir(directory):\n",
    "        os.makedirs(directory)\n",
    "    \n",
    "    model_filepath = os.path.join(directory, \"model.json\")\n",
    "    model_json = json.loads(model.to_json())\n",
    "    with open(model_filepath, 'w') as json_file:\n",
    "        json.dump(model_json, json_file)\n",
    "    \n",
    "    if save_weights:\n",
    "        weights = model.save_weights(os.path.join(directory, \"model-weights.h5\"))\n",
    "        \n",
    "        "
   ]
  },
  {
   "cell_type": "code",
   "execution_count": 91,
   "metadata": {},
   "outputs": [],
   "source": [
    "save_model(model, \"../../models/fashion/\")"
   ]
  },
  {
   "cell_type": "code",
   "execution_count": 93,
   "metadata": {},
   "outputs": [
    {
     "name": "stdout",
     "output_type": "stream",
     "text": [
      "model.json  model-weights.h5\n"
     ]
    }
   ],
   "source": [
    "! ls ../../models/fashion"
   ]
  },
  {
   "cell_type": "code",
   "execution_count": null,
   "metadata": {},
   "outputs": [],
   "source": []
  }
 ],
 "metadata": {
  "kernelspec": {
   "display_name": "Python 3",
   "language": "python",
   "name": "python3"
  },
  "language_info": {
   "codemirror_mode": {
    "name": "ipython",
    "version": 3
   },
   "file_extension": ".py",
   "mimetype": "text/x-python",
   "name": "python",
   "nbconvert_exporter": "python",
   "pygments_lexer": "ipython3",
   "version": "3.7.6"
  }
 },
 "nbformat": 4,
 "nbformat_minor": 4
}
