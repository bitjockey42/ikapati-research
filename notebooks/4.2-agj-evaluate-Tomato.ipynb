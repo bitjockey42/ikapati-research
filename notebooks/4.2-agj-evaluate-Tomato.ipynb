{
 "cells": [
  {
   "cell_type": "code",
   "execution_count": 25,
   "metadata": {},
   "outputs": [
    {
     "name": "stdout",
     "output_type": "stream",
     "text": [
      "The autoreload extension is already loaded. To reload it, use:\n",
      "  %reload_ext autoreload\n"
     ]
    }
   ],
   "source": [
    "%load_ext autoreload\n",
    "%autoreload 2"
   ]
  },
  {
   "cell_type": "code",
   "execution_count": 26,
   "metadata": {},
   "outputs": [],
   "source": [
    "from IPython import display\n",
    "from matplotlib import pyplot as plt\n",
    "%matplotlib inline"
   ]
  },
  {
   "cell_type": "code",
   "execution_count": 27,
   "metadata": {},
   "outputs": [],
   "source": [
    "import pathlib\n",
    "\n",
    "import numpy as np\n",
    "import pandas as pd\n",
    "import seaborn as sns\n",
    "\n",
    "from ikapati.data import io\n",
    "from ikapati.visualization import visualize"
   ]
  },
  {
   "cell_type": "code",
   "execution_count": 28,
   "metadata": {},
   "outputs": [
    {
     "name": "stdout",
     "output_type": "stream",
     "text": [
      "species: Tomato - train_dir: ../data/processed/Tomato - metadata_file_path: ../data/processed/Tomato/metadata.json\n"
     ]
    }
   ],
   "source": [
    "species = \"Tomato\"\n",
    "data_dir = pathlib.Path(\"../data/processed\")\n",
    "train_dir = data_dir.joinpath(species)\n",
    "model_dir = pathlib.Path(\"../models\")\n",
    "metadata_file_path = train_dir.joinpath(\"metadata.json\")\n",
    "base_dir = pathlib.Path.cwd()\n",
    "\n",
    "print(f\"species: {species} - train_dir: {str(train_dir)} - metadata_file_path: {str(metadata_file_path)}\")"
   ]
  },
  {
   "cell_type": "code",
   "execution_count": 29,
   "metadata": {},
   "outputs": [
    {
     "name": "stdout",
     "output_type": "stream",
     "text": [
      "model_id: d57c545d-158d-4bd2-8474-1e3cc4eddf81\n"
     ]
    }
   ],
   "source": [
    "metadata = io.read_metadata(str(metadata_file_path))\n",
    "model_id = metadata[\"id\"]\n",
    "\n",
    "print(f\"model_id: {model_id}\")"
   ]
  },
  {
   "cell_type": "code",
   "execution_count": 30,
   "metadata": {},
   "outputs": [],
   "source": [
    "training_log_path = model_dir.joinpath(model_id, \"training.log\")\n",
    "training_log = pd.read_csv(training_log_path)"
   ]
  },
  {
   "cell_type": "code",
   "execution_count": 31,
   "metadata": {},
   "outputs": [
    {
     "data": {
      "text/plain": [
       "array(['models/d57c545d-158d-4bd2-8474-1e3cc4eddf81/2020-02-03__04_0122',\n",
       "       'models/d57c545d-158d-4bd2-8474-1e3cc4eddf81/2020-02-03__04_1019',\n",
       "       'models/d57c545d-158d-4bd2-8474-1e3cc4eddf81/2020-02-03__04_2726',\n",
       "       'models/d57c545d-158d-4bd2-8474-1e3cc4eddf81/2020-02-03__04_3621',\n",
       "       'models/d57c545d-158d-4bd2-8474-1e3cc4eddf81/2020-02-03__04_4924'],\n",
       "      dtype=object)"
      ]
     },
     "execution_count": 31,
     "metadata": {},
     "output_type": "execute_result"
    }
   ],
   "source": [
    "model_dir_paths = training_log[\"model_dir_path\"].values\n",
    "model_dir_paths"
   ]
  },
  {
   "cell_type": "code",
   "execution_count": 32,
   "metadata": {},
   "outputs": [
    {
     "data": {
      "text/html": [
       "<div>\n",
       "<style scoped>\n",
       "    .dataframe tbody tr th:only-of-type {\n",
       "        vertical-align: middle;\n",
       "    }\n",
       "\n",
       "    .dataframe tbody tr th {\n",
       "        vertical-align: top;\n",
       "    }\n",
       "\n",
       "    .dataframe thead th {\n",
       "        text-align: right;\n",
       "    }\n",
       "</style>\n",
       "<table border=\"1\" class=\"dataframe\">\n",
       "  <thead>\n",
       "    <tr style=\"text-align: right;\">\n",
       "      <th></th>\n",
       "      <th>start_time</th>\n",
       "      <th>end_time</th>\n",
       "      <th>activation</th>\n",
       "      <th>model_dir_path</th>\n",
       "      <th>learning_rate</th>\n",
       "      <th>dropout</th>\n",
       "      <th>epochs</th>\n",
       "      <th>batch_size</th>\n",
       "    </tr>\n",
       "  </thead>\n",
       "  <tbody>\n",
       "    <tr>\n",
       "      <th>0</th>\n",
       "      <td>2020-02-03__04_0122</td>\n",
       "      <td>2020-02-03__04_0945</td>\n",
       "      <td>relu</td>\n",
       "      <td>models/d57c545d-158d-4bd2-8474-1e3cc4eddf81/20...</td>\n",
       "      <td>0.100</td>\n",
       "      <td>False</td>\n",
       "      <td>20</td>\n",
       "      <td>64</td>\n",
       "    </tr>\n",
       "    <tr>\n",
       "      <th>1</th>\n",
       "      <td>2020-02-03__04_1019</td>\n",
       "      <td>2020-02-03__04_1851</td>\n",
       "      <td>relu</td>\n",
       "      <td>models/d57c545d-158d-4bd2-8474-1e3cc4eddf81/20...</td>\n",
       "      <td>0.010</td>\n",
       "      <td>False</td>\n",
       "      <td>20</td>\n",
       "      <td>64</td>\n",
       "    </tr>\n",
       "    <tr>\n",
       "      <th>2</th>\n",
       "      <td>2020-02-03__04_2726</td>\n",
       "      <td>2020-02-03__04_3540</td>\n",
       "      <td>relu</td>\n",
       "      <td>models/d57c545d-158d-4bd2-8474-1e3cc4eddf81/20...</td>\n",
       "      <td>0.001</td>\n",
       "      <td>False</td>\n",
       "      <td>20</td>\n",
       "      <td>64</td>\n",
       "    </tr>\n",
       "    <tr>\n",
       "      <th>3</th>\n",
       "      <td>2020-02-03__04_3621</td>\n",
       "      <td>2020-02-03__04_4436</td>\n",
       "      <td>relu</td>\n",
       "      <td>models/d57c545d-158d-4bd2-8474-1e3cc4eddf81/20...</td>\n",
       "      <td>0.001</td>\n",
       "      <td>True</td>\n",
       "      <td>20</td>\n",
       "      <td>64</td>\n",
       "    </tr>\n",
       "    <tr>\n",
       "      <th>4</th>\n",
       "      <td>2020-02-03__04_4924</td>\n",
       "      <td>2020-02-03__04_5755</td>\n",
       "      <td>linear</td>\n",
       "      <td>models/d57c545d-158d-4bd2-8474-1e3cc4eddf81/20...</td>\n",
       "      <td>0.001</td>\n",
       "      <td>True</td>\n",
       "      <td>20</td>\n",
       "      <td>64</td>\n",
       "    </tr>\n",
       "  </tbody>\n",
       "</table>\n",
       "</div>"
      ],
      "text/plain": [
       "            start_time             end_time activation  \\\n",
       "0  2020-02-03__04_0122  2020-02-03__04_0945       relu   \n",
       "1  2020-02-03__04_1019  2020-02-03__04_1851       relu   \n",
       "2  2020-02-03__04_2726  2020-02-03__04_3540       relu   \n",
       "3  2020-02-03__04_3621  2020-02-03__04_4436       relu   \n",
       "4  2020-02-03__04_4924  2020-02-03__04_5755     linear   \n",
       "\n",
       "                                      model_dir_path  learning_rate  dropout  \\\n",
       "0  models/d57c545d-158d-4bd2-8474-1e3cc4eddf81/20...          0.100    False   \n",
       "1  models/d57c545d-158d-4bd2-8474-1e3cc4eddf81/20...          0.010    False   \n",
       "2  models/d57c545d-158d-4bd2-8474-1e3cc4eddf81/20...          0.001    False   \n",
       "3  models/d57c545d-158d-4bd2-8474-1e3cc4eddf81/20...          0.001     True   \n",
       "4  models/d57c545d-158d-4bd2-8474-1e3cc4eddf81/20...          0.001     True   \n",
       "\n",
       "   epochs  batch_size  \n",
       "0      20          64  \n",
       "1      20          64  \n",
       "2      20          64  \n",
       "3      20          64  \n",
       "4      20          64  "
      ]
     },
     "execution_count": 32,
     "metadata": {},
     "output_type": "execute_result"
    }
   ],
   "source": [
    "training_log"
   ]
  },
  {
   "cell_type": "markdown",
   "metadata": {},
   "source": [
    "# Evaluation"
   ]
  },
  {
   "cell_type": "code",
   "execution_count": 35,
   "metadata": {},
   "outputs": [],
   "source": [
    "def run_evaluation(log_row):\n",
    "    model_dir_path = log_row.model_dir_path\n",
    "    learning_rate = log_row.learning_rate\n",
    "    activation = log_row.activation\n",
    "    model_metadata_file_path = pathlib.Path(\"..\", model_dir_path, \"metadata.json\")\n",
    "    model_metadata = io.read_metadata(str(model_metadata_file_path))\n",
    "    print(\n",
    "        \"batch_size:\", model_metadata[\"arguments\"][\"batch_size\"], \n",
    "        \"activation:\", model_metadata[\"arguments\"][\"epochs\"],\n",
    "        \"architecture:\", model_metadata[\"arguments\"][\"architecture\"],\n",
    "        \"dropout:\", model_metadata[\"arguments\"][\"dropout\"],\n",
    "    )\n",
    "    dropout = \"-dropout\" if model_metadata[\"arguments\"][\"dropout\"] else \"\"\n",
    "    history = model_metadata[\"history\"]\n",
    "    metrics_df = visualize.create_metrics_dataframe(history)\n",
    "    loss_plot = visualize.learning_curves(\"loss\", metrics_df)\n",
    "    visualize.save_plot(loss_plot, f\"../reports/figures/{species}-{activation}{dropout}_{learning_rate}.loss.svg\")\n",
    "    plt.clf()\n",
    "    accuracy_plot = visualize.learning_curves(\"accuracy\", metrics_df)\n",
    "    visualize.save_plot(accuracy_plot, f\"../reports/figures/{species}-{activation}{dropout}_{learning_rate}.accuracy.svg\")\n",
    "    plt.clf()"
   ]
  },
  {
   "cell_type": "code",
   "execution_count": 36,
   "metadata": {},
   "outputs": [
    {
     "name": "stdout",
     "output_type": "stream",
     "text": [
      "batch_size: 64 activation: 20 architecture: alexnet dropout: False\n",
      "batch_size: 64 activation: 20 architecture: alexnet dropout: False\n",
      "batch_size: 64 activation: 20 architecture: alexnet dropout: False\n",
      "batch_size: 64 activation: 20 architecture: alexnet dropout: True\n",
      "batch_size: 64 activation: 20 architecture: alexnet dropout: True\n"
     ]
    },
    {
     "data": {
      "text/plain": [
       "<Figure size 432x288 with 0 Axes>"
      ]
     },
     "metadata": {},
     "output_type": "display_data"
    }
   ],
   "source": [
    "for index, log_row in training_log.iterrows():\n",
    "    run_evaluation(log_row)"
   ]
  },
  {
   "cell_type": "markdown",
   "metadata": {},
   "source": [
    "## ReLU"
   ]
  },
  {
   "cell_type": "code",
   "execution_count": 8,
   "metadata": {},
   "outputs": [],
   "source": [
    "model_metadata_file_path = pathlib.Path(\"..\", training_logs[\"relu\"], \"metadata.json\")\n",
    "model_metadata = io.read_metadata(str(model_metadata_file_path))"
   ]
  },
  {
   "cell_type": "code",
   "execution_count": 9,
   "metadata": {
    "scrolled": true
   },
   "outputs": [
    {
     "data": {
      "text/plain": [
       "{'id': 'bdf2d925-484f-48ff-b071-62be7c3b6abb',\n",
       " 'start_time': '2020-02-03__00_5807',\n",
       " 'arguments': {'batch_size': 64,\n",
       "  'epochs': 20,\n",
       "  'monitor': 'val_loss',\n",
       "  'activation': 'relu',\n",
       "  'early_stopping': False,\n",
       "  'architecture': 'alexnet',\n",
       "  'dropout': False},\n",
       " 'dataset': {'id': 'bdf2d925-484f-48ff-b071-62be7c3b6abb',\n",
       "  'species': 'Potato',\n",
       "  'num_classes': 3,\n",
       "  'class_names': ['Potato___Early_blight',\n",
       "   'Potato___Late_blight',\n",
       "   'Potato___healthy'],\n",
       "  'created_date': '2020-02-02 18:49:05',\n",
       "  'file_counts': {'train': 1721, 'test': 215, 'eval': 216}},\n",
       " 'history': {'loss': [1.054021051296821,\n",
       "   0.6090362690962278,\n",
       "   0.43197257816791534,\n",
       "   0.390328175173356,\n",
       "   0.33017350332095075,\n",
       "   0.28245423705532,\n",
       "   0.21108631560435662,\n",
       "   0.15900450443419126,\n",
       "   0.13998620570279086,\n",
       "   0.08166714592908438,\n",
       "   0.22891520271794155,\n",
       "   0.12893597753002092,\n",
       "   0.18983718638236707,\n",
       "   0.09673012850376275,\n",
       "   0.07627422183465499,\n",
       "   0.0685034690854641,\n",
       "   0.0686329615732225,\n",
       "   0.04727202163149531,\n",
       "   0.04838213947816537,\n",
       "   0.05993238957419705],\n",
       "  'accuracy': [0.4657451808452606,\n",
       "   0.7506009340286255,\n",
       "   0.8575721383094788,\n",
       "   0.8665865659713745,\n",
       "   0.8768028616905212,\n",
       "   0.8960336446762085,\n",
       "   0.9284855723381042,\n",
       "   0.9399038553237915,\n",
       "   0.950120210647583,\n",
       "   0.9693509340286255,\n",
       "   0.917067289352417,\n",
       "   0.9573317170143127,\n",
       "   0.9393028616905212,\n",
       "   0.9699519276618958,\n",
       "   0.9741586446762085,\n",
       "   0.9723557829856873,\n",
       "   0.9723557829856873,\n",
       "   0.9837740659713745,\n",
       "   0.9789663553237915,\n",
       "   0.9777644276618958],\n",
       "  'val_loss': [0.8810105125109354,\n",
       "   0.49746103088061017,\n",
       "   0.5100177526473999,\n",
       "   0.40297752618789673,\n",
       "   0.3375240961710612,\n",
       "   0.2077349623044332,\n",
       "   0.25613562762737274,\n",
       "   0.2059484322865804,\n",
       "   0.09503352642059326,\n",
       "   0.1820842425028483,\n",
       "   0.16557507465283075,\n",
       "   0.13054086764653525,\n",
       "   0.1330037514368693,\n",
       "   0.1458141952753067,\n",
       "   0.10840284079313278,\n",
       "   0.11334471528728803,\n",
       "   0.12970476845900217,\n",
       "   0.14320088922977448,\n",
       "   0.08810755237936974,\n",
       "   0.30461732546488446],\n",
       "  'val_accuracy': [0.4739583432674408,\n",
       "   0.796875,\n",
       "   0.8072916865348816,\n",
       "   0.8229166865348816,\n",
       "   0.859375,\n",
       "   0.9114583134651184,\n",
       "   0.9010416865348816,\n",
       "   0.9270833134651184,\n",
       "   0.96875,\n",
       "   0.9270833134651184,\n",
       "   0.9479166865348816,\n",
       "   0.9427083134651184,\n",
       "   0.953125,\n",
       "   0.9322916865348816,\n",
       "   0.953125,\n",
       "   0.9479166865348816,\n",
       "   0.953125,\n",
       "   0.9635416865348816,\n",
       "   0.9635416865348816,\n",
       "   0.890625]}}"
      ]
     },
     "execution_count": 9,
     "metadata": {},
     "output_type": "execute_result"
    }
   ],
   "source": [
    "model_metadata"
   ]
  },
  {
   "cell_type": "code",
   "execution_count": 10,
   "metadata": {},
   "outputs": [],
   "source": [
    "history = model_metadata[\"history\"]"
   ]
  },
  {
   "cell_type": "code",
   "execution_count": 11,
   "metadata": {},
   "outputs": [],
   "source": [
    "metrics_df = visualize.create_metrics_dataframe(history)"
   ]
  },
  {
   "cell_type": "code",
   "execution_count": 12,
   "metadata": {},
   "outputs": [
    {
     "data": {
      "image/png": "[encoded data removed]",
      "text/plain": [
       "<Figure size 432x288 with 1 Axes>"
      ]
     },
     "metadata": {
      "needs_background": "light"
     },
     "output_type": "display_data"
    }
   ],
   "source": [
    "loss_plot = visualize.learning_curves(\"loss\", metrics_df)"
   ]
  },
  {
   "cell_type": "code",
   "execution_count": 13,
   "metadata": {},
   "outputs": [],
   "source": [
    "visualize.save_plot(loss_plot, f\"../reports/figures/{species}-relu.loss.png\")"
   ]
  },
  {
   "cell_type": "code",
   "execution_count": 14,
   "metadata": {},
   "outputs": [
    {
     "data": {
      "image/png": "[encoded data removed]",
      "text/plain": [
       "<Figure size 432x288 with 1 Axes>"
      ]
     },
     "metadata": {
      "needs_background": "light"
     },
     "output_type": "display_data"
    }
   ],
   "source": [
    "accuracy_plot = visualize.learning_curves(\"accuracy\", metrics_df)"
   ]
  },
  {
   "cell_type": "code",
   "execution_count": 15,
   "metadata": {},
   "outputs": [],
   "source": [
    "visualize.save_plot(accuracy_plot, f\"../reports/figures/{species}-relu.accuracy.png\")"
   ]
  },
  {
   "cell_type": "markdown",
   "metadata": {},
   "source": [
    "## ReLU with Dropout"
   ]
  },
  {
   "cell_type": "code",
   "execution_count": 16,
   "metadata": {},
   "outputs": [],
   "source": [
    "dropout_model_metadata_file_path = pathlib.Path(\"..\", training_logs[\"relu-dropout\"], \"metadata.json\")\n",
    "dropout_model_metadata = io.read_metadata(str(dropout_model_metadata_file_path))"
   ]
  },
  {
   "cell_type": "code",
   "execution_count": 17,
   "metadata": {
    "scrolled": true
   },
   "outputs": [
    {
     "data": {
      "text/plain": [
       "{'id': 'bdf2d925-484f-48ff-b071-62be7c3b6abb',\n",
       " 'start_time': '2020-02-03__00_5925',\n",
       " 'arguments': {'batch_size': 64,\n",
       "  'epochs': 20,\n",
       "  'monitor': 'val_loss',\n",
       "  'activation': 'relu',\n",
       "  'early_stopping': False,\n",
       "  'architecture': 'alexnet',\n",
       "  'dropout': True},\n",
       " 'dataset': {'id': 'bdf2d925-484f-48ff-b071-62be7c3b6abb',\n",
       "  'species': 'Potato',\n",
       "  'num_classes': 3,\n",
       "  'class_names': ['Potato___Early_blight',\n",
       "   'Potato___Late_blight',\n",
       "   'Potato___healthy'],\n",
       "  'created_date': '2020-02-02 18:49:05',\n",
       "  'file_counts': {'train': 1721, 'test': 215, 'eval': 216}},\n",
       " 'history': {'loss': [0.8824832829145285,\n",
       "   0.45843090460850644,\n",
       "   0.4229932404481448,\n",
       "   0.35738814220978665,\n",
       "   0.30848408203858596,\n",
       "   0.3431357867442645,\n",
       "   0.2773864882496687,\n",
       "   0.20663685351610184,\n",
       "   0.1650504072984824,\n",
       "   0.1792178311600135,\n",
       "   0.17240112905318922,\n",
       "   0.13800006503095993,\n",
       "   0.09619399264025,\n",
       "   0.15835563480280912,\n",
       "   0.14579115285036656,\n",
       "   0.10293847515892524,\n",
       "   0.062440800874565654,\n",
       "   0.04598576883570506,\n",
       "   0.07229865002087675,\n",
       "   0.0713566064189833],\n",
       "  'accuracy': [0.5955528616905212,\n",
       "   0.8443509340286255,\n",
       "   0.8605769276618958,\n",
       "   0.8810096383094788,\n",
       "   0.8852163553237915,\n",
       "   0.8840144276618958,\n",
       "   0.8930288553237915,\n",
       "   0.9278846383094788,\n",
       "   0.9489182829856873,\n",
       "   0.9332932829856873,\n",
       "   0.9441105723381042,\n",
       "   0.9549278616905212,\n",
       "   0.965745210647583,\n",
       "   0.9567307829856873,\n",
       "   0.9417067170143127,\n",
       "   0.9669471383094788,\n",
       "   0.9771634340286255,\n",
       "   0.9831730723381042,\n",
       "   0.9783653616905212,\n",
       "   0.9753605723381042],\n",
       "  'val_loss': [0.5544312198956808,\n",
       "   0.36307669679323834,\n",
       "   0.44526134928067523,\n",
       "   0.311236431201299,\n",
       "   0.2862285276254018,\n",
       "   0.2954856554667155,\n",
       "   0.21063273151715597,\n",
       "   0.1352504094441732,\n",
       "   0.16811117033163706,\n",
       "   0.32513569792111713,\n",
       "   0.25082133213679,\n",
       "   0.12005662421385448,\n",
       "   0.3351977815230687,\n",
       "   0.10824208954970042,\n",
       "   0.24013565480709076,\n",
       "   0.0707302875816822,\n",
       "   0.10547918577988942,\n",
       "   0.1589005539814631,\n",
       "   0.06872561573982239,\n",
       "   0.06827989220619202],\n",
       "  'val_accuracy': [0.8072916865348816,\n",
       "   0.875,\n",
       "   0.828125,\n",
       "   0.8854166865348816,\n",
       "   0.8958333134651184,\n",
       "   0.8802083134651184,\n",
       "   0.90625,\n",
       "   0.9583333134651184,\n",
       "   0.9479166865348816,\n",
       "   0.9010416865348816,\n",
       "   0.90625,\n",
       "   0.9583333134651184,\n",
       "   0.9166666865348816,\n",
       "   0.953125,\n",
       "   0.9114583134651184,\n",
       "   0.96875,\n",
       "   0.9791666865348816,\n",
       "   0.9479166865348816,\n",
       "   0.96875,\n",
       "   0.9791666865348816]}}"
      ]
     },
     "execution_count": 17,
     "metadata": {},
     "output_type": "execute_result"
    }
   ],
   "source": [
    "dropout_model_metadata"
   ]
  },
  {
   "cell_type": "code",
   "execution_count": 18,
   "metadata": {},
   "outputs": [],
   "source": [
    "dropout_history = dropout_model_metadata[\"history\"]"
   ]
  },
  {
   "cell_type": "code",
   "execution_count": 19,
   "metadata": {},
   "outputs": [],
   "source": [
    "dropout_metrics_df = visualize.create_metrics_dataframe(dropout_history)"
   ]
  },
  {
   "cell_type": "code",
   "execution_count": 20,
   "metadata": {},
   "outputs": [
    {
     "data": {
      "image/png": "[encoded data removed]",
      "text/plain": [
       "<Figure size 432x288 with 1 Axes>"
      ]
     },
     "metadata": {
      "needs_background": "light"
     },
     "output_type": "display_data"
    }
   ],
   "source": [
    "dropout_loss_plot = visualize.learning_curves(\"loss\", dropout_metrics_df)"
   ]
  },
  {
   "cell_type": "code",
   "execution_count": 21,
   "metadata": {},
   "outputs": [],
   "source": [
    "visualize.save_plot(dropout_loss_plot, f\"../reports/figures/{species}-relu-dropout.loss.png\")"
   ]
  },
  {
   "cell_type": "code",
   "execution_count": 22,
   "metadata": {},
   "outputs": [
    {
     "data": {
      "image/png": "[encoded data removed]",
      "text/plain": [
       "<Figure size 432x288 with 1 Axes>"
      ]
     },
     "metadata": {
      "needs_background": "light"
     },
     "output_type": "display_data"
    }
   ],
   "source": [
    "dropout_accuracy_plot = visualize.learning_curves(\"accuracy\", dropout_metrics_df)"
   ]
  },
  {
   "cell_type": "code",
   "execution_count": 23,
   "metadata": {},
   "outputs": [],
   "source": [
    "visualize.save_plot(dropout_accuracy_plot, f\"../reports/figures/{species}-relu.accuracy.png\")"
   ]
  },
  {
   "cell_type": "code",
   "execution_count": null,
   "metadata": {},
   "outputs": [],
   "source": []
  }
 ],
 "metadata": {
  "kernelspec": {
   "display_name": "Python 3",
   "language": "python",
   "name": "python3"
  },
  "language_info": {
   "codemirror_mode": {
    "name": "ipython",
    "version": 3
   },
   "file_extension": ".py",
   "mimetype": "text/x-python",
   "name": "python",
   "nbconvert_exporter": "python",
   "pygments_lexer": "ipython3",
   "version": "3.7.6"
  }
 },
 "nbformat": 4,
 "nbformat_minor": 4
}
