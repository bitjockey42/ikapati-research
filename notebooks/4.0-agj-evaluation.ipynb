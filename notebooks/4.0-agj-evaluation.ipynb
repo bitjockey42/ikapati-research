{
 "cells": [
  {
   "cell_type": "code",
   "execution_count": 1,
   "metadata": {},
   "outputs": [],
   "source": [
    "%load_ext autoreload\n",
    "%autoreload 2"
   ]
  },
  {
   "cell_type": "code",
   "execution_count": 2,
   "metadata": {},
   "outputs": [],
   "source": [
    "# !pip install -q git+https://github.com/tensorflow/docs\n",
    "\n",
    "import tensorflow_docs as tfdocs\n",
    "import tensorflow_docs.modeling\n",
    "import tensorflow_docs.plots"
   ]
  },
  {
   "cell_type": "code",
   "execution_count": 3,
   "metadata": {},
   "outputs": [],
   "source": [
    "import seaborn as sns\n",
    "import pandas as pd\n",
    "import numpy as np\n",
    "\n",
    "import pathlib\n",
    "import shutil\n",
    "import tempfile\n",
    "\n",
    "import tensorflow as tf"
   ]
  },
  {
   "cell_type": "code",
   "execution_count": 4,
   "metadata": {},
   "outputs": [],
   "source": [
    "logdir = pathlib.Path(tempfile.mkdtemp())/\"tensorboard_logs\"\n",
    "shutil.rmtree(logdir, ignore_errors=True)"
   ]
  },
  {
   "cell_type": "markdown",
   "metadata": {},
   "source": [
    "# Training\n",
    "\n",
    "Command used:\n",
    "\n",
    "```\n",
    "CUDA_VISIBLE_DEVICES=0 python src/models/train_model.py --epochs 100 --batch_size 64 --model_dir models --train data/processed/Tomato\n",
    "```"
   ]
  },
  {
   "cell_type": "code",
   "execution_count": 5,
   "metadata": {},
   "outputs": [],
   "source": [
    "from IPython import display\n",
    "from matplotlib import pyplot as plt\n",
    "%matplotlib inline"
   ]
  },
  {
   "cell_type": "code",
   "execution_count": 6,
   "metadata": {},
   "outputs": [],
   "source": [
    "from src.data import io\n",
    "from src.models.train_model import train, load_dataset"
   ]
  },
  {
   "cell_type": "code",
   "execution_count": 17,
   "metadata": {},
   "outputs": [
    {
     "name": "stdout",
     "output_type": "stream",
     "text": [
      "species: Potato - train_dir: ../data/processed/Potato - metadata_file_path: ../data/processed/Potato/metadata.json\n"
     ]
    }
   ],
   "source": [
    "species = \"Potato\"\n",
    "data_dir = pathlib.Path(\"../data/processed\")\n",
    "train_dir = data_dir.joinpath(species)\n",
    "model_dir = pathlib.Path(\"../models\")\n",
    "metadata_file_path = train_dir.joinpath(\"metadata.json\")\n",
    "\n",
    "print(f\"species: {species} - train_dir: {str(train_dir)} - metadata_file_path: {str(metadata_file_path)}\")"
   ]
  },
  {
   "cell_type": "code",
   "execution_count": 20,
   "metadata": {},
   "outputs": [
    {
     "name": "stdout",
     "output_type": "stream",
     "text": [
      "model_id: 5e3253d8-98c0-413f-ae94-bbd578500e78\n"
     ]
    }
   ],
   "source": [
    "metadata = io.read_metadata(str(metadata_file_path))\n",
    "model_id = metadata[\"id\"]\n",
    "print(f\"model_id: {model_id}\")"
   ]
  },
  {
   "cell_type": "code",
   "execution_count": 21,
   "metadata": {},
   "outputs": [],
   "source": [
    "batch_size = 32\n",
    "epochs = 20\n",
    "monitor = \"val_loss\""
   ]
  },
  {
   "cell_type": "code",
   "execution_count": 22,
   "metadata": {},
   "outputs": [
    {
     "name": "stdout",
     "output_type": "stream",
     "text": [
      "Model: \"sequential\"\n",
      "_________________________________________________________________\n",
      "Layer (type)                 Output Shape              Param #   \n",
      "=================================================================\n",
      "conv2d (Conv2D)              (None, 256, 256, 32)      896       \n",
      "_________________________________________________________________\n",
      "leaky_re_lu (LeakyReLU)      (None, 256, 256, 32)      0         \n",
      "_________________________________________________________________\n",
      "max_pooling2d (MaxPooling2D) (None, 128, 128, 32)      0         \n",
      "_________________________________________________________________\n",
      "dropout (Dropout)            (None, 128, 128, 32)      0         \n",
      "_________________________________________________________________\n",
      "conv2d_1 (Conv2D)            (None, 128, 128, 64)      18496     \n",
      "_________________________________________________________________\n",
      "leaky_re_lu_1 (LeakyReLU)    (None, 128, 128, 64)      0         \n",
      "_________________________________________________________________\n",
      "max_pooling2d_1 (MaxPooling2 (None, 64, 64, 64)        0         \n",
      "_________________________________________________________________\n",
      "dropout_1 (Dropout)          (None, 64, 64, 64)        0         \n",
      "_________________________________________________________________\n",
      "conv2d_2 (Conv2D)            (None, 64, 64, 128)       73856     \n",
      "_________________________________________________________________\n",
      "leaky_re_lu_2 (LeakyReLU)    (None, 64, 64, 128)       0         \n",
      "_________________________________________________________________\n",
      "max_pooling2d_2 (MaxPooling2 (None, 32, 32, 128)       0         \n",
      "_________________________________________________________________\n",
      "dropout_2 (Dropout)          (None, 32, 32, 128)       0         \n",
      "_________________________________________________________________\n",
      "flatten (Flatten)            (None, 131072)            0         \n",
      "_________________________________________________________________\n",
      "dense (Dense)                (None, 128)               16777344  \n",
      "_________________________________________________________________\n",
      "leaky_re_lu_3 (LeakyReLU)    (None, 128)               0         \n",
      "_________________________________________________________________\n",
      "dropout_3 (Dropout)          (None, 128)               0         \n",
      "_________________________________________________________________\n",
      "dense_1 (Dense)              (None, 3)                 387       \n",
      "=================================================================\n",
      "Total params: 16,870,979\n",
      "Trainable params: 16,870,979\n",
      "Non-trainable params: 0\n",
      "_________________________________________________________________\n",
      "Train for 40 steps, validate for 13 steps\n",
      "Epoch 1/20\n",
      " 1/40 [..............................] - ETA: 1:26 - loss: 1.0930 - accuracy: 0.4375WARNING:tensorflow:Method (on_train_batch_end) is slow compared to the batch update (0.117131). Check your callbacks.\n",
      "39/40 [============================>.] - ETA: 0s - loss: 1.1561 - accuracy: 0.7580\n",
      "Epoch: 0, accuracy:0.7594,  loss:1.1384,  val_accuracy:0.8510,  val_loss:0.3241,  \n",
      ".\n",
      "Epoch 00001: val_loss improved from inf to 0.32410, saving model to ../models/5e3253d8-98c0-413f-ae94-bbd578500e78/1.h5\n",
      "40/40 [==============================] - 7s 175ms/step - loss: 1.1384 - accuracy: 0.7594 - val_loss: 0.3241 - val_accuracy: 0.8510\n",
      "Epoch 2/20\n",
      "39/40 [============================>.] - ETA: 0s - loss: 0.2207 - accuracy: 0.9127.\n",
      "Epoch 00002: val_loss improved from 0.32410 to 0.14449, saving model to ../models/5e3253d8-98c0-413f-ae94-bbd578500e78/2.h5\n",
      "40/40 [==============================] - 5s 120ms/step - loss: 0.2196 - accuracy: 0.9133 - val_loss: 0.1445 - val_accuracy: 0.9519\n",
      "Epoch 3/20\n",
      "39/40 [============================>.] - ETA: 0s - loss: 0.1550 - accuracy: 0.9407.\n",
      "Epoch 00003: val_loss did not improve from 0.14449\n",
      "40/40 [==============================] - 4s 112ms/step - loss: 0.1537 - accuracy: 0.9414 - val_loss: 0.1762 - val_accuracy: 0.9255\n",
      "Epoch 4/20\n",
      "39/40 [============================>.] - ETA: 0s - loss: 0.1031 - accuracy: 0.9647.\n",
      "Epoch 00004: val_loss did not improve from 0.14449\n",
      "40/40 [==============================] - 5s 114ms/step - loss: 0.1069 - accuracy: 0.9641 - val_loss: 0.2719 - val_accuracy: 0.9111\n",
      "Epoch 5/20\n",
      "39/40 [============================>.] - ETA: 0s - loss: 0.0831 - accuracy: 0.9728.\n",
      "Epoch 00005: val_loss improved from 0.14449 to 0.13705, saving model to ../models/5e3253d8-98c0-413f-ae94-bbd578500e78/5.h5\n",
      "40/40 [==============================] - 5s 118ms/step - loss: 0.0812 - accuracy: 0.9734 - val_loss: 0.1371 - val_accuracy: 0.9567\n",
      "Epoch 6/20\n",
      "39/40 [============================>.] - ETA: 0s - loss: 0.0669 - accuracy: 0.9784.\n",
      "Epoch 00006: val_loss improved from 0.13705 to 0.07539, saving model to ../models/5e3253d8-98c0-413f-ae94-bbd578500e78/6.h5\n",
      "40/40 [==============================] - 5s 118ms/step - loss: 0.0653 - accuracy: 0.9789 - val_loss: 0.0754 - val_accuracy: 0.9712\n",
      "Epoch 7/20\n",
      "39/40 [============================>.] - ETA: 0s - loss: 0.0917 - accuracy: 0.9688.\n",
      "Epoch 00007: val_loss did not improve from 0.07539\n",
      "40/40 [==============================] - 5s 114ms/step - loss: 0.0921 - accuracy: 0.9680 - val_loss: 0.1233 - val_accuracy: 0.9495\n",
      "Epoch 8/20\n",
      "39/40 [============================>.] - ETA: 0s - loss: 0.0577 - accuracy: 0.9816.\n",
      "Epoch 00008: val_loss did not improve from 0.07539\n",
      "40/40 [==============================] - 5s 121ms/step - loss: 0.0571 - accuracy: 0.9820 - val_loss: 0.0863 - val_accuracy: 0.9591\n",
      "Epoch 9/20\n",
      "39/40 [============================>.] - ETA: 0s - loss: 0.0235 - accuracy: 0.9896.\n",
      "Epoch 00009: val_loss did not improve from 0.07539\n",
      "40/40 [==============================] - 5s 115ms/step - loss: 0.0234 - accuracy: 0.9898 - val_loss: 0.1554 - val_accuracy: 0.9471\n",
      "Epoch 10/20\n",
      "39/40 [============================>.] - ETA: 0s - loss: 0.0243 - accuracy: 0.9912.\n",
      "Epoch 00010: val_loss did not improve from 0.07539\n",
      "40/40 [==============================] - 5s 113ms/step - loss: 0.0238 - accuracy: 0.9914 - val_loss: 0.0990 - val_accuracy: 0.9688\n",
      "Epoch 11/20\n",
      "39/40 [============================>.] - ETA: 0s - loss: 0.0207 - accuracy: 0.9920.\n",
      "Epoch 00011: val_loss did not improve from 0.07539\n",
      "40/40 [==============================] - 5s 118ms/step - loss: 0.0205 - accuracy: 0.9922 - val_loss: 0.2221 - val_accuracy: 0.9327\n",
      "Epoch 00011: early stopping\n",
      "Write metadata for model\n"
     ]
    }
   ],
   "source": [
    "classifier, history, _ = train(str(train_dir), str(model_dir), batch_size, epochs, monitor)"
   ]
  },
  {
   "cell_type": "code",
   "execution_count": 35,
   "metadata": {},
   "outputs": [
    {
     "name": "stdout",
     "output_type": "stream",
     "text": [
      "Help on class HistoryPlotter in module tensorflow_docs.plots:\n",
      "\n",
      "class HistoryPlotter(builtins.object)\n",
      " |  HistoryPlotter(metric=None, smoothing_std=None)\n",
      " |  \n",
      " |  A class for plotting named set of keras-histories.\n",
      " |  \n",
      " |  The class maintains colors for each key from plot to plot.\n",
      " |  \n",
      " |  Methods defined here:\n",
      " |  \n",
      " |  __init__(self, metric=None, smoothing_std=None)\n",
      " |      Initialize self.  See help(type(self)) for accurate signature.\n",
      " |  \n",
      " |  plot(self, histories, metric=None, smoothing_std=None)\n",
      " |      Plots a {name: history} dictionary of keras histories.\n",
      " |      \n",
      " |      Colors are assigned to the name-key, and maintained from call to call.\n",
      " |      Training metrics are shown as a solid line, validation metrics dashed.\n",
      " |      \n",
      " |      Args:\n",
      " |        histories: {name: history} dictionary of keras histories.\n",
      " |        metric: which metric to plot from all the histories.\n",
      " |        smoothing_std: the standard-deviaation of the smoothing kernel applied\n",
      " |          before plotting. The units are in array-indices.\n",
      " |  \n",
      " |  ----------------------------------------------------------------------\n",
      " |  Data descriptors defined here:\n",
      " |  \n",
      " |  __dict__\n",
      " |      dictionary for instance variables (if defined)\n",
      " |  \n",
      " |  __weakref__\n",
      " |      list of weak references to the object (if defined)\n",
      "\n"
     ]
    }
   ],
   "source": [
    "help(tfdocs.plots.HistoryPlotter)"
   ]
  },
  {
   "cell_type": "code",
   "execution_count": 31,
   "metadata": {},
   "outputs": [
    {
     "data": {
      "text/plain": [
       "(11,)"
      ]
     },
     "execution_count": 31,
     "metadata": {},
     "output_type": "execute_result"
    }
   ],
   "source": [
    "np.array(history.history[\"loss\"]).shape"
   ]
  },
  {
   "cell_type": "code",
   "execution_count": 32,
   "metadata": {},
   "outputs": [
    {
     "data": {
      "text/plain": [
       "(11,)"
      ]
     },
     "execution_count": 32,
     "metadata": {},
     "output_type": "execute_result"
    }
   ],
   "source": [
    "np.array(history.history[\"val_loss\"]).shape"
   ]
  },
  {
   "cell_type": "code",
   "execution_count": 36,
   "metadata": {},
   "outputs": [],
   "source": [
    "plotter = tfdocs.plots.HistoryPlotter(metric = 'accuracy', smoothing_std=10)"
   ]
  },
  {
   "cell_type": "code",
   "execution_count": 37,
   "metadata": {},
   "outputs": [],
   "source": [
    "histories = {species: history}"
   ]
  },
  {
   "cell_type": "code",
   "execution_count": 50,
   "metadata": {},
   "outputs": [],
   "source": [
    "from tensorflow.keras.callbacks import History"
   ]
  },
  {
   "cell_type": "code",
   "execution_count": 38,
   "metadata": {},
   "outputs": [
    {
     "data": {
      "text/plain": [
       "[0, 1, 2, 3, 4, 5, 6, 7, 8, 9, 10]"
      ]
     },
     "execution_count": 38,
     "metadata": {},
     "output_type": "execute_result"
    }
   ],
   "source": [
    "history.epoch"
   ]
  },
  {
   "cell_type": "code",
   "execution_count": 48,
   "metadata": {},
   "outputs": [],
   "source": [
    "# https://chrisalbon.com/deep_learning/keras/visualize_loss_history/\n",
    "\n",
    "def plot_learning_curve(history, metric):\n",
    "    # Get training and test loss histories\n",
    "    training_loss = np.array(history.history[metric])\n",
    "    validation_loss = np.array(history.history[f\"val_{metric}\"])\n",
    "\n",
    "    # Visualize loss history\n",
    "    plt.plot(history.epoch, training_loss, 'r--')\n",
    "    plt.plot(history.epoch, validation_loss, 'b-')\n",
    "    plt.legend([f\"Training {metric}\", f\"Validation {metric}\"])\n",
    "    plt.xlabel(\"epoch\")\n",
    "    plt.ylabel(metric)\n",
    "    plt.show();"
   ]
  },
  {
   "cell_type": "code",
   "execution_count": 46,
   "metadata": {},
   "outputs": [
    {
     "data": {
      "image/png": "[encoded data removed]",
      "text/plain": [
       "<Figure size 432x288 with 1 Axes>"
      ]
     },
     "metadata": {
      "needs_background": "light"
     },
     "output_type": "display_data"
    }
   ],
   "source": [
    "plot_learning_curve(history, \"loss\")"
   ]
  },
  {
   "cell_type": "code",
   "execution_count": 47,
   "metadata": {},
   "outputs": [
    {
     "data": {
      "image/png": "[encoded data removed]",
      "text/plain": [
       "<Figure size 432x288 with 1 Axes>"
      ]
     },
     "metadata": {
      "needs_background": "light"
     },
     "output_type": "display_data"
    }
   ],
   "source": [
    "plot_learning_curve(history, \"accuracy\")"
   ]
  },
  {
   "cell_type": "code",
   "execution_count": 93,
   "metadata": {},
   "outputs": [],
   "source": [
    "import pandas as pd\n",
    "\n",
    "def create_metrics_for_dataset_type(history, dataset_type):\n",
    "    loss_key = \"loss\"\n",
    "    accuracy_key = \"accuracy\"\n",
    "    \n",
    "    if dataset_type == \"validation\":\n",
    "        loss_key = \"val_loss\"\n",
    "        accuracy_key = \"val_accuracy\"\n",
    "    \n",
    "    data = {\n",
    "        \"loss\": history.history[loss_key],\n",
    "        \"accuracy\": history.history[accuracy_key]\n",
    "    }\n",
    "    \n",
    "    df = pd.DataFrame(data)\n",
    "    df[\"epoch\"] = df.index\n",
    "    df[\"name\"] = dataset_type\n",
    "    \n",
    "    return df\n",
    "\n",
    "\n",
    "def create_metrics_dataframe(history):\n",
    "    training_df = create_metrics_for_dataset_type(history, \"train\")\n",
    "    validation_df = create_metrics_for_dataset_type(history, \"validation\")\n",
    "    df = pd.concat([training_df, validation_df])\n",
    "    df = df.reset_index()\n",
    "    return df"
   ]
  },
  {
   "cell_type": "code",
   "execution_count": 94,
   "metadata": {},
   "outputs": [],
   "source": [
    "metrics_df = create_metrics_dataframe(history)"
   ]
  },
  {
   "cell_type": "code",
   "execution_count": 95,
   "metadata": {},
   "outputs": [
    {
     "data": {
      "text/html": [
       "<div>\n",
       "<style scoped>\n",
       "    .dataframe tbody tr th:only-of-type {\n",
       "        vertical-align: middle;\n",
       "    }\n",
       "\n",
       "    .dataframe tbody tr th {\n",
       "        vertical-align: top;\n",
       "    }\n",
       "\n",
       "    .dataframe thead th {\n",
       "        text-align: right;\n",
       "    }\n",
       "</style>\n",
       "<table border=\"1\" class=\"dataframe\">\n",
       "  <thead>\n",
       "    <tr style=\"text-align: right;\">\n",
       "      <th></th>\n",
       "      <th>index</th>\n",
       "      <th>loss</th>\n",
       "      <th>accuracy</th>\n",
       "      <th>epoch</th>\n",
       "      <th>name</th>\n",
       "    </tr>\n",
       "  </thead>\n",
       "  <tbody>\n",
       "    <tr>\n",
       "      <th>0</th>\n",
       "      <td>0</td>\n",
       "      <td>1.138377</td>\n",
       "      <td>0.759375</td>\n",
       "      <td>0</td>\n",
       "      <td>train</td>\n",
       "    </tr>\n",
       "    <tr>\n",
       "      <th>1</th>\n",
       "      <td>1</td>\n",
       "      <td>0.219636</td>\n",
       "      <td>0.913281</td>\n",
       "      <td>1</td>\n",
       "      <td>train</td>\n",
       "    </tr>\n",
       "    <tr>\n",
       "      <th>2</th>\n",
       "      <td>2</td>\n",
       "      <td>0.153681</td>\n",
       "      <td>0.941406</td>\n",
       "      <td>2</td>\n",
       "      <td>train</td>\n",
       "    </tr>\n",
       "    <tr>\n",
       "      <th>3</th>\n",
       "      <td>3</td>\n",
       "      <td>0.106946</td>\n",
       "      <td>0.964063</td>\n",
       "      <td>3</td>\n",
       "      <td>train</td>\n",
       "    </tr>\n",
       "    <tr>\n",
       "      <th>4</th>\n",
       "      <td>4</td>\n",
       "      <td>0.081243</td>\n",
       "      <td>0.973437</td>\n",
       "      <td>4</td>\n",
       "      <td>train</td>\n",
       "    </tr>\n",
       "    <tr>\n",
       "      <th>5</th>\n",
       "      <td>5</td>\n",
       "      <td>0.065310</td>\n",
       "      <td>0.978906</td>\n",
       "      <td>5</td>\n",
       "      <td>train</td>\n",
       "    </tr>\n",
       "    <tr>\n",
       "      <th>6</th>\n",
       "      <td>6</td>\n",
       "      <td>0.092052</td>\n",
       "      <td>0.967969</td>\n",
       "      <td>6</td>\n",
       "      <td>train</td>\n",
       "    </tr>\n",
       "    <tr>\n",
       "      <th>7</th>\n",
       "      <td>7</td>\n",
       "      <td>0.057122</td>\n",
       "      <td>0.982031</td>\n",
       "      <td>7</td>\n",
       "      <td>train</td>\n",
       "    </tr>\n",
       "    <tr>\n",
       "      <th>8</th>\n",
       "      <td>8</td>\n",
       "      <td>0.023421</td>\n",
       "      <td>0.989844</td>\n",
       "      <td>8</td>\n",
       "      <td>train</td>\n",
       "    </tr>\n",
       "    <tr>\n",
       "      <th>9</th>\n",
       "      <td>9</td>\n",
       "      <td>0.023834</td>\n",
       "      <td>0.991406</td>\n",
       "      <td>9</td>\n",
       "      <td>train</td>\n",
       "    </tr>\n",
       "    <tr>\n",
       "      <th>10</th>\n",
       "      <td>10</td>\n",
       "      <td>0.020514</td>\n",
       "      <td>0.992188</td>\n",
       "      <td>10</td>\n",
       "      <td>train</td>\n",
       "    </tr>\n",
       "    <tr>\n",
       "      <th>11</th>\n",
       "      <td>0</td>\n",
       "      <td>0.324102</td>\n",
       "      <td>0.850962</td>\n",
       "      <td>0</td>\n",
       "      <td>validation</td>\n",
       "    </tr>\n",
       "    <tr>\n",
       "      <th>12</th>\n",
       "      <td>1</td>\n",
       "      <td>0.144488</td>\n",
       "      <td>0.951923</td>\n",
       "      <td>1</td>\n",
       "      <td>validation</td>\n",
       "    </tr>\n",
       "    <tr>\n",
       "      <th>13</th>\n",
       "      <td>2</td>\n",
       "      <td>0.176166</td>\n",
       "      <td>0.925481</td>\n",
       "      <td>2</td>\n",
       "      <td>validation</td>\n",
       "    </tr>\n",
       "    <tr>\n",
       "      <th>14</th>\n",
       "      <td>3</td>\n",
       "      <td>0.271855</td>\n",
       "      <td>0.911058</td>\n",
       "      <td>3</td>\n",
       "      <td>validation</td>\n",
       "    </tr>\n",
       "    <tr>\n",
       "      <th>15</th>\n",
       "      <td>4</td>\n",
       "      <td>0.137052</td>\n",
       "      <td>0.956731</td>\n",
       "      <td>4</td>\n",
       "      <td>validation</td>\n",
       "    </tr>\n",
       "    <tr>\n",
       "      <th>16</th>\n",
       "      <td>5</td>\n",
       "      <td>0.075386</td>\n",
       "      <td>0.971154</td>\n",
       "      <td>5</td>\n",
       "      <td>validation</td>\n",
       "    </tr>\n",
       "    <tr>\n",
       "      <th>17</th>\n",
       "      <td>6</td>\n",
       "      <td>0.123342</td>\n",
       "      <td>0.949519</td>\n",
       "      <td>6</td>\n",
       "      <td>validation</td>\n",
       "    </tr>\n",
       "    <tr>\n",
       "      <th>18</th>\n",
       "      <td>7</td>\n",
       "      <td>0.086331</td>\n",
       "      <td>0.959135</td>\n",
       "      <td>7</td>\n",
       "      <td>validation</td>\n",
       "    </tr>\n",
       "    <tr>\n",
       "      <th>19</th>\n",
       "      <td>8</td>\n",
       "      <td>0.155434</td>\n",
       "      <td>0.947115</td>\n",
       "      <td>8</td>\n",
       "      <td>validation</td>\n",
       "    </tr>\n",
       "    <tr>\n",
       "      <th>20</th>\n",
       "      <td>9</td>\n",
       "      <td>0.099016</td>\n",
       "      <td>0.968750</td>\n",
       "      <td>9</td>\n",
       "      <td>validation</td>\n",
       "    </tr>\n",
       "    <tr>\n",
       "      <th>21</th>\n",
       "      <td>10</td>\n",
       "      <td>0.222117</td>\n",
       "      <td>0.932692</td>\n",
       "      <td>10</td>\n",
       "      <td>validation</td>\n",
       "    </tr>\n",
       "  </tbody>\n",
       "</table>\n",
       "</div>"
      ],
      "text/plain": [
       "    index      loss  accuracy  epoch        name\n",
       "0       0  1.138377  0.759375      0       train\n",
       "1       1  0.219636  0.913281      1       train\n",
       "2       2  0.153681  0.941406      2       train\n",
       "3       3  0.106946  0.964063      3       train\n",
       "4       4  0.081243  0.973437      4       train\n",
       "5       5  0.065310  0.978906      5       train\n",
       "6       6  0.092052  0.967969      6       train\n",
       "7       7  0.057122  0.982031      7       train\n",
       "8       8  0.023421  0.989844      8       train\n",
       "9       9  0.023834  0.991406      9       train\n",
       "10     10  0.020514  0.992188     10       train\n",
       "11      0  0.324102  0.850962      0  validation\n",
       "12      1  0.144488  0.951923      1  validation\n",
       "13      2  0.176166  0.925481      2  validation\n",
       "14      3  0.271855  0.911058      3  validation\n",
       "15      4  0.137052  0.956731      4  validation\n",
       "16      5  0.075386  0.971154      5  validation\n",
       "17      6  0.123342  0.949519      6  validation\n",
       "18      7  0.086331  0.959135      7  validation\n",
       "19      8  0.155434  0.947115      8  validation\n",
       "20      9  0.099016  0.968750      9  validation\n",
       "21     10  0.222117  0.932692     10  validation"
      ]
     },
     "execution_count": 95,
     "metadata": {},
     "output_type": "execute_result"
    }
   ],
   "source": [
    "metrics_df"
   ]
  },
  {
   "cell_type": "code",
   "execution_count": 96,
   "metadata": {},
   "outputs": [
    {
     "data": {
      "text/plain": [
       "<matplotlib.axes._subplots.AxesSubplot at 0x7f3ed254ed50>"
      ]
     },
     "execution_count": 96,
     "metadata": {},
     "output_type": "execute_result"
    },
    {
     "data": {
      "image/png": "[encoded data removed]",
      "text/plain": [
       "<Figure size 432x288 with 1 Axes>"
      ]
     },
     "metadata": {
      "needs_background": "light"
     },
     "output_type": "display_data"
    }
   ],
   "source": [
    "sns.lineplot(x=\"epoch\", y=\"loss\", hue=\"name\", data=metrics_df, legend=\"full\")"
   ]
  },
  {
   "cell_type": "code",
   "execution_count": 102,
   "metadata": {},
   "outputs": [],
   "source": [
    "from src.visualization import visualize"
   ]
  },
  {
   "cell_type": "code",
   "execution_count": 104,
   "metadata": {},
   "outputs": [],
   "source": [
    "metrics_df = visualize.create_metrics_dataframe(history.history)"
   ]
  },
  {
   "cell_type": "code",
   "execution_count": 105,
   "metadata": {},
   "outputs": [
    {
     "data": {
      "text/plain": [
       "<matplotlib.axes._subplots.AxesSubplot at 0x7f3ed2be0e10>"
      ]
     },
     "execution_count": 105,
     "metadata": {},
     "output_type": "execute_result"
    },
    {
     "data": {
      "image/png": "[encoded data removed]",
      "text/plain": [
       "<Figure size 432x288 with 1 Axes>"
      ]
     },
     "metadata": {
      "needs_background": "light"
     },
     "output_type": "display_data"
    }
   ],
   "source": [
    "visualize.learning_curves(\"loss\", metrics_df)"
   ]
  },
  {
   "cell_type": "code",
   "execution_count": 106,
   "metadata": {},
   "outputs": [
    {
     "data": {
      "text/plain": [
       "<matplotlib.axes._subplots.AxesSubplot at 0x7f3ed25ff050>"
      ]
     },
     "execution_count": 106,
     "metadata": {},
     "output_type": "execute_result"
    },
    {
     "data": {
      "image/png": "[encoded data removed]",
      "text/plain": [
       "<Figure size 432x288 with 1 Axes>"
      ]
     },
     "metadata": {
      "needs_background": "light"
     },
     "output_type": "display_data"
    }
   ],
   "source": [
    "visualize.learning_curves(\"accuracy\", metrics_df)"
   ]
  },
  {
   "cell_type": "markdown",
   "metadata": {},
   "source": [
    "# Evaluation - Top Model\n",
    "\n",
    "- **MODEL_ID** `9d01c36a-5654-4858-8343-e9b923b9bfc5`\n",
    "- **EPOCH** `7`\n",
    "\n",
    "On training and cross-validation datasets:\n",
    "\n",
    "```\n",
    "loss: 0.1227 - accuracy: 0.9583 - val_loss: 0.2684 - val_accuracy: 0.9219\n",
    "```\n",
    "\n",
    "On test dataset:\n",
    "\n",
    "```\n",
    "loss: 0.2630712818354368 - accuracy: 0.92578125 \n",
    "```"
   ]
  },
  {
   "cell_type": "code",
   "execution_count": 22,
   "metadata": {},
   "outputs": [
    {
     "name": "stdout",
     "output_type": "stream",
     "text": [
      "9d01c36a-5654-4858-8343-e9b923b9bfc5 3.h5\n",
      "loss: 0.33715570425348623 - accuracy: 0.8844866 \n",
      "\n",
      "9d01c36a-5654-4858-8343-e9b923b9bfc5 7.h5\n",
      "loss: 0.2630712818354368 - accuracy: 0.92578125 \n",
      "\n",
      "9d01c36a-5654-4858-8343-e9b923b9bfc5 final.h5\n",
      "loss: 0.361284109630755 - accuracy: 0.91657364 \n",
      "\n",
      "9d01c36a-5654-4858-8343-e9b923b9bfc5 2.h5\n",
      "loss: 0.43175008893013 - accuracy: 0.8523995 \n",
      "\n",
      "9d01c36a-5654-4858-8343-e9b923b9bfc5 1.h5\n",
      "loss: 0.5357408262789249 - accuracy: 0.82561386 \n",
      "\n",
      "9d01c36a-5654-4858-8343-e9b923b9bfc5 6.h5\n",
      "loss: 0.3111253138631582 - accuracy: 0.906808 \n",
      "\n"
     ]
    }
   ],
   "source": [
    "for model_path in model_dir.glob(\"*.h5\"):\n",
    "    model_file_path = str(model_path)\n",
    "    print(model_path.parent.name, model_path.name)\n",
    "    model = tf.keras.models.load_model(model_file_path)\n",
    "    loss, acc = evaluate(model, test_dataset, batch_size, metadata[\"file_counts\"][\"test\"])\n",
    "    print(\"loss:\", loss, \"-\", \"accuracy:\", acc, \"\\n\")"
   ]
  },
  {
   "cell_type": "code",
   "execution_count": null,
   "metadata": {},
   "outputs": [],
   "source": []
  }
 ],
 "metadata": {
  "kernelspec": {
   "display_name": "Python 3",
   "language": "python",
   "name": "python3"
  },
  "language_info": {
   "codemirror_mode": {
    "name": "ipython",
    "version": 3
   },
   "file_extension": ".py",
   "mimetype": "text/x-python",
   "name": "python",
   "nbconvert_exporter": "python",
   "pygments_lexer": "ipython3",
   "version": "3.7.6"
  }
 },
 "nbformat": 4,
 "nbformat_minor": 4
}
