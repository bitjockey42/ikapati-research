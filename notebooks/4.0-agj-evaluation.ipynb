{
 "cells": [
  {
   "cell_type": "code",
   "execution_count": 1,
   "metadata": {},
   "outputs": [],
   "source": [
    "%load_ext autoreload\n",
    "%autoreload 2"
   ]
  },
  {
   "cell_type": "markdown",
   "metadata": {},
   "source": [
    "# Training\n",
    "\n",
    "Command used:\n",
    "\n",
    "```\n",
    "CUDA_VISIBLE_DEVICES=0 python src/models/train_model.py --epochs 100 --batch_size 64 --model_dir models --train data/processed/Tomato\n",
    "```"
   ]
  },
  {
   "cell_type": "code",
   "execution_count": 2,
   "metadata": {},
   "outputs": [],
   "source": [
    "from IPython import display\n",
    "from matplotlib import pyplot as plt\n",
    "\n",
    "import numpy as np\n",
    "\n",
    "import pathlib\n",
    "import shutil\n",
    "import tempfile\n",
    "\n",
    "import tensorflow as tf"
   ]
  },
  {
   "cell_type": "code",
   "execution_count": 23,
   "metadata": {},
   "outputs": [],
   "source": [
    "from src.data import io\n",
    "from src.models.train_model import train, _load_dataset, evaluate"
   ]
  },
  {
   "cell_type": "code",
   "execution_count": 24,
   "metadata": {},
   "outputs": [],
   "source": [
    "metadata = io.read_metadata(\"../data/processed/Tomato/metadata.json\")\n",
    "model_id = metadata[\"id\"]"
   ]
  },
  {
   "cell_type": "code",
   "execution_count": 25,
   "metadata": {},
   "outputs": [],
   "source": [
    "model_dir = pathlib.Path(\"../models\", model_id)\n",
    "train_dir = pathlib.Path(\"../data/processed/Tomato/\")\n",
    "batch_size = 64\n",
    "epochs = 100\n",
    "monitor = \"val_loss\""
   ]
  },
  {
   "cell_type": "code",
   "execution_count": 22,
   "metadata": {},
   "outputs": [
    {
     "name": "stdout",
     "output_type": "stream",
     "text": [
      "9d01c36a-5654-4858-8343-e9b923b9bfc5 3.h5\n",
      "loss: 0.33715570425348623 - accuracy: 0.8844866 \n",
      "\n",
      "9d01c36a-5654-4858-8343-e9b923b9bfc5 7.h5\n",
      "loss: 0.2630712818354368 - accuracy: 0.92578125 \n",
      "\n",
      "9d01c36a-5654-4858-8343-e9b923b9bfc5 final.h5\n",
      "loss: 0.361284109630755 - accuracy: 0.91657364 \n",
      "\n",
      "9d01c36a-5654-4858-8343-e9b923b9bfc5 2.h5\n",
      "loss: 0.43175008893013 - accuracy: 0.8523995 \n",
      "\n",
      "9d01c36a-5654-4858-8343-e9b923b9bfc5 1.h5\n",
      "loss: 0.5357408262789249 - accuracy: 0.82561386 \n",
      "\n",
      "9d01c36a-5654-4858-8343-e9b923b9bfc5 6.h5\n",
      "loss: 0.3111253138631582 - accuracy: 0.906808 \n",
      "\n"
     ]
    }
   ],
   "source": [
    "for model_path in model_dir.glob(\"*.h5\"):\n",
    "    model_file_path = str(model_path)\n",
    "    print(model_path.parent.name, model_path.name)\n",
    "    model = tf.keras.models.load_model(model_file_path)\n",
    "    loss, acc = evaluate(model, test_dataset, batch_size, metadata[\"file_counts\"][\"test\"])\n",
    "    print(\"loss:\", loss, \"-\", \"accuracy:\", acc, \"\\n\")"
   ]
  },
  {
   "cell_type": "markdown",
   "metadata": {},
   "source": [
    "# Evaluation - Top Model\n",
    "\n",
    "- **MODEL_ID** `9d01c36a-5654-4858-8343-e9b923b9bfc5`\n",
    "- **EPOCH** `7`\n",
    "\n",
    "On training and cross-validation datasets:\n",
    "\n",
    "```\n",
    "loss: 0.1227 - accuracy: 0.9583 - val_loss: 0.2684 - val_accuracy: 0.9219\n",
    "```\n",
    "\n",
    "On test dataset:\n",
    "\n",
    "```\n",
    "loss: 0.2630712818354368 - accuracy: 0.92578125 \n",
    "```"
   ]
  },
  {
   "cell_type": "code",
   "execution_count": null,
   "metadata": {},
   "outputs": [],
   "source": []
  }
 ],
 "metadata": {
  "kernelspec": {
   "display_name": "Python 3",
   "language": "python",
   "name": "python3"
  },
  "language_info": {
   "codemirror_mode": {
    "name": "ipython",
    "version": 3
   },
   "file_extension": ".py",
   "mimetype": "text/x-python",
   "name": "python",
   "nbconvert_exporter": "python",
   "pygments_lexer": "ipython3",
   "version": "3.7.6"
  }
 },
 "nbformat": 4,
 "nbformat_minor": 4
}
