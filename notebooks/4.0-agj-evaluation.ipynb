{
 "cells": [
  {
   "cell_type": "code",
   "execution_count": 1,
   "metadata": {},
   "outputs": [],
   "source": [
    "%load_ext autoreload\n",
    "%autoreload 2"
   ]
  },
  {
   "cell_type": "markdown",
   "metadata": {},
   "source": [
    "# Training\n",
    "\n",
    "Command used:\n",
    "\n",
    "```\n",
    "CUDA_VISIBLE_DEVICES=0 python src/models/train_model.py --epochs 100 --batch_size 64 --model_dir models --train data/processed/Tomato\n",
    "```"
   ]
  },
  {
   "cell_type": "code",
   "execution_count": 26,
   "metadata": {},
   "outputs": [],
   "source": [
    "from IPython import display\n",
    "from matplotlib import pyplot as plt\n",
    "%matplotlib inline"
   ]
  },
  {
   "cell_type": "code",
   "execution_count": 29,
   "metadata": {},
   "outputs": [],
   "source": [
    "import seaborn as sns\n",
    "import pandas as pd\n",
    "import numpy as np\n",
    "\n",
    "import pathlib\n",
    "import shutil\n",
    "import tempfile\n",
    "\n",
    "import tensorflow as tf"
   ]
  },
  {
   "cell_type": "code",
   "execution_count": 4,
   "metadata": {},
   "outputs": [],
   "source": [
    "from src.data import io\n",
    "from src.models.train_model import train, load_dataset"
   ]
  },
  {
   "cell_type": "code",
   "execution_count": 5,
   "metadata": {},
   "outputs": [],
   "source": [
    "metadata = io.read_metadata(\"../data/processed/Corn/metadata.json\")\n",
    "model_id = metadata[\"id\"]"
   ]
  },
  {
   "cell_type": "code",
   "execution_count": 7,
   "metadata": {},
   "outputs": [],
   "source": [
    "model_dir = pathlib.Path(\"../models\")\n",
    "train_dir = pathlib.Path(\"../data/processed/Corn/\")\n",
    "batch_size = 32\n",
    "epochs = 20\n",
    "monitor = \"val_loss\""
   ]
  },
  {
   "cell_type": "code",
   "execution_count": 8,
   "metadata": {},
   "outputs": [
    {
     "name": "stdout",
     "output_type": "stream",
     "text": [
      "Model: \"sequential\"\n",
      "_________________________________________________________________\n",
      "Layer (type)                 Output Shape              Param #   \n",
      "=================================================================\n",
      "conv2d (Conv2D)              (None, 256, 256, 32)      896       \n",
      "_________________________________________________________________\n",
      "leaky_re_lu (LeakyReLU)      (None, 256, 256, 32)      0         \n",
      "_________________________________________________________________\n",
      "max_pooling2d (MaxPooling2D) (None, 128, 128, 32)      0         \n",
      "_________________________________________________________________\n",
      "dropout (Dropout)            (None, 128, 128, 32)      0         \n",
      "_________________________________________________________________\n",
      "conv2d_1 (Conv2D)            (None, 128, 128, 64)      18496     \n",
      "_________________________________________________________________\n",
      "leaky_re_lu_1 (LeakyReLU)    (None, 128, 128, 64)      0         \n",
      "_________________________________________________________________\n",
      "max_pooling2d_1 (MaxPooling2 (None, 64, 64, 64)        0         \n",
      "_________________________________________________________________\n",
      "dropout_1 (Dropout)          (None, 64, 64, 64)        0         \n",
      "_________________________________________________________________\n",
      "conv2d_2 (Conv2D)            (None, 64, 64, 128)       73856     \n",
      "_________________________________________________________________\n",
      "leaky_re_lu_2 (LeakyReLU)    (None, 64, 64, 128)       0         \n",
      "_________________________________________________________________\n",
      "max_pooling2d_2 (MaxPooling2 (None, 32, 32, 128)       0         \n",
      "_________________________________________________________________\n",
      "dropout_2 (Dropout)          (None, 32, 32, 128)       0         \n",
      "_________________________________________________________________\n",
      "flatten (Flatten)            (None, 131072)            0         \n",
      "_________________________________________________________________\n",
      "dense (Dense)                (None, 128)               16777344  \n",
      "_________________________________________________________________\n",
      "leaky_re_lu_3 (LeakyReLU)    (None, 128)               0         \n",
      "_________________________________________________________________\n",
      "dropout_3 (Dropout)          (None, 128)               0         \n",
      "_________________________________________________________________\n",
      "dense_1 (Dense)              (None, 4)                 516       \n",
      "=================================================================\n",
      "Total params: 16,871,108\n",
      "Trainable params: 16,871,108\n",
      "Non-trainable params: 0\n",
      "_________________________________________________________________\n",
      "Train for 47 steps, validate for 15 steps\n",
      "Epoch 1/20\n",
      "46/47 [============================>.] - ETA: 0s - loss: 0.6484 - accuracy: 0.7520\n",
      "Epoch 00001: val_loss improved from inf to 0.35671, saving model to ../models/f2fe0505-be44-4162-be1a-2f9258fb4537/1.h5\n",
      "47/47 [==============================] - 7s 154ms/step - loss: 0.6419 - accuracy: 0.7533 - val_loss: 0.3567 - val_accuracy: 0.8396\n",
      "Epoch 2/20\n",
      "46/47 [============================>.] - ETA: 0s - loss: 0.3193 - accuracy: 0.8573\n",
      "Epoch 00002: val_loss improved from 0.35671 to 0.25567, saving model to ../models/f2fe0505-be44-4162-be1a-2f9258fb4537/2.h5\n",
      "47/47 [==============================] - 5s 114ms/step - loss: 0.3162 - accuracy: 0.8590 - val_loss: 0.2557 - val_accuracy: 0.8792\n",
      "Epoch 3/20\n",
      "46/47 [============================>.] - ETA: 0s - loss: 0.2487 - accuracy: 0.8974\n",
      "Epoch 00003: val_loss did not improve from 0.25567\n",
      "47/47 [==============================] - 5s 105ms/step - loss: 0.2466 - accuracy: 0.8976 - val_loss: 0.2756 - val_accuracy: 0.8875\n",
      "Epoch 4/20\n",
      "46/47 [============================>.] - ETA: 0s - loss: 0.1785 - accuracy: 0.9300\n",
      "Epoch 00004: val_loss improved from 0.25567 to 0.22881, saving model to ../models/f2fe0505-be44-4162-be1a-2f9258fb4537/4.h5\n",
      "47/47 [==============================] - 5s 113ms/step - loss: 0.1770 - accuracy: 0.9302 - val_loss: 0.2288 - val_accuracy: 0.9229\n",
      "Epoch 5/20\n",
      "46/47 [============================>.] - ETA: 0s - loss: 0.1310 - accuracy: 0.9477\n",
      "Epoch 00005: val_loss did not improve from 0.22881\n",
      "47/47 [==============================] - 5s 108ms/step - loss: 0.1365 - accuracy: 0.9461 - val_loss: 0.2610 - val_accuracy: 0.8979\n",
      "Epoch 6/20\n",
      "46/47 [============================>.] - ETA: 0s - loss: 0.0993 - accuracy: 0.9654\n",
      "Epoch 00006: val_loss did not improve from 0.22881\n",
      "47/47 [==============================] - 5s 107ms/step - loss: 0.0976 - accuracy: 0.9661 - val_loss: 0.2305 - val_accuracy: 0.9167\n",
      "Epoch 7/20\n",
      "46/47 [============================>.] - ETA: 0s - loss: 0.0705 - accuracy: 0.9755\n",
      "Epoch 00007: val_loss did not improve from 0.22881\n",
      "47/47 [==============================] - 5s 107ms/step - loss: 0.0709 - accuracy: 0.9754 - val_loss: 0.2915 - val_accuracy: 0.9125\n",
      "Epoch 8/20\n",
      "46/47 [============================>.] - ETA: 0s - loss: 0.0393 - accuracy: 0.9837\n",
      "Epoch 00008: val_loss did not improve from 0.22881\n",
      "47/47 [==============================] - 5s 107ms/step - loss: 0.0386 - accuracy: 0.9840 - val_loss: 0.2657 - val_accuracy: 0.9167\n",
      "Epoch 9/20\n",
      "46/47 [============================>.] - ETA: 0s - loss: 0.0397 - accuracy: 0.9823\n",
      "Epoch 00009: val_loss did not improve from 0.22881\n",
      "47/47 [==============================] - 5s 106ms/step - loss: 0.0394 - accuracy: 0.9827 - val_loss: 0.3757 - val_accuracy: 0.8958\n",
      "Epoch 00009: early stopping\n",
      "Write metadata for model\n"
     ]
    }
   ],
   "source": [
    "classifier, history, model_id = train(str(train_dir), str(model_dir), batch_size, epochs, monitor)"
   ]
  },
  {
   "cell_type": "code",
   "execution_count": 20,
   "metadata": {
    "scrolled": true
   },
   "outputs": [],
   "source": [
    "import json"
   ]
  },
  {
   "cell_type": "code",
   "execution_count": 21,
   "metadata": {},
   "outputs": [],
   "source": [
    "class NumpyEncoder(json.JSONEncoder):\n",
    "    def default(self, obj):\n",
    "        if isinstance(obj, np.integer):\n",
    "            return int(obj)\n",
    "        elif isinstance(obj, np.floating):\n",
    "            return float(obj)\n",
    "        elif isinstance(obj, np.ndarray):\n",
    "            return obj.tolist()\n",
    "        else:\n",
    "            return super(NumpyEncoder, self).default(obj)"
   ]
  },
  {
   "cell_type": "code",
   "execution_count": 22,
   "metadata": {},
   "outputs": [],
   "source": [
    "with open(\"history.json\", \"w\") as history_file:\n",
    "    json.dump(history.history, history_file, cls=NumpyEncoder)"
   ]
  },
  {
   "cell_type": "code",
   "execution_count": 23,
   "metadata": {},
   "outputs": [],
   "source": [
    "with open(\"history.json\") as history_file:\n",
    "    history_data = json.load(history_file)"
   ]
  },
  {
   "cell_type": "code",
   "execution_count": 24,
   "metadata": {},
   "outputs": [
    {
     "data": {
      "text/plain": [
       "{'loss': [0.6418936791572165,\n",
       "  0.31619460579562697,\n",
       "  0.24661931680872085,\n",
       "  0.17701310775381454,\n",
       "  0.136455616497613,\n",
       "  0.09759435410353731,\n",
       "  0.07091106105833611,\n",
       "  0.03864515390794506,\n",
       "  0.039359029388659574],\n",
       " 'accuracy': [0.7533244490623474,\n",
       "  0.8590425252914429,\n",
       "  0.897606372833252,\n",
       "  0.9301861524581909,\n",
       "  0.946143627166748,\n",
       "  0.9660904407501221,\n",
       "  0.9753989577293396,\n",
       "  0.9840425252914429,\n",
       "  0.9827127456665039],\n",
       " 'val_loss': [0.3567117472489675,\n",
       "  0.2556653946638107,\n",
       "  0.27561621020237603,\n",
       "  0.22881190329790116,\n",
       "  0.26098216623067855,\n",
       "  0.23047105222940445,\n",
       "  0.29146513640880584,\n",
       "  0.26565752079089483,\n",
       "  0.37567628007382153],\n",
       " 'val_accuracy': [0.8395833373069763,\n",
       "  0.8791666626930237,\n",
       "  0.887499988079071,\n",
       "  0.9229166507720947,\n",
       "  0.8979166746139526,\n",
       "  0.9166666865348816,\n",
       "  0.9125000238418579,\n",
       "  0.9166666865348816,\n",
       "  0.8958333134651184]}"
      ]
     },
     "execution_count": 24,
     "metadata": {},
     "output_type": "execute_result"
    }
   ],
   "source": [
    "history_data"
   ]
  },
  {
   "cell_type": "code",
   "execution_count": 30,
   "metadata": {},
   "outputs": [
    {
     "data": {
      "image/png": "[encoded data removed]",
      "text/plain": [
       "<Figure size 432x288 with 1 Axes>"
      ]
     },
     "metadata": {
      "needs_background": "light"
     },
     "output_type": "display_data"
    }
   ],
   "source": [
    "# https://chrisalbon.com/deep_learning/keras/visualize_loss_history/\n",
    "\n",
    "# Get training and test loss histories\n",
    "training_loss = history.history['loss']\n",
    "test_loss = history.history['val_loss']\n",
    "\n",
    "# Create count of the number of epochs\n",
    "epoch_count = range(1, len(training_loss) + 1)\n",
    "\n",
    "# Visualize loss history\n",
    "plt.plot(epoch_count, training_loss, 'r--')\n",
    "plt.plot(epoch_count, test_loss, 'b-')\n",
    "plt.legend(['Training Loss', 'Test Loss'])\n",
    "plt.xlabel('Epoch')\n",
    "plt.ylabel('Loss')\n",
    "plt.show();"
   ]
  },
  {
   "cell_type": "markdown",
   "metadata": {},
   "source": [
    "# Evaluation - Top Model\n",
    "\n",
    "- **MODEL_ID** `9d01c36a-5654-4858-8343-e9b923b9bfc5`\n",
    "- **EPOCH** `7`\n",
    "\n",
    "On training and cross-validation datasets:\n",
    "\n",
    "```\n",
    "loss: 0.1227 - accuracy: 0.9583 - val_loss: 0.2684 - val_accuracy: 0.9219\n",
    "```\n",
    "\n",
    "On test dataset:\n",
    "\n",
    "```\n",
    "loss: 0.2630712818354368 - accuracy: 0.92578125 \n",
    "```"
   ]
  },
  {
   "cell_type": "code",
   "execution_count": 22,
   "metadata": {},
   "outputs": [
    {
     "name": "stdout",
     "output_type": "stream",
     "text": [
      "9d01c36a-5654-4858-8343-e9b923b9bfc5 3.h5\n",
      "loss: 0.33715570425348623 - accuracy: 0.8844866 \n",
      "\n",
      "9d01c36a-5654-4858-8343-e9b923b9bfc5 7.h5\n",
      "loss: 0.2630712818354368 - accuracy: 0.92578125 \n",
      "\n",
      "9d01c36a-5654-4858-8343-e9b923b9bfc5 final.h5\n",
      "loss: 0.361284109630755 - accuracy: 0.91657364 \n",
      "\n",
      "9d01c36a-5654-4858-8343-e9b923b9bfc5 2.h5\n",
      "loss: 0.43175008893013 - accuracy: 0.8523995 \n",
      "\n",
      "9d01c36a-5654-4858-8343-e9b923b9bfc5 1.h5\n",
      "loss: 0.5357408262789249 - accuracy: 0.82561386 \n",
      "\n",
      "9d01c36a-5654-4858-8343-e9b923b9bfc5 6.h5\n",
      "loss: 0.3111253138631582 - accuracy: 0.906808 \n",
      "\n"
     ]
    }
   ],
   "source": [
    "for model_path in model_dir.glob(\"*.h5\"):\n",
    "    model_file_path = str(model_path)\n",
    "    print(model_path.parent.name, model_path.name)\n",
    "    model = tf.keras.models.load_model(model_file_path)\n",
    "    loss, acc = evaluate(model, test_dataset, batch_size, metadata[\"file_counts\"][\"test\"])\n",
    "    print(\"loss:\", loss, \"-\", \"accuracy:\", acc, \"\\n\")"
   ]
  },
  {
   "cell_type": "code",
   "execution_count": null,
   "metadata": {},
   "outputs": [],
   "source": []
  }
 ],
 "metadata": {
  "kernelspec": {
   "display_name": "Python 3",
   "language": "python",
   "name": "python3"
  },
  "language_info": {
   "codemirror_mode": {
    "name": "ipython",
    "version": 3
   },
   "file_extension": ".py",
   "mimetype": "text/x-python",
   "name": "python",
   "nbconvert_exporter": "python",
   "pygments_lexer": "ipython3",
   "version": "3.7.6"
  }
 },
 "nbformat": 4,
 "nbformat_minor": 4
}
